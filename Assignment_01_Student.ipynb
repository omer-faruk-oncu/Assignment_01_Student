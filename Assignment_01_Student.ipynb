{
 "cells": [
  {
   "cell_type": "markdown",
   "metadata": {
    "id": "fepd5K3rAd-n"
   },
   "source": [
    "___\n",
    "\n",
    "<p style=\"text-align: center;\"><img src=\"https://docs.google.com/uc?id=1lY0Uj5R04yMY3-ZppPWxqCr5pvBLYPnV\" class=\"img-fluid\"\n",
    "alt=\"CLRSWY\"></p>\n",
    "\n",
    "## <p style=\"background-color:#FDFEFE; font-family:newtimeroman; color:#9d4f8c; font-size:100%; text-align:center; border-radius:10px 10px;\">WAY TO REINVENT YOURSELF</p>\n",
    "\n",
    "## <p style=\"background-color:#FDFEFE; font-family:newtimeroman; color:#060108; font-size:200%; text-align:center; border-radius:10px 10px;\">Data Analysis with Python</p>\n",
    "\n",
    "![Image_Assignment](https://i.ibb.co/cY9HhF7/bnote-assignment.gif)\n",
    "\n",
    "## <p style=\"background-color:#FDFEFE; font-family:newtimeroman; color:#4d77cf; font-size:200%; text-align:center; border-radius:10px 10px;\">Assignment 01 (NumPy & Pandas Basics)</p>"
   ]
  },
  {
   "cell_type": "markdown",
   "metadata": {
    "id": "2hCaqzd9bbDw"
   },
   "source": [
    "<a id=\"toc\"></a>\n",
    "\n",
    "## <p style=\"background-color:#9d4f8c; font-family:newtimeroman; color:#FFF9ED; font-size:175%; text-align:center; border-radius:10px 10px;\">Content</p>\n",
    "\n",
    "* [NUMPY SECTION](#0)\n",
    "* [PANDAS SECTION](#1)\n"
   ]
  },
  {
   "cell_type": "markdown",
   "metadata": {
    "id": "lFoJR2iTAd-v"
   },
   "source": [
    "**In this assignment you will start off with Numpy Exercises and then complete the whole Exercise with Pandas questions. All the subjects related to questions here already covered in preclass materials and in-class sessions. So good luck!**"
   ]
  },
  {
   "cell_type": "markdown",
   "metadata": {
    "id": "qlXHDgY8bbDx"
   },
   "source": [
    "## <p style=\"background-color:#9d4f8c; font-family:newtimeroman; color:#FFF9ED; font-size:175%; text-align:center; border-radius:10px 10px;\">Numpy Section</p>\n",
    "\n",
    "<a id=\"0\"></a>\n",
    "<a href=\"#toc\" class=\"btn btn-primary btn-sm\" role=\"button\" aria-pressed=\"true\"\n",
    "style=\"color:blue; background-color:#dfa8e4\" data-toggle=\"popover\">Content</a>"
   ]
  },
  {
   "cell_type": "markdown",
   "metadata": {
    "id": "9LrbgcwYAd-w"
   },
   "source": [
    "### 1. Import NumPy Library."
   ]
  },
  {
   "cell_type": "code",
   "execution_count": 1,
   "metadata": {
    "id": "MymrsT_dAd-x"
   },
   "outputs": [],
   "source": [
    "# YOUR CODE IS HERE\n",
    "\n",
    "import numpy as np\n",
    "\n",
    "\n"
   ]
  },
  {
   "cell_type": "markdown",
   "metadata": {
    "id": "It1vT4JYAd-y"
   },
   "source": [
    "### 2. Create an array from my_list = [5, 10, 15, 20, 25]"
   ]
  },
  {
   "cell_type": "code",
   "execution_count": 6,
   "metadata": {
    "id": "0uO_rHvlbbDy"
   },
   "outputs": [
    {
     "data": {
      "text/plain": [
       "array([ 5, 10, 15, 20, 25])"
      ]
     },
     "execution_count": 6,
     "metadata": {},
     "output_type": "execute_result"
    }
   ],
   "source": [
    "# YOUR CODE IS HERE\n",
    "my_list = [5, 10, 15, 20, 25]\n",
    "\n",
    "np.array(my_list)\n",
    "\n",
    "\n"
   ]
  },
  {
   "cell_type": "raw",
   "metadata": {
    "id": "dPndrpKOAd-z",
    "outputId": "fa4080ee-8528-454e-d834-2d13d49bbec2"
   },
   "source": [
    "Desired Output:\n",
    "\n",
    "array([ 5, 10, 15, 20, 25])"
   ]
  },
  {
   "cell_type": "markdown",
   "metadata": {
    "id": "1hVeq_fEAd-1"
   },
   "source": [
    "### 3. Generate an array of 5x5 with zeros."
   ]
  },
  {
   "cell_type": "code",
   "execution_count": 7,
   "metadata": {
    "id": "Y0R-L8hBAd-2"
   },
   "outputs": [
    {
     "data": {
      "text/plain": [
       "array([[0., 0., 0., 0., 0.],\n",
       "       [0., 0., 0., 0., 0.],\n",
       "       [0., 0., 0., 0., 0.],\n",
       "       [0., 0., 0., 0., 0.],\n",
       "       [0., 0., 0., 0., 0.]])"
      ]
     },
     "execution_count": 7,
     "metadata": {},
     "output_type": "execute_result"
    }
   ],
   "source": [
    "# YOUR CODE IS HERE\n",
    "\n",
    "np.zeros((5,5))\n",
    "\n"
   ]
  },
  {
   "cell_type": "raw",
   "metadata": {
    "id": "V4EGTgs_bbDz"
   },
   "source": [
    "Desired Output:\n",
    "\n",
    "array([[0., 0., 0., 0., 0.],\n",
    "       [0., 0., 0., 0., 0.],\n",
    "       [0., 0., 0., 0., 0.],\n",
    "       [0., 0., 0., 0., 0.],\n",
    "       [0., 0., 0., 0., 0.]])"
   ]
  },
  {
   "cell_type": "markdown",
   "metadata": {
    "id": "lHhdpBa6Ad-3"
   },
   "source": [
    "### 4. Generate an array of 4x4 with ones and assign data type as int."
   ]
  },
  {
   "cell_type": "code",
   "execution_count": 8,
   "metadata": {
    "id": "s45bqkmOAd-3"
   },
   "outputs": [
    {
     "data": {
      "text/plain": [
       "array([[1., 1., 1., 1.],\n",
       "       [1., 1., 1., 1.],\n",
       "       [1., 1., 1., 1.],\n",
       "       [1., 1., 1., 1.]])"
      ]
     },
     "execution_count": 8,
     "metadata": {},
     "output_type": "execute_result"
    }
   ],
   "source": [
    "# YOUR CODE IS HERE\n",
    "np.ones((4,4))"
   ]
  },
  {
   "cell_type": "raw",
   "metadata": {
    "id": "5CtTLhJHbbDz"
   },
   "source": [
    "Desired Output:\n",
    "\n",
    "array([[1, 1, 1, 1],\n",
    "       [1, 1, 1, 1],\n",
    "       [1, 1, 1, 1],\n",
    "       [1, 1, 1, 1]])"
   ]
  },
  {
   "cell_type": "markdown",
   "metadata": {
    "id": "1gD94nCeAd-5"
   },
   "source": [
    "### 5. Make all the values of the array above with the value of 7."
   ]
  },
  {
   "cell_type": "code",
   "execution_count": 9,
   "metadata": {
    "id": "L8fjsn5JAd-6"
   },
   "outputs": [
    {
     "data": {
      "text/plain": [
       "array([[7, 7, 7, 7],\n",
       "       [7, 7, 7, 7],\n",
       "       [7, 7, 7, 7],\n",
       "       [7, 7, 7, 7]])"
      ]
     },
     "execution_count": 9,
     "metadata": {},
     "output_type": "execute_result"
    }
   ],
   "source": [
    "# YOUR CODE IS HERE\n",
    "\n",
    "arr = np.ones((4,4),dtype = int) * 7\n",
    "arr\n"
   ]
  },
  {
   "cell_type": "raw",
   "metadata": {
    "id": "q7kLEfScbbD0"
   },
   "source": [
    "Desired Output:\n",
    "\n",
    "array([[7, 7, 7, 7],\n",
    "       [7, 7, 7, 7],\n",
    "       [7, 7, 7, 7],\n",
    "       [7, 7, 7, 7]])"
   ]
  },
  {
   "cell_type": "markdown",
   "metadata": {
    "id": "XeOPD2dBAd-7"
   },
   "source": [
    "### 6. Create the previous array above by full() method."
   ]
  },
  {
   "cell_type": "code",
   "execution_count": 10,
   "metadata": {
    "id": "xqoPe_PJAd-7"
   },
   "outputs": [
    {
     "data": {
      "text/plain": [
       "array([[7, 7, 7, 7],\n",
       "       [7, 7, 7, 7],\n",
       "       [7, 7, 7, 7],\n",
       "       [7, 7, 7, 7]])"
      ]
     },
     "execution_count": 10,
     "metadata": {},
     "output_type": "execute_result"
    }
   ],
   "source": [
    "# YOUR CODE IS HERE\n",
    "np.full((4,4),7)\n"
   ]
  },
  {
   "cell_type": "raw",
   "metadata": {
    "id": "a0Nx3INYbbD0"
   },
   "source": [
    "Desired Output:\n",
    "\n",
    "array([[7, 7, 7, 7],\n",
    "       [7, 7, 7, 7],\n",
    "       [7, 7, 7, 7],\n",
    "       [7, 7, 7, 7]])"
   ]
  },
  {
   "cell_type": "markdown",
   "metadata": {
    "id": "G8_xFCyQAd-8"
   },
   "source": [
    "### 7. Create an array of even integers from 2 to 16 (inclusive)."
   ]
  },
  {
   "cell_type": "code",
   "execution_count": 11,
   "metadata": {
    "id": "Nu6VInWWAd-8"
   },
   "outputs": [
    {
     "data": {
      "text/plain": [
       "array([ 2,  4,  6,  8, 10, 12, 14, 16])"
      ]
     },
     "execution_count": 11,
     "metadata": {},
     "output_type": "execute_result"
    }
   ],
   "source": [
    "# YOUR CODE IS HERE\n",
    "\n",
    "np.arange(2, 17, 2)\n",
    "\n"
   ]
  },
  {
   "cell_type": "raw",
   "metadata": {
    "id": "Xm3jhez3bbD0"
   },
   "source": [
    "Desired Output:\n",
    "\n",
    "array([ 2,  4,  6,  8, 10, 12, 14, 16])"
   ]
  },
  {
   "cell_type": "markdown",
   "metadata": {
    "id": "-SZvgEVVAd-9"
   },
   "source": [
    "### 8. Create a 5x5 matrix with the values between 0 to 25 (exclusive)."
   ]
  },
  {
   "cell_type": "code",
   "execution_count": 12,
   "metadata": {
    "id": "ddkmPCghAd--"
   },
   "outputs": [
    {
     "data": {
      "text/plain": [
       "array([[ 0,  1,  2,  3,  4],\n",
       "       [ 5,  6,  7,  8,  9],\n",
       "       [10, 11, 12, 13, 14],\n",
       "       [15, 16, 17, 18, 19],\n",
       "       [20, 21, 22, 23, 24]])"
      ]
     },
     "execution_count": 12,
     "metadata": {},
     "output_type": "execute_result"
    }
   ],
   "source": [
    "# YOUR CODE IS HERE\n",
    "np.arange(0, 25).reshape(5,5)\n",
    "\n"
   ]
  },
  {
   "cell_type": "raw",
   "metadata": {
    "id": "1U9YuXLsbbD0"
   },
   "source": [
    "Desired Output:\n",
    "\n",
    "array([[ 0,  1,  2,  3,  4],\n",
    "       [ 5,  6,  7,  8,  9],\n",
    "       [10, 11, 12, 13, 14],\n",
    "       [15, 16, 17, 18, 19],\n",
    "       [20, 21, 22, 23, 24]])"
   ]
  },
  {
   "cell_type": "markdown",
   "metadata": {
    "id": "-QuMw6v5Ad-_"
   },
   "source": [
    "### 9. Create a 5x5 matrix with the values between 0 to 25 (exclusive) using linspace method."
   ]
  },
  {
   "cell_type": "code",
   "execution_count": 13,
   "metadata": {
    "id": "4A195I5iAd_A"
   },
   "outputs": [
    {
     "data": {
      "text/plain": [
       "array([[ 0,  1,  2,  3,  4],\n",
       "       [ 5,  6,  7,  8,  9],\n",
       "       [10, 11, 12, 13, 14],\n",
       "       [15, 16, 17, 18, 19],\n",
       "       [20, 21, 22, 23, 24]])"
      ]
     },
     "execution_count": 13,
     "metadata": {},
     "output_type": "execute_result"
    }
   ],
   "source": [
    "# YOUR CODE IS HERE\n",
    "np.linspace(0,24,25, dtype = int).reshape(5,5)\n",
    "\n"
   ]
  },
  {
   "cell_type": "raw",
   "metadata": {
    "id": "xTP2TU0ObbD1"
   },
   "source": [
    "Desired Output:\n",
    "\n",
    "array([[ 0,  1,  2,  3,  4],\n",
    "       [ 5,  6,  7,  8,  9],\n",
    "       [10, 11, 12, 13, 14],\n",
    "       [15, 16, 17, 18, 19],\n",
    "       [20, 21, 22, 23, 24]])"
   ]
  },
  {
   "cell_type": "markdown",
   "metadata": {
    "id": "xL-eRUXEAd_B"
   },
   "source": [
    "### 10. Create randomly 5 numbers with numpy."
   ]
  },
  {
   "cell_type": "code",
   "execution_count": 14,
   "metadata": {
    "id": "0xda3LnLAd_B"
   },
   "outputs": [
    {
     "data": {
      "text/plain": [
       "array([0.17129704, 0.85667011, 0.49017606, 0.4940206 , 0.05992815])"
      ]
     },
     "execution_count": 14,
     "metadata": {},
     "output_type": "execute_result"
    }
   ],
   "source": [
    "# YOUR CODE IS HERE\n",
    "np.random.rand(5)\n"
   ]
  },
  {
   "cell_type": "raw",
   "metadata": {
    "id": "_22iG3jRbbD1"
   },
   "source": [
    "Desired Output (WATCH OUT! Your output will probably NOT be the same as the one below due to randomization):\n",
    "\n",
    "array([0.69664494, 0.66387647, 0.97508534, 0.33818591, 0.58766187])"
   ]
  },
  {
   "cell_type": "markdown",
   "metadata": {
    "id": "JXiZjg06Ad_C"
   },
   "source": [
    "### 11. Create an array of 5*5 shape and fills it with random values as per the standard normal distribution."
   ]
  },
  {
   "cell_type": "code",
   "execution_count": 15,
   "metadata": {
    "id": "KeJDVElTAd_C"
   },
   "outputs": [
    {
     "data": {
      "text/plain": [
       "array([[0.96294613, 0.08593104, 0.54668858, 0.6359679 , 0.43715624],\n",
       "       [0.94073136, 0.59680922, 0.65860555, 0.39121203, 0.83801805],\n",
       "       [0.01519235, 0.65545746, 0.89552638, 0.03450529, 0.21892078],\n",
       "       [0.83241838, 0.03864167, 0.32713814, 0.88374564, 0.05436873],\n",
       "       [0.86060309, 0.02380693, 0.80148608, 0.72170469, 0.6467581 ]])"
      ]
     },
     "execution_count": 15,
     "metadata": {},
     "output_type": "execute_result"
    }
   ],
   "source": [
    "# YOUR CODE IS HERE\n",
    "np.random.rand(5, 5)\n"
   ]
  },
  {
   "cell_type": "raw",
   "metadata": {
    "id": "dYZG-9H7bbD2"
   },
   "source": [
    "Desired Output (WATCH OUT! Your output will probably NOT be the same as the one below due to randomization):\n",
    "\n",
    "array([[ 0.73087006, -0.34675846, -1.03601606, -0.61227298, -0.57078798],\n",
    "       [ 1.85976917, -0.37158111, -1.16789003, -0.81271697,  1.39620977],\n",
    "       [ 0.52695367, -0.19017673,  0.78067235, -1.3520313 ,  0.44878344],\n",
    "       [ 0.27758877,  0.75391726, -0.52652875,  0.74519765, -0.40414682],\n",
    "       [ 0.12743864, -0.81637521,  0.14086653, -0.29524574,  0.12703938]])"
   ]
  },
  {
   "cell_type": "markdown",
   "metadata": {
    "id": "iHRAL69DAd_D"
   },
   "source": [
    "### 12. Create a 3*4 array of random int numbers between 20 and 50."
   ]
  },
  {
   "cell_type": "code",
   "execution_count": 16,
   "metadata": {
    "id": "19owhlhjAd_D"
   },
   "outputs": [
    {
     "data": {
      "text/plain": [
       "array([[28, 47, 48, 34],\n",
       "       [26, 33, 29, 47],\n",
       "       [33, 46, 46, 46]])"
      ]
     },
     "execution_count": 16,
     "metadata": {},
     "output_type": "execute_result"
    }
   ],
   "source": [
    "# YOUR CODE IS HERE\n",
    "np.random.randint(20,50, (3, 4))\n",
    "\n"
   ]
  },
  {
   "cell_type": "raw",
   "metadata": {
    "id": "q0N-LgQ0bbD2"
   },
   "source": [
    "Desired Output (WATCH OUT! Your output will probably NOT be the same as the one below due to randomization):\n",
    "\n",
    "array([[33, 39, 47, 26],\n",
    "       [41, 20, 32, 23],\n",
    "       [25, 22, 41, 28]])"
   ]
  },
  {
   "cell_type": "markdown",
   "metadata": {
    "id": "XpsHE5BsAd_E"
   },
   "source": [
    "### 13. Create an array named \"ranarr\"consisting of randomly 48 numbers and reshape this array with the shape of 6x8 in different ways."
   ]
  },
  {
   "cell_type": "code",
   "execution_count": 17,
   "metadata": {
    "id": "8DWl1ExmAd_E"
   },
   "outputs": [
    {
     "data": {
      "text/plain": [
       "array([[ 3, 18, 34, 16, 47, 28, 37,  6, 19,  3, 33, 22,  3, 44, 24, 28,\n",
       "        12, 12, 38, 16, 23, 45,  6, 38, 26, 41, 15, 12, 31, 25, 15, 19,\n",
       "         7, 20, 40, 12, 15, 12, 43, 18,  1, 40, 31, 29, 40, 24,  8, 44]])"
      ]
     },
     "execution_count": 17,
     "metadata": {},
     "output_type": "execute_result"
    }
   ],
   "source": [
    "# YOUR CODE IS HERE\n",
    "\n",
    "ranarr = np.random.randint(48, size = (1,48))\n",
    "ranarr\n",
    "\n"
   ]
  },
  {
   "cell_type": "raw",
   "metadata": {
    "id": "jcbp1avHbbD3"
   },
   "source": [
    "Desired Output (WATCH OUT! Your output may NOT be the same as the one):\n",
    "\n",
    "array([ 6, 21, 18, 53, 38, 37, 30, 47, 19, 44, 29, 12, 14, 37, 24, 14, 16,\n",
    "       18,  3, 19, 19, 41, 28, 41,  3, 47,  4, 18, 27, 44, 15, 21,  5, 55,\n",
    "       38,  9,  5, 50, 15, 20,  7, 26, 45, 39, 37, 23,  6, 10])"
   ]
  },
  {
   "cell_type": "code",
   "execution_count": 18,
   "metadata": {
    "id": "3YxAvl1zAd_E"
   },
   "outputs": [
    {
     "data": {
      "text/plain": [
       "array([[ 3, 18, 34, 16, 47, 28, 37,  6],\n",
       "       [19,  3, 33, 22,  3, 44, 24, 28],\n",
       "       [12, 12, 38, 16, 23, 45,  6, 38],\n",
       "       [26, 41, 15, 12, 31, 25, 15, 19],\n",
       "       [ 7, 20, 40, 12, 15, 12, 43, 18],\n",
       "       [ 1, 40, 31, 29, 40, 24,  8, 44]])"
      ]
     },
     "execution_count": 18,
     "metadata": {},
     "output_type": "execute_result"
    }
   ],
   "source": [
    "# YOUR CODE IS HERE (RESHAPING WITH NUM)\n",
    "\n",
    "ranarr.reshape(6,8)"
   ]
  },
  {
   "cell_type": "raw",
   "metadata": {
    "id": "CGTW2vQIbbD4"
   },
   "source": [
    "Desired Output (WATCH OUT! Your output may NOT be the same as the one):\n",
    "\n",
    "array([[ 6, 21, 18, 53, 38, 37, 30, 47],\n",
    "       [19, 44, 29, 12, 14, 37, 24, 14],\n",
    "       [16, 18,  3, 19, 19, 41, 28, 41],\n",
    "       [ 3, 47,  4, 18, 27, 44, 15, 21],\n",
    "       [ 5, 55, 38,  9,  5, 50, 15, 20],\n",
    "       [ 7, 26, 45, 39, 37, 23,  6, 10]])"
   ]
  },
  {
   "cell_type": "code",
   "execution_count": 19,
   "metadata": {
    "id": "5PJczaI-Ad_F"
   },
   "outputs": [
    {
     "data": {
      "text/plain": [
       "array([[ 3, 18, 34, 16, 47, 28, 37,  6],\n",
       "       [19,  3, 33, 22,  3, 44, 24, 28],\n",
       "       [12, 12, 38, 16, 23, 45,  6, 38],\n",
       "       [26, 41, 15, 12, 31, 25, 15, 19],\n",
       "       [ 7, 20, 40, 12, 15, 12, 43, 18],\n",
       "       [ 1, 40, 31, 29, 40, 24,  8, 44]])"
      ]
     },
     "execution_count": 19,
     "metadata": {},
     "output_type": "execute_result"
    }
   ],
   "source": [
    "# YOUR CODE IS HERE (RESHAPING WITH -1)\n",
    "\n",
    "ranarr.reshape(-1, 8)"
   ]
  },
  {
   "cell_type": "raw",
   "metadata": {
    "id": "njxA7L4ebbD4"
   },
   "source": [
    "Desired Output (WATCH OUT! Your output may NOT be the same as the one):\n",
    "\n",
    "array([[ 6, 21, 18, 53, 38, 37, 30, 47],\n",
    "       [19, 44, 29, 12, 14, 37, 24, 14],\n",
    "       [16, 18,  3, 19, 19, 41, 28, 41],\n",
    "       [ 3, 47,  4, 18, 27, 44, 15, 21],\n",
    "       [ 5, 55, 38,  9,  5, 50, 15, 20],\n",
    "       [ 7, 26, 45, 39, 37, 23,  6, 10]])"
   ]
  },
  {
   "cell_type": "code",
   "execution_count": 20,
   "metadata": {
    "id": "C5AXPQS-bbD4"
   },
   "outputs": [
    {
     "data": {
      "text/plain": [
       "array([[ 3, 18, 34, 16, 47, 28, 37,  6],\n",
       "       [19,  3, 33, 22,  3, 44, 24, 28],\n",
       "       [12, 12, 38, 16, 23, 45,  6, 38],\n",
       "       [26, 41, 15, 12, 31, 25, 15, 19],\n",
       "       [ 7, 20, 40, 12, 15, 12, 43, 18],\n",
       "       [ 1, 40, 31, 29, 40, 24,  8, 44]])"
      ]
     },
     "execution_count": 20,
     "metadata": {},
     "output_type": "execute_result"
    }
   ],
   "source": [
    "# YOUR CODE IS HERE (RESHAPING WITH -1)\n",
    "\n",
    "ranarr.reshape(6, -1)"
   ]
  },
  {
   "cell_type": "raw",
   "metadata": {
    "id": "dVoy5WgibbD4"
   },
   "source": [
    "Desired Output (WATCH OUT! Your output may NOT be the same as the one):\n",
    "\n",
    "array([[ 6, 21, 18, 53, 38, 37, 30, 47],\n",
    "       [19, 44, 29, 12, 14, 37, 24, 14],\n",
    "       [16, 18,  3, 19, 19, 41, 28, 41],\n",
    "       [ 3, 47,  4, 18, 27, 44, 15, 21],\n",
    "       [ 5, 55, 38,  9,  5, 50, 15, 20],\n",
    "       [ 7, 26, 45, 39, 37, 23,  6, 10]])"
   ]
  },
  {
   "cell_type": "markdown",
   "metadata": {
    "id": "jB4suWaXAd_F"
   },
   "source": [
    "## Numpy Indexing and Selection"
   ]
  },
  {
   "cell_type": "markdown",
   "metadata": {
    "id": "A6SXueUJbbD5"
   },
   "source": [
    "### Create an array named \"mat\" in accordence with the desired output below."
   ]
  },
  {
   "cell_type": "code",
   "execution_count": 21,
   "metadata": {
    "id": "x2zNGxNkAd_F"
   },
   "outputs": [
    {
     "data": {
      "text/plain": [
       "array([[ 1,  2,  3,  4],\n",
       "       [ 5,  6,  7,  8],\n",
       "       [ 9, 10, 11, 12],\n",
       "       [13, 14, 15, 16]])"
      ]
     },
     "execution_count": 21,
     "metadata": {},
     "output_type": "execute_result"
    }
   ],
   "source": [
    "# YOUR CODE IS HERE\n",
    "\n",
    "mat = np.arange(1,17).reshape(4, 4)\n",
    "mat\n"
   ]
  },
  {
   "cell_type": "raw",
   "metadata": {
    "id": "lw2-Sj_dbbD5"
   },
   "source": [
    "Desired Output:\n",
    "\n",
    "array([[ 1,  2,  3,  4],\n",
    "       [ 5,  6,  7,  8],\n",
    "       [ 9, 10, 11, 12],\n",
    "       [13, 14, 15, 16]])"
   ]
  },
  {
   "cell_type": "markdown",
   "metadata": {
    "id": "wyNXBC0GAd_G"
   },
   "source": [
    "### 14. Using the array above, write a code that reproduces the desired output shown below.<br>"
   ]
  },
  {
   "cell_type": "code",
   "execution_count": 22,
   "metadata": {
    "id": "k6FmQqjxAd_G"
   },
   "outputs": [
    {
     "data": {
      "text/plain": [
       "array([[ 6,  7],\n",
       "       [10, 11]])"
      ]
     },
     "execution_count": 22,
     "metadata": {},
     "output_type": "execute_result"
    }
   ],
   "source": [
    "# YOUR CODE IS HERE\n",
    "mat[1:3, 1:3]\n"
   ]
  },
  {
   "cell_type": "raw",
   "metadata": {
    "id": "1IcelID5bbD5"
   },
   "source": [
    "Desired Output:\n",
    "\n",
    "array([[ 6,  7],\n",
    "       [10, 11]])"
   ]
  },
  {
   "cell_type": "markdown",
   "metadata": {
    "id": "bUShSGkJAd_G"
   },
   "source": [
    "### 15. Get the 1st column (index number 0) of the array above."
   ]
  },
  {
   "cell_type": "code",
   "execution_count": 23,
   "metadata": {
    "id": "Wv7YR2drAd_G"
   },
   "outputs": [
    {
     "data": {
      "text/plain": [
       "array([ 1,  5,  9, 13])"
      ]
     },
     "execution_count": 23,
     "metadata": {},
     "output_type": "execute_result"
    }
   ],
   "source": [
    "# YOUR CODE IS HERE\n",
    "mat[:, 0]\n"
   ]
  },
  {
   "cell_type": "raw",
   "metadata": {
    "id": "dU2rWSKkbbD5"
   },
   "source": [
    "Desired Output:\n",
    "\n",
    "array([ 1,  5,  9, 13])"
   ]
  },
  {
   "cell_type": "markdown",
   "metadata": {
    "id": "GGdWljRJAd_H"
   },
   "source": [
    "### 16. Get the values in 2nd row (index number 1) for every 2 step."
   ]
  },
  {
   "cell_type": "code",
   "execution_count": 24,
   "metadata": {
    "id": "7e6tP0NlAd_H"
   },
   "outputs": [
    {
     "data": {
      "text/plain": [
       "array([5, 7])"
      ]
     },
     "execution_count": 24,
     "metadata": {},
     "output_type": "execute_result"
    }
   ],
   "source": [
    "# YOUR CODE IS HERE\n",
    "mat[[1], [0,2]]"
   ]
  },
  {
   "cell_type": "raw",
   "metadata": {
    "id": "o-gR0BgXbbD6"
   },
   "source": [
    "Desired Output:\n",
    "\n",
    "array([5, 7])"
   ]
  },
  {
   "cell_type": "markdown",
   "metadata": {
    "id": "aANYlDooAd_H"
   },
   "source": [
    "### 17.Assign 77 to every cell in 3rd column."
   ]
  },
  {
   "cell_type": "code",
   "execution_count": 25,
   "metadata": {
    "id": "oy5AxrK1Ad_I"
   },
   "outputs": [
    {
     "data": {
      "text/plain": [
       "array([[ 1,  2, 77,  4],\n",
       "       [ 5,  6, 77,  8],\n",
       "       [ 9, 10, 77, 12],\n",
       "       [13, 14, 77, 16]])"
      ]
     },
     "execution_count": 25,
     "metadata": {},
     "output_type": "execute_result"
    }
   ],
   "source": [
    "# YOUR CODE IS HERE\n",
    "mat[:, 2] = 77\n",
    "mat\n"
   ]
  },
  {
   "cell_type": "raw",
   "metadata": {
    "id": "p91ecaSrbbD6"
   },
   "source": [
    "Desired Output:\n",
    "\n",
    "array([[ 1,  2, 77,  4],\n",
    "       [ 5,  6, 77,  8],\n",
    "       [ 9, 10, 77, 12],\n",
    "       [13, 14, 77, 16]])"
   ]
  },
  {
   "cell_type": "markdown",
   "metadata": {
    "id": "OsrIo34xAd_I"
   },
   "source": [
    "### 18. (a) Take 2nd row (index number 1) and 1st column (index number 0) , (b) 4th row (index number 3) and 3rd column (index number 2) ."
   ]
  },
  {
   "cell_type": "code",
   "execution_count": 26,
   "metadata": {
    "id": "fESSmtPDAd_I"
   },
   "outputs": [
    {
     "data": {
      "text/plain": [
       "array([ 5, 77])"
      ]
     },
     "execution_count": 26,
     "metadata": {},
     "output_type": "execute_result"
    }
   ],
   "source": [
    "# YOUR CODE IS HERE\n",
    "mat[[1],[0,2]]\n"
   ]
  },
  {
   "cell_type": "raw",
   "metadata": {
    "id": "D5dX-A27bbD6"
   },
   "source": [
    "Desired Output:\n",
    "\n",
    "array([ 5, 77])"
   ]
  },
  {
   "cell_type": "markdown",
   "metadata": {
    "id": "dsZDs5vjAd_J"
   },
   "source": [
    "### 19. Take between 2nd and last row with step 2 and between 1st and last column with step 2."
   ]
  },
  {
   "cell_type": "code",
   "execution_count": 27,
   "metadata": {},
   "outputs": [
    {
     "data": {
      "text/plain": [
       "array([[ 1,  2, 77,  4],\n",
       "       [ 5,  6, 77,  8],\n",
       "       [ 9, 10, 77, 12],\n",
       "       [13, 14, 77, 16]])"
      ]
     },
     "execution_count": 27,
     "metadata": {},
     "output_type": "execute_result"
    }
   ],
   "source": [
    "mat"
   ]
  },
  {
   "cell_type": "code",
   "execution_count": 28,
   "metadata": {
    "id": "0IW0GtfCAd_J"
   },
   "outputs": [
    {
     "data": {
      "text/plain": [
       "array([[ 5, 77],\n",
       "       [13, 77]])"
      ]
     },
     "execution_count": 28,
     "metadata": {},
     "output_type": "execute_result"
    }
   ],
   "source": [
    "# YOUR CODE IS HERE\n",
    "mat[1::2, ::2]"
   ]
  },
  {
   "cell_type": "raw",
   "metadata": {
    "id": "owEpuL8rbbD7"
   },
   "source": [
    "Desired Output:\n",
    "\n",
    "array([[ 5, 77],\n",
    "       [13, 77]])"
   ]
  },
  {
   "cell_type": "markdown",
   "metadata": {
    "id": "G1aoEVaJAd_J"
   },
   "source": [
    "## NumPy Operations"
   ]
  },
  {
   "cell_type": "markdown",
   "metadata": {
    "id": "2p7ZbeTLAd_K"
   },
   "source": [
    "### 20. Get the sum of values smaller than 10 and values bigger than 12 in \"mat\"."
   ]
  },
  {
   "cell_type": "code",
   "execution_count": 29,
   "metadata": {
    "id": "IBf3KzxBbbD7"
   },
   "outputs": [
    {
     "data": {
      "text/plain": [
       "array([[ 1,  2, 77,  4],\n",
       "       [ 5,  6, 77,  8],\n",
       "       [ 9, 10, 77, 12],\n",
       "       [13, 14, 77, 16]])"
      ]
     },
     "execution_count": 29,
     "metadata": {},
     "output_type": "execute_result"
    }
   ],
   "source": [
    "# LET US REMEMBER OUR ARRAY OF \"mat\"\n",
    "\n",
    "# YOUR CODE IS HERE\n",
    "\n",
    "mat"
   ]
  },
  {
   "cell_type": "raw",
   "metadata": {
    "id": "UC-qgSRTbbD7"
   },
   "source": [
    "Desired Output:\n",
    "\n",
    "array([[ 1,  2, 77,  4],\n",
    "       [ 5,  6, 77,  8],\n",
    "       [ 9, 10, 77, 12],\n",
    "       [13, 14, 77, 16]])"
   ]
  },
  {
   "cell_type": "code",
   "execution_count": 30,
   "metadata": {
    "id": "LD_0rzT6Ad_K"
   },
   "outputs": [
    {
     "data": {
      "text/plain": [
       "array([1, 2, 4, 5, 6, 8, 9])"
      ]
     },
     "execution_count": 30,
     "metadata": {},
     "output_type": "execute_result"
    }
   ],
   "source": [
    "# LET US FIND THE VALUES SMALLER THAN 10 IN \"mat\"\n",
    "\n",
    "# YOUR CODE IS HERE\n",
    "mat[mat < 10]\n"
   ]
  },
  {
   "cell_type": "raw",
   "metadata": {
    "id": "umFKIIIVbbD7"
   },
   "source": [
    "Desired Output:\n",
    "\n",
    "array([1, 2, 4, 5, 6, 8, 9])"
   ]
  },
  {
   "cell_type": "code",
   "execution_count": 31,
   "metadata": {
    "id": "RIpotHKeAd_K"
   },
   "outputs": [
    {
     "data": {
      "text/plain": [
       "array([77, 77, 77, 13, 14, 77, 16])"
      ]
     },
     "execution_count": 31,
     "metadata": {},
     "output_type": "execute_result"
    }
   ],
   "source": [
    "# LET US FIND THE VALUES BIGGER THAN 12 IN \"mat\"\n",
    "\n",
    "# YOUR CODE IS HERE\n",
    "mat[mat > 12]\n",
    "\n"
   ]
  },
  {
   "cell_type": "raw",
   "metadata": {
    "id": "yyWasCsqbbD7"
   },
   "source": [
    "Desired Output:\n",
    "\n",
    "array([77, 77, 77, 13, 14, 77, 16])"
   ]
  },
  {
   "cell_type": "code",
   "execution_count": 32,
   "metadata": {
    "id": "m4XkRQFiAd_K"
   },
   "outputs": [
    {
     "data": {
      "text/plain": [
       "array([78, 79, 81, 18, 20, 85, 25])"
      ]
     },
     "execution_count": 32,
     "metadata": {},
     "output_type": "execute_result"
    }
   ],
   "source": [
    "# LET US SUM THE VALUES SMALLER THAN 10 AND BIGGER THAN 12 IN \"mat\"\n",
    "\n",
    "# YOUR CODE IS HERE\n",
    "\n",
    "mat[mat < 10] + mat[mat > 12]"
   ]
  },
  {
   "cell_type": "raw",
   "metadata": {
    "id": "MqQqfVihbbD8"
   },
   "source": [
    "Desired Output:\n",
    "\n",
    "array([78, 79, 81, 18, 20, 85, 25])"
   ]
  },
  {
   "cell_type": "markdown",
   "metadata": {
    "id": "adWvgD-oAd_L"
   },
   "source": [
    "### 21. Get the standard deviation (std) of the result above."
   ]
  },
  {
   "cell_type": "code",
   "execution_count": 33,
   "metadata": {
    "id": "96DAIF1fAd_L"
   },
   "outputs": [
    {
     "data": {
      "text/plain": [
       "29.700546274093877"
      ]
     },
     "execution_count": 33,
     "metadata": {},
     "output_type": "execute_result"
    }
   ],
   "source": [
    "# YOUR CODE IS HERE\n",
    "(mat[mat < 10] + mat[mat > 12]).std()\n"
   ]
  },
  {
   "cell_type": "raw",
   "metadata": {
    "id": "wU2x44IubbD9"
   },
   "source": [
    "Desired Output:\n",
    "\n",
    "29.700546274093877"
   ]
  },
  {
   "cell_type": "markdown",
   "metadata": {
    "id": "FkhK2cOqAd_L"
   },
   "source": [
    "### 22. Get the sum of the 2nd column in the original \"mat\"."
   ]
  },
  {
   "cell_type": "code",
   "execution_count": 34,
   "metadata": {
    "id": "XDQqGSzkAd_M"
   },
   "outputs": [
    {
     "data": {
      "text/plain": [
       "array([[ 1,  2, 77,  4],\n",
       "       [ 5,  6, 77,  8],\n",
       "       [ 9, 10, 77, 12],\n",
       "       [13, 14, 77, 16]])"
      ]
     },
     "execution_count": 34,
     "metadata": {},
     "output_type": "execute_result"
    }
   ],
   "source": [
    "# LET US REMEMBER OUR ARRAY OF \"mat\"\n",
    "\n",
    "# YOUR CODE IS HERE\n",
    "mat\n"
   ]
  },
  {
   "cell_type": "raw",
   "metadata": {
    "id": "OghqqpP4bbD9"
   },
   "source": [
    "Desired Output:\n",
    "\n",
    "array([[ 1,  2, 77,  4],\n",
    "       [ 5,  6, 77,  8],\n",
    "       [ 9, 10, 77, 12],\n",
    "       [13, 14, 77, 16]])"
   ]
  },
  {
   "cell_type": "code",
   "execution_count": 35,
   "metadata": {
    "id": "qNeP5ttGAd_M"
   },
   "outputs": [
    {
     "data": {
      "text/plain": [
       "array([[ 1,  2,  3,  4],\n",
       "       [ 5,  6,  7,  8],\n",
       "       [ 9, 10, 11, 12],\n",
       "       [13, 14, 15, 16]])"
      ]
     },
     "execution_count": 35,
     "metadata": {},
     "output_type": "execute_result"
    }
   ],
   "source": [
    "# LET OBTAIN THE ORIGINAL ARRAY OF \"mat\"\n",
    "\n",
    "# YOUR CODE IS HERE\n",
    "mat = np.arange(1,17).reshape(4, 4)\n",
    "mat\n"
   ]
  },
  {
   "cell_type": "raw",
   "metadata": {
    "id": "oLiipgBWbbD9"
   },
   "source": [
    "Desired Output:\n",
    "\n",
    "array([[ 1,  2,  3,  4],\n",
    "       [ 5,  6,  7,  8],\n",
    "       [ 9, 10, 11, 12],\n",
    "       [13, 14, 15, 16]])"
   ]
  },
  {
   "cell_type": "code",
   "execution_count": 36,
   "metadata": {
    "id": "xzqyV2SZAd_M",
    "scrolled": true
   },
   "outputs": [
    {
     "data": {
      "text/plain": [
       "32"
      ]
     },
     "execution_count": 36,
     "metadata": {},
     "output_type": "execute_result"
    }
   ],
   "source": [
    "# YOUR CODE IS HERE\n",
    "np.sum(mat[:, 1])\n"
   ]
  },
  {
   "cell_type": "raw",
   "metadata": {
    "id": "v9TL0YlTbbD9"
   },
   "source": [
    "Desired Output:\n",
    "\n",
    "32"
   ]
  },
  {
   "cell_type": "markdown",
   "metadata": {
    "id": "kCQ1GvPUAd_N"
   },
   "source": [
    "### 23. Get the median, mean and std of 3rd column in \"mat\"."
   ]
  },
  {
   "cell_type": "code",
   "execution_count": 37,
   "metadata": {
    "id": "NDLT7dBKbbD-"
   },
   "outputs": [
    {
     "data": {
      "text/plain": [
       "array([[ 1,  2,  3,  4],\n",
       "       [ 5,  6,  7,  8],\n",
       "       [ 9, 10, 11, 12],\n",
       "       [13, 14, 15, 16]])"
      ]
     },
     "execution_count": 37,
     "metadata": {},
     "output_type": "execute_result"
    }
   ],
   "source": [
    "# LET US REMEMBER OUR ARRAY OF \"mat\"\n",
    "\n",
    "# YOUR CODE IS HERE\n",
    "mat\n"
   ]
  },
  {
   "cell_type": "raw",
   "metadata": {
    "id": "-mZ1QRD3bbD-"
   },
   "source": [
    "\n",
    "Desired Output:\n",
    "\n",
    "array([[ 1,  2,  3,  4],\n",
    "       [ 5,  6,  7,  8],\n",
    "       [ 9, 10, 11, 12],\n",
    "       [13, 14, 15, 16]])"
   ]
  },
  {
   "cell_type": "code",
   "execution_count": 38,
   "metadata": {
    "id": "GmfBsuJPbbD-"
   },
   "outputs": [
    {
     "data": {
      "text/plain": [
       "array([ 3,  7, 11, 15])"
      ]
     },
     "execution_count": 38,
     "metadata": {},
     "output_type": "execute_result"
    }
   ],
   "source": [
    "# LET US ASSIGN THE COLUMN WE ARE INTERESTED IN TO A VARIABLE\n",
    "\n",
    "# YOUR CODE IS HERE\n",
    "third_column = mat[:, 2]\n",
    "third_column\n",
    "\n"
   ]
  },
  {
   "cell_type": "raw",
   "metadata": {
    "id": "umI2mMNfbbD-"
   },
   "source": [
    "Desired Output:\n",
    "\n",
    "array([[ 3],\n",
    "       [ 7],\n",
    "       [11],\n",
    "       [15]])"
   ]
  },
  {
   "cell_type": "code",
   "execution_count": 39,
   "metadata": {
    "id": "d_DGwW6xbbD-"
   },
   "outputs": [
    {
     "data": {
      "text/plain": [
       "array([ 9, 10, 11, 12])"
      ]
     },
     "execution_count": 39,
     "metadata": {},
     "output_type": "execute_result"
    }
   ],
   "source": [
    "# WHAT IF WE ARE INTERESTED IN THE 3RD ROW?\n",
    "\n",
    "# YOUR CODE IS HERE\n",
    "third_row = mat[2, :]\n",
    "third_row\n"
   ]
  },
  {
   "cell_type": "raw",
   "metadata": {
    "id": "S-egBgcCbbD-"
   },
   "source": [
    "Desired Output:\n",
    "\n",
    "array([ 9, 10, 11, 12])"
   ]
  },
  {
   "cell_type": "code",
   "execution_count": 45,
   "metadata": {
    "id": "OX4fqkipAd_N"
   },
   "outputs": [
    {
     "name": "stdout",
     "output_type": "stream",
     "text": [
      "9.0\n",
      "10.5\n"
     ]
    }
   ],
   "source": [
    "# LET US GET MEDIAN VALUE\n",
    "\n",
    "# YOUR CODE IS HERE\n",
    "\n",
    "print(np.median(third_column))\n",
    "print(np.median(third_row))\n",
    "\n"
   ]
  },
  {
   "cell_type": "raw",
   "metadata": {
    "id": "LCVoTshPbbD_"
   },
   "source": [
    "Desired Output:\n",
    "\n",
    "9.0\n",
    "10.5"
   ]
  },
  {
   "cell_type": "code",
   "execution_count": 46,
   "metadata": {
    "id": "oZpsC7rFAd_N"
   },
   "outputs": [
    {
     "name": "stdout",
     "output_type": "stream",
     "text": [
      "9.0\n",
      "10.5\n"
     ]
    }
   ],
   "source": [
    "# LET US GET MEAN VALUE\n",
    "\n",
    "# YOUR CODE IS HERE\n",
    "\n",
    "print(np.mean(third_column))\n",
    "print(np.mean(third_row))"
   ]
  },
  {
   "cell_type": "raw",
   "metadata": {
    "id": "AOaME1zQbbD_"
   },
   "source": [
    "Desired Output:\n",
    "\n",
    "9.0\n",
    "10.5"
   ]
  },
  {
   "cell_type": "code",
   "execution_count": 47,
   "metadata": {
    "id": "g8bveYJuAd_O"
   },
   "outputs": [
    {
     "name": "stdout",
     "output_type": "stream",
     "text": [
      "4.47213595499958\n",
      "1.118033988749895\n"
     ]
    }
   ],
   "source": [
    "# LET US GET STANDART DEVIATION (std) VALUE\n",
    "\n",
    "# YOUR CODE IS HERE\n",
    "\n",
    "print(np.std(third_column))\n",
    "print(np.std(third_row))\n",
    "\n"
   ]
  },
  {
   "cell_type": "raw",
   "metadata": {
    "id": "v0rULud6bbD_"
   },
   "source": [
    "Desired Output:\n",
    "\n",
    "4.47213595499958\n",
    "1.118033988749895"
   ]
  },
  {
   "cell_type": "markdown",
   "metadata": {
    "collapsed": true,
    "id": "gZ5HUfC4Ad_O",
    "jupyter": {
     "outputs_hidden": true
    }
   },
   "source": [
    "## <p style=\"background-color:#9d4f8c; font-family:newtimeroman; color:#FFF9ED; font-size:175%; text-align:center; border-radius:10px 10px;\">Pandas Section</p>\n",
    "\n",
    "<a id=\"1\"></a>\n",
    "<a href=\"#toc\" class=\"btn btn-primary btn-sm\" role=\"button\" aria-pressed=\"true\"\n",
    "style=\"color:blue; background-color:#dfa8e4\" data-toggle=\"popover\">Content</a>"
   ]
  },
  {
   "cell_type": "markdown",
   "metadata": {
    "id": "vQuiH4T8bbEA"
   },
   "source": [
    "### Import Pandas Library"
   ]
  },
  {
   "cell_type": "code",
   "execution_count": 27,
   "metadata": {
    "id": "lrbS4u52Ad_P"
   },
   "outputs": [],
   "source": [
    "import pandas as pd"
   ]
  },
  {
   "cell_type": "markdown",
   "metadata": {
    "id": "eacrpv_7Ad_P"
   },
   "source": [
    "### Read Salaries.csv and take a look at the first 5 rows, df info and df statistical measurements.*"
   ]
  },
  {
   "cell_type": "markdown",
   "metadata": {
    "id": "RHEXcRH_b9Y-"
   },
   "source": [
    "[pandas.read_csv() function --> (pandas official document)](https://pandas.pydata.org/docs/reference/api/pandas.read_csv.html)"
   ]
  },
  {
   "cell_type": "code",
   "execution_count": 28,
   "metadata": {
    "id": "pizKpWqtbigy"
   },
   "outputs": [
    {
     "name": "stdout",
     "output_type": "stream",
     "text": [
      "Requirement already satisfied: py7zr in /Users/mert/anaconda3/lib/python3.11/site-packages (0.22.0)\n",
      "Requirement already satisfied: texttable in /Users/mert/anaconda3/lib/python3.11/site-packages (from py7zr) (1.7.0)\n",
      "Requirement already satisfied: pycryptodomex>=3.16.0 in /Users/mert/anaconda3/lib/python3.11/site-packages (from py7zr) (3.21.0)\n",
      "Requirement already satisfied: pyzstd>=0.15.9 in /Users/mert/anaconda3/lib/python3.11/site-packages (from py7zr) (0.16.2)\n",
      "Requirement already satisfied: pyppmd<1.2.0,>=1.1.0 in /Users/mert/anaconda3/lib/python3.11/site-packages (from py7zr) (1.1.0)\n",
      "Requirement already satisfied: pybcj<1.1.0,>=1.0.0 in /Users/mert/anaconda3/lib/python3.11/site-packages (from py7zr) (1.0.2)\n",
      "Requirement already satisfied: multivolumefile>=0.2.3 in /Users/mert/anaconda3/lib/python3.11/site-packages (from py7zr) (0.2.3)\n",
      "Requirement already satisfied: inflate64<1.1.0,>=1.0.0 in /Users/mert/anaconda3/lib/python3.11/site-packages (from py7zr) (1.0.0)\n",
      "Requirement already satisfied: brotli>=1.1.0 in /Users/mert/anaconda3/lib/python3.11/site-packages (from py7zr) (1.1.0)\n",
      "Requirement already satisfied: psutil in /Users/mert/anaconda3/lib/python3.11/site-packages (from py7zr) (5.9.0)\n"
     ]
    }
   ],
   "source": [
    "!pip install py7zr\n",
    "\n",
    "import py7zr\n",
    "with py7zr.SevenZipFile('Salaries.7z', mode='r') as z:\n",
    "    z.extractall()"
   ]
  },
  {
   "cell_type": "code",
   "execution_count": 29,
   "metadata": {
    "id": "OP4b0LcTAd_P"
   },
   "outputs": [],
   "source": [
    "# LET US READ Salaries.csv\n",
    "\n",
    "# YOUR CODE IS HERE\n",
    "\n",
    "df = pd.read_csv('Salaries.csv')\n"
   ]
  },
  {
   "cell_type": "code",
   "execution_count": 30,
   "metadata": {
    "id": "qc6Tt4loAd_Q"
   },
   "outputs": [
    {
     "data": {
      "text/html": [
       "<div>\n",
       "<style scoped>\n",
       "    .dataframe tbody tr th:only-of-type {\n",
       "        vertical-align: middle;\n",
       "    }\n",
       "\n",
       "    .dataframe tbody tr th {\n",
       "        vertical-align: top;\n",
       "    }\n",
       "\n",
       "    .dataframe thead th {\n",
       "        text-align: right;\n",
       "    }\n",
       "</style>\n",
       "<table border=\"1\" class=\"dataframe\">\n",
       "  <thead>\n",
       "    <tr style=\"text-align: right;\">\n",
       "      <th></th>\n",
       "      <th>Id</th>\n",
       "      <th>EmployeeName</th>\n",
       "      <th>JobTitle</th>\n",
       "      <th>BasePay</th>\n",
       "      <th>OvertimePay</th>\n",
       "      <th>OtherPay</th>\n",
       "      <th>Benefits</th>\n",
       "      <th>TotalPay</th>\n",
       "      <th>TotalPayBenefits</th>\n",
       "      <th>Year</th>\n",
       "      <th>Notes</th>\n",
       "      <th>Agency</th>\n",
       "      <th>Status</th>\n",
       "    </tr>\n",
       "  </thead>\n",
       "  <tbody>\n",
       "    <tr>\n",
       "      <th>0</th>\n",
       "      <td>1</td>\n",
       "      <td>NATHANIEL FORD</td>\n",
       "      <td>GENERAL MANAGER-METROPOLITAN TRANSIT AUTHORITY</td>\n",
       "      <td>167411.18</td>\n",
       "      <td>0.00</td>\n",
       "      <td>400184.25</td>\n",
       "      <td>NaN</td>\n",
       "      <td>567595.43</td>\n",
       "      <td>567595.43</td>\n",
       "      <td>2011</td>\n",
       "      <td>NaN</td>\n",
       "      <td>San Francisco</td>\n",
       "      <td>NaN</td>\n",
       "    </tr>\n",
       "    <tr>\n",
       "      <th>1</th>\n",
       "      <td>2</td>\n",
       "      <td>GARY JIMENEZ</td>\n",
       "      <td>CAPTAIN III (POLICE DEPARTMENT)</td>\n",
       "      <td>155966.02</td>\n",
       "      <td>245131.88</td>\n",
       "      <td>137811.38</td>\n",
       "      <td>NaN</td>\n",
       "      <td>538909.28</td>\n",
       "      <td>538909.28</td>\n",
       "      <td>2011</td>\n",
       "      <td>NaN</td>\n",
       "      <td>San Francisco</td>\n",
       "      <td>NaN</td>\n",
       "    </tr>\n",
       "    <tr>\n",
       "      <th>2</th>\n",
       "      <td>3</td>\n",
       "      <td>ALBERT PARDINI</td>\n",
       "      <td>CAPTAIN III (POLICE DEPARTMENT)</td>\n",
       "      <td>212739.13</td>\n",
       "      <td>106088.18</td>\n",
       "      <td>16452.60</td>\n",
       "      <td>NaN</td>\n",
       "      <td>335279.91</td>\n",
       "      <td>335279.91</td>\n",
       "      <td>2011</td>\n",
       "      <td>NaN</td>\n",
       "      <td>San Francisco</td>\n",
       "      <td>NaN</td>\n",
       "    </tr>\n",
       "    <tr>\n",
       "      <th>3</th>\n",
       "      <td>4</td>\n",
       "      <td>CHRISTOPHER CHONG</td>\n",
       "      <td>WIRE ROPE CABLE MAINTENANCE MECHANIC</td>\n",
       "      <td>77916.00</td>\n",
       "      <td>56120.71</td>\n",
       "      <td>198306.90</td>\n",
       "      <td>NaN</td>\n",
       "      <td>332343.61</td>\n",
       "      <td>332343.61</td>\n",
       "      <td>2011</td>\n",
       "      <td>NaN</td>\n",
       "      <td>San Francisco</td>\n",
       "      <td>NaN</td>\n",
       "    </tr>\n",
       "    <tr>\n",
       "      <th>4</th>\n",
       "      <td>5</td>\n",
       "      <td>PATRICK GARDNER</td>\n",
       "      <td>DEPUTY CHIEF OF DEPARTMENT,(FIRE DEPARTMENT)</td>\n",
       "      <td>134401.60</td>\n",
       "      <td>9737.00</td>\n",
       "      <td>182234.59</td>\n",
       "      <td>NaN</td>\n",
       "      <td>326373.19</td>\n",
       "      <td>326373.19</td>\n",
       "      <td>2011</td>\n",
       "      <td>NaN</td>\n",
       "      <td>San Francisco</td>\n",
       "      <td>NaN</td>\n",
       "    </tr>\n",
       "  </tbody>\n",
       "</table>\n",
       "</div>"
      ],
      "text/plain": [
       "   Id       EmployeeName                                        JobTitle  \\\n",
       "0   1     NATHANIEL FORD  GENERAL MANAGER-METROPOLITAN TRANSIT AUTHORITY   \n",
       "1   2       GARY JIMENEZ                 CAPTAIN III (POLICE DEPARTMENT)   \n",
       "2   3     ALBERT PARDINI                 CAPTAIN III (POLICE DEPARTMENT)   \n",
       "3   4  CHRISTOPHER CHONG            WIRE ROPE CABLE MAINTENANCE MECHANIC   \n",
       "4   5    PATRICK GARDNER    DEPUTY CHIEF OF DEPARTMENT,(FIRE DEPARTMENT)   \n",
       "\n",
       "     BasePay  OvertimePay   OtherPay  Benefits   TotalPay  TotalPayBenefits  \\\n",
       "0  167411.18         0.00  400184.25       NaN  567595.43         567595.43   \n",
       "1  155966.02    245131.88  137811.38       NaN  538909.28         538909.28   \n",
       "2  212739.13    106088.18   16452.60       NaN  335279.91         335279.91   \n",
       "3   77916.00     56120.71  198306.90       NaN  332343.61         332343.61   \n",
       "4  134401.60      9737.00  182234.59       NaN  326373.19         326373.19   \n",
       "\n",
       "   Year  Notes         Agency  Status  \n",
       "0  2011    NaN  San Francisco     NaN  \n",
       "1  2011    NaN  San Francisco     NaN  \n",
       "2  2011    NaN  San Francisco     NaN  \n",
       "3  2011    NaN  San Francisco     NaN  \n",
       "4  2011    NaN  San Francisco     NaN  "
      ]
     },
     "execution_count": 30,
     "metadata": {},
     "output_type": "execute_result"
    }
   ],
   "source": [
    "# LET US LOOK AT THE FIRST 5 ROWS\n",
    "\n",
    "# YOUR CODE IS HERE\n",
    "\n",
    "df.head()\n",
    "\n"
   ]
  },
  {
   "cell_type": "markdown",
   "metadata": {
    "id": "-MtROu1cbbEA"
   },
   "source": [
    "Desired Output:\n",
    "\n",
    "![image.png](https://i.ibb.co/6BTmGX8/assignment1a.png)"
   ]
  },
  {
   "cell_type": "code",
   "execution_count": 31,
   "metadata": {
    "id": "YwUmq9IAAd_Q"
   },
   "outputs": [
    {
     "data": {
      "text/html": [
       "<div>\n",
       "<style scoped>\n",
       "    .dataframe tbody tr th:only-of-type {\n",
       "        vertical-align: middle;\n",
       "    }\n",
       "\n",
       "    .dataframe tbody tr th {\n",
       "        vertical-align: top;\n",
       "    }\n",
       "\n",
       "    .dataframe thead th {\n",
       "        text-align: right;\n",
       "    }\n",
       "</style>\n",
       "<table border=\"1\" class=\"dataframe\">\n",
       "  <thead>\n",
       "    <tr style=\"text-align: right;\">\n",
       "      <th></th>\n",
       "      <th>Id</th>\n",
       "      <th>EmployeeName</th>\n",
       "      <th>JobTitle</th>\n",
       "      <th>BasePay</th>\n",
       "      <th>OvertimePay</th>\n",
       "      <th>OtherPay</th>\n",
       "      <th>Benefits</th>\n",
       "      <th>TotalPay</th>\n",
       "      <th>TotalPayBenefits</th>\n",
       "      <th>Year</th>\n",
       "      <th>Notes</th>\n",
       "      <th>Agency</th>\n",
       "      <th>Status</th>\n",
       "    </tr>\n",
       "  </thead>\n",
       "  <tbody>\n",
       "    <tr>\n",
       "      <th>131517</th>\n",
       "      <td>131518</td>\n",
       "      <td>Grace M Espinal</td>\n",
       "      <td>Senior Clerk</td>\n",
       "      <td>63269.01</td>\n",
       "      <td>990.64</td>\n",
       "      <td>1433.39</td>\n",
       "      <td>27918.48</td>\n",
       "      <td>65693.04</td>\n",
       "      <td>93611.52</td>\n",
       "      <td>2014</td>\n",
       "      <td>NaN</td>\n",
       "      <td>San Francisco</td>\n",
       "      <td>NaN</td>\n",
       "    </tr>\n",
       "  </tbody>\n",
       "</table>\n",
       "</div>"
      ],
      "text/plain": [
       "            Id     EmployeeName      JobTitle   BasePay  OvertimePay  \\\n",
       "131517  131518  Grace M Espinal  Senior Clerk  63269.01       990.64   \n",
       "\n",
       "        OtherPay  Benefits  TotalPay  TotalPayBenefits  Year  Notes  \\\n",
       "131517   1433.39  27918.48  65693.04          93611.52  2014    NaN   \n",
       "\n",
       "               Agency  Status  \n",
       "131517  San Francisco     NaN  "
      ]
     },
     "execution_count": 31,
     "metadata": {},
     "output_type": "execute_result"
    }
   ],
   "source": [
    "# LET US GET A SAMPLE\n",
    "\n",
    "# YOUR CODE IS HERE\n",
    "\n",
    "df.sample(1)\n",
    "\n"
   ]
  },
  {
   "cell_type": "markdown",
   "metadata": {
    "id": "zrDHcQRpbbEA"
   },
   "source": [
    "Desired Output (WATCH OUT! Your output may NOT be the same as the one):\n",
    "\n",
    "![image.png](https://i.ibb.co/mcsCxxC/assignment1b.png)"
   ]
  },
  {
   "cell_type": "code",
   "execution_count": 32,
   "metadata": {
    "id": "WuXy195gAd_Q"
   },
   "outputs": [
    {
     "name": "stdout",
     "output_type": "stream",
     "text": [
      "<class 'pandas.core.frame.DataFrame'>\n",
      "RangeIndex: 148654 entries, 0 to 148653\n",
      "Data columns (total 13 columns):\n",
      " #   Column            Non-Null Count   Dtype  \n",
      "---  ------            --------------   -----  \n",
      " 0   Id                148654 non-null  int64  \n",
      " 1   EmployeeName      148654 non-null  object \n",
      " 2   JobTitle          148654 non-null  object \n",
      " 3   BasePay           148045 non-null  float64\n",
      " 4   OvertimePay       148650 non-null  float64\n",
      " 5   OtherPay          148650 non-null  float64\n",
      " 6   Benefits          112491 non-null  float64\n",
      " 7   TotalPay          148654 non-null  float64\n",
      " 8   TotalPayBenefits  148654 non-null  float64\n",
      " 9   Year              148654 non-null  int64  \n",
      " 10  Notes             0 non-null       float64\n",
      " 11  Agency            148654 non-null  object \n",
      " 12  Status            0 non-null       float64\n",
      "dtypes: float64(8), int64(2), object(3)\n",
      "memory usage: 14.7+ MB\n"
     ]
    }
   ],
   "source": [
    "# YOUR CODE IS HERE\n",
    "\n",
    "df.info()\n",
    "\n"
   ]
  },
  {
   "cell_type": "raw",
   "metadata": {
    "id": "lB60UwzZbbEA"
   },
   "source": [
    "Desired Output:\n",
    "\n",
    "<class 'pandas.core.frame.DataFrame'>\n",
    "RangeIndex: 148654 entries, 0 to 148653\n",
    "Data columns (total 13 columns):\n",
    " #   Column            Non-Null Count   Dtype\n",
    "---  ------            --------------   -----\n",
    " 0   Id                148654 non-null  int64\n",
    " 1   EmployeeName      148654 non-null  object\n",
    " 2   JobTitle          148654 non-null  object\n",
    " 3   BasePay           148045 non-null  float64\n",
    " 4   OvertimePay       148650 non-null  float64\n",
    " 5   OtherPay          148650 non-null  float64\n",
    " 6   Benefits          112491 non-null  float64\n",
    " 7   TotalPay          148654 non-null  float64\n",
    " 8   TotalPayBenefits  148654 non-null  float64\n",
    " 9   Year              148654 non-null  int64\n",
    " 10  Notes             0 non-null       float64\n",
    " 11  Agency            148654 non-null  object\n",
    " 12  Status            0 non-null       float64\n",
    "dtypes: float64(8), int64(2), object(3)\n",
    "memory usage: 14.7+ MB"
   ]
  },
  {
   "cell_type": "code",
   "execution_count": 33,
   "metadata": {
    "id": "02GV54nZAd_R"
   },
   "outputs": [
    {
     "data": {
      "text/html": [
       "<div>\n",
       "<style scoped>\n",
       "    .dataframe tbody tr th:only-of-type {\n",
       "        vertical-align: middle;\n",
       "    }\n",
       "\n",
       "    .dataframe tbody tr th {\n",
       "        vertical-align: top;\n",
       "    }\n",
       "\n",
       "    .dataframe thead th {\n",
       "        text-align: right;\n",
       "    }\n",
       "</style>\n",
       "<table border=\"1\" class=\"dataframe\">\n",
       "  <thead>\n",
       "    <tr style=\"text-align: right;\">\n",
       "      <th></th>\n",
       "      <th>Id</th>\n",
       "      <th>BasePay</th>\n",
       "      <th>OvertimePay</th>\n",
       "      <th>OtherPay</th>\n",
       "      <th>Benefits</th>\n",
       "      <th>TotalPay</th>\n",
       "      <th>TotalPayBenefits</th>\n",
       "      <th>Year</th>\n",
       "      <th>Notes</th>\n",
       "      <th>Status</th>\n",
       "    </tr>\n",
       "  </thead>\n",
       "  <tbody>\n",
       "    <tr>\n",
       "      <th>count</th>\n",
       "      <td>148654.000000</td>\n",
       "      <td>148045.000000</td>\n",
       "      <td>148650.000000</td>\n",
       "      <td>148650.000000</td>\n",
       "      <td>112491.000000</td>\n",
       "      <td>148654.000000</td>\n",
       "      <td>148654.000000</td>\n",
       "      <td>148654.000000</td>\n",
       "      <td>0.0</td>\n",
       "      <td>0.0</td>\n",
       "    </tr>\n",
       "    <tr>\n",
       "      <th>mean</th>\n",
       "      <td>74327.500000</td>\n",
       "      <td>66325.448840</td>\n",
       "      <td>5066.059886</td>\n",
       "      <td>3648.767297</td>\n",
       "      <td>25007.893151</td>\n",
       "      <td>74768.321972</td>\n",
       "      <td>93692.554811</td>\n",
       "      <td>2012.522643</td>\n",
       "      <td>NaN</td>\n",
       "      <td>NaN</td>\n",
       "    </tr>\n",
       "    <tr>\n",
       "      <th>std</th>\n",
       "      <td>42912.857795</td>\n",
       "      <td>42764.635495</td>\n",
       "      <td>11454.380559</td>\n",
       "      <td>8056.601866</td>\n",
       "      <td>15402.215858</td>\n",
       "      <td>50517.005274</td>\n",
       "      <td>62793.533483</td>\n",
       "      <td>1.117538</td>\n",
       "      <td>NaN</td>\n",
       "      <td>NaN</td>\n",
       "    </tr>\n",
       "    <tr>\n",
       "      <th>min</th>\n",
       "      <td>1.000000</td>\n",
       "      <td>-166.010000</td>\n",
       "      <td>-0.010000</td>\n",
       "      <td>-7058.590000</td>\n",
       "      <td>-33.890000</td>\n",
       "      <td>-618.130000</td>\n",
       "      <td>-618.130000</td>\n",
       "      <td>2011.000000</td>\n",
       "      <td>NaN</td>\n",
       "      <td>NaN</td>\n",
       "    </tr>\n",
       "    <tr>\n",
       "      <th>25%</th>\n",
       "      <td>37164.250000</td>\n",
       "      <td>33588.200000</td>\n",
       "      <td>0.000000</td>\n",
       "      <td>0.000000</td>\n",
       "      <td>11535.395000</td>\n",
       "      <td>36168.995000</td>\n",
       "      <td>44065.650000</td>\n",
       "      <td>2012.000000</td>\n",
       "      <td>NaN</td>\n",
       "      <td>NaN</td>\n",
       "    </tr>\n",
       "    <tr>\n",
       "      <th>50%</th>\n",
       "      <td>74327.500000</td>\n",
       "      <td>65007.450000</td>\n",
       "      <td>0.000000</td>\n",
       "      <td>811.270000</td>\n",
       "      <td>28628.620000</td>\n",
       "      <td>71426.610000</td>\n",
       "      <td>92404.090000</td>\n",
       "      <td>2013.000000</td>\n",
       "      <td>NaN</td>\n",
       "      <td>NaN</td>\n",
       "    </tr>\n",
       "    <tr>\n",
       "      <th>75%</th>\n",
       "      <td>111490.750000</td>\n",
       "      <td>94691.050000</td>\n",
       "      <td>4658.175000</td>\n",
       "      <td>4236.065000</td>\n",
       "      <td>35566.855000</td>\n",
       "      <td>105839.135000</td>\n",
       "      <td>132876.450000</td>\n",
       "      <td>2014.000000</td>\n",
       "      <td>NaN</td>\n",
       "      <td>NaN</td>\n",
       "    </tr>\n",
       "    <tr>\n",
       "      <th>max</th>\n",
       "      <td>148654.000000</td>\n",
       "      <td>319275.010000</td>\n",
       "      <td>245131.880000</td>\n",
       "      <td>400184.250000</td>\n",
       "      <td>96570.660000</td>\n",
       "      <td>567595.430000</td>\n",
       "      <td>567595.430000</td>\n",
       "      <td>2014.000000</td>\n",
       "      <td>NaN</td>\n",
       "      <td>NaN</td>\n",
       "    </tr>\n",
       "  </tbody>\n",
       "</table>\n",
       "</div>"
      ],
      "text/plain": [
       "                  Id        BasePay    OvertimePay       OtherPay  \\\n",
       "count  148654.000000  148045.000000  148650.000000  148650.000000   \n",
       "mean    74327.500000   66325.448840    5066.059886    3648.767297   \n",
       "std     42912.857795   42764.635495   11454.380559    8056.601866   \n",
       "min         1.000000    -166.010000      -0.010000   -7058.590000   \n",
       "25%     37164.250000   33588.200000       0.000000       0.000000   \n",
       "50%     74327.500000   65007.450000       0.000000     811.270000   \n",
       "75%    111490.750000   94691.050000    4658.175000    4236.065000   \n",
       "max    148654.000000  319275.010000  245131.880000  400184.250000   \n",
       "\n",
       "            Benefits       TotalPay  TotalPayBenefits           Year  Notes  \\\n",
       "count  112491.000000  148654.000000     148654.000000  148654.000000    0.0   \n",
       "mean    25007.893151   74768.321972      93692.554811    2012.522643    NaN   \n",
       "std     15402.215858   50517.005274      62793.533483       1.117538    NaN   \n",
       "min       -33.890000    -618.130000       -618.130000    2011.000000    NaN   \n",
       "25%     11535.395000   36168.995000      44065.650000    2012.000000    NaN   \n",
       "50%     28628.620000   71426.610000      92404.090000    2013.000000    NaN   \n",
       "75%     35566.855000  105839.135000     132876.450000    2014.000000    NaN   \n",
       "max     96570.660000  567595.430000     567595.430000    2014.000000    NaN   \n",
       "\n",
       "       Status  \n",
       "count     0.0  \n",
       "mean      NaN  \n",
       "std       NaN  \n",
       "min       NaN  \n",
       "25%       NaN  \n",
       "50%       NaN  \n",
       "75%       NaN  \n",
       "max       NaN  "
      ]
     },
     "execution_count": 33,
     "metadata": {},
     "output_type": "execute_result"
    }
   ],
   "source": [
    "# LET US GET SOME DESCRIPTIVE MEASUREMENTS\n",
    "\n",
    "# YOUR CODE IS HERE\n",
    "\n",
    "df.describe()\n",
    "\n"
   ]
  },
  {
   "cell_type": "markdown",
   "metadata": {
    "id": "2l_P-JyCbbEB"
   },
   "source": [
    "Desired Output:\n",
    "\n",
    "![image.png](https://i.ibb.co/ftMP67H/assignmnet1c.png)"
   ]
  },
  {
   "cell_type": "markdown",
   "metadata": {
    "id": "vIWqIPCdAd_R"
   },
   "source": [
    "### How many different year values are there?"
   ]
  },
  {
   "cell_type": "code",
   "execution_count": 34,
   "metadata": {
    "id": "rT-R-ru5bbEB"
   },
   "outputs": [
    {
     "data": {
      "text/plain": [
       "Year\n",
       "2014    38123\n",
       "2013    37606\n",
       "2012    36766\n",
       "2011    36159\n",
       "Name: count, dtype: int64"
      ]
     },
     "execution_count": 34,
     "metadata": {},
     "output_type": "execute_result"
    }
   ],
   "source": [
    "# YOUR CODE IS HERE\n",
    "\n",
    "df['Year'].value_counts()\n",
    "\n"
   ]
  },
  {
   "cell_type": "raw",
   "metadata": {
    "id": "Kij-1q0RbbEB"
   },
   "source": [
    "Desired Output:\n",
    "\n",
    "2014    38123\n",
    "2013    37606\n",
    "2012    36766\n",
    "2011    36159\n",
    "Name: Year, dtype: int64"
   ]
  },
  {
   "cell_type": "code",
   "execution_count": 35,
   "metadata": {
    "id": "_QXgY1bWAd_S"
   },
   "outputs": [
    {
     "data": {
      "text/plain": [
       "4"
      ]
     },
     "execution_count": 35,
     "metadata": {},
     "output_type": "execute_result"
    }
   ],
   "source": [
    "# LET US FIND THE NUMBER OF UNIQUE VALUES IN THE COLUMN OF \"Year\"\n",
    "\n",
    "# YOUR CODE IS HERE\n",
    "\n",
    "df['Year'].nunique()\n"
   ]
  },
  {
   "cell_type": "raw",
   "metadata": {
    "id": "Phe8rBHqbbEC"
   },
   "source": [
    "Desired Output:\n",
    "\n",
    "4"
   ]
  },
  {
   "cell_type": "code",
   "execution_count": 36,
   "metadata": {
    "id": "fcvz1i37bbEC"
   },
   "outputs": [
    {
     "data": {
      "text/plain": [
       "array([2011, 2012, 2013, 2014])"
      ]
     },
     "execution_count": 36,
     "metadata": {},
     "output_type": "execute_result"
    }
   ],
   "source": [
    "# LET US FIND THE UNIQUE VALUES IN THE COLUMN OF \"Year\"\n",
    "\n",
    "# YOUR CODE IS HERE\n",
    "df['Year'].unique()\n"
   ]
  },
  {
   "cell_type": "raw",
   "metadata": {
    "id": "NLVACRa2bbEC"
   },
   "source": [
    "Desired Output:\n",
    "\n",
    "array([2011, 2012, 2013, 2014], dtype=int64)"
   ]
  },
  {
   "cell_type": "markdown",
   "metadata": {
    "id": "3KfOM05LAd_S"
   },
   "source": [
    "### Print out max and avg values in the column of \"Totalpay\"."
   ]
  },
  {
   "cell_type": "code",
   "execution_count": 37,
   "metadata": {
    "id": "gZM_k1oGAd_S"
   },
   "outputs": [
    {
     "data": {
      "text/plain": [
       "567595.43"
      ]
     },
     "execution_count": 37,
     "metadata": {},
     "output_type": "execute_result"
    }
   ],
   "source": [
    "# LET US FIND THE MAXIMUM TOTALPAY\n",
    "\n",
    "# YOUR CODE IS HERE\n",
    "\n",
    "df['TotalPay'].max()\n",
    "\n"
   ]
  },
  {
   "cell_type": "raw",
   "metadata": {
    "id": "9dELgOTHbbEC"
   },
   "source": [
    "Desired Output:\n",
    "\n",
    "567595.43"
   ]
  },
  {
   "cell_type": "code",
   "execution_count": 38,
   "metadata": {
    "id": "5QVwTgbKAd_S"
   },
   "outputs": [
    {
     "data": {
      "text/plain": [
       "74768.32197169267"
      ]
     },
     "execution_count": 38,
     "metadata": {},
     "output_type": "execute_result"
    }
   ],
   "source": [
    "# LET US FIND THE AVERAGE TOTALPAY\n",
    "\n",
    "# YOUR CODE IS HERE\n",
    "\n",
    "df['TotalPay'].mean()\n",
    "\n"
   ]
  },
  {
   "cell_type": "raw",
   "metadata": {
    "id": "kepC67mabbED"
   },
   "source": [
    "Desired Output:\n",
    "\n",
    "74768.321971703"
   ]
  },
  {
   "cell_type": "markdown",
   "metadata": {
    "id": "PBH4LugjAd_T"
   },
   "source": [
    "### How many records in the TotalPay column are there bigger than avg TotalPay?"
   ]
  },
  {
   "cell_type": "code",
   "execution_count": 39,
   "metadata": {
    "id": "oKcP5pC5bbED"
   },
   "outputs": [
    {
     "data": {
      "text/html": [
       "<div>\n",
       "<style scoped>\n",
       "    .dataframe tbody tr th:only-of-type {\n",
       "        vertical-align: middle;\n",
       "    }\n",
       "\n",
       "    .dataframe tbody tr th {\n",
       "        vertical-align: top;\n",
       "    }\n",
       "\n",
       "    .dataframe thead th {\n",
       "        text-align: right;\n",
       "    }\n",
       "</style>\n",
       "<table border=\"1\" class=\"dataframe\">\n",
       "  <thead>\n",
       "    <tr style=\"text-align: right;\">\n",
       "      <th></th>\n",
       "      <th>Id</th>\n",
       "      <th>EmployeeName</th>\n",
       "      <th>JobTitle</th>\n",
       "      <th>BasePay</th>\n",
       "      <th>OvertimePay</th>\n",
       "      <th>OtherPay</th>\n",
       "      <th>Benefits</th>\n",
       "      <th>TotalPay</th>\n",
       "      <th>TotalPayBenefits</th>\n",
       "      <th>Year</th>\n",
       "      <th>Notes</th>\n",
       "      <th>Agency</th>\n",
       "      <th>Status</th>\n",
       "    </tr>\n",
       "  </thead>\n",
       "  <tbody>\n",
       "    <tr>\n",
       "      <th>0</th>\n",
       "      <td>1</td>\n",
       "      <td>NATHANIEL FORD</td>\n",
       "      <td>GENERAL MANAGER-METROPOLITAN TRANSIT AUTHORITY</td>\n",
       "      <td>167411.18</td>\n",
       "      <td>0.00</td>\n",
       "      <td>400184.25</td>\n",
       "      <td>NaN</td>\n",
       "      <td>567595.43</td>\n",
       "      <td>567595.43</td>\n",
       "      <td>2011</td>\n",
       "      <td>NaN</td>\n",
       "      <td>San Francisco</td>\n",
       "      <td>NaN</td>\n",
       "    </tr>\n",
       "    <tr>\n",
       "      <th>1</th>\n",
       "      <td>2</td>\n",
       "      <td>GARY JIMENEZ</td>\n",
       "      <td>CAPTAIN III (POLICE DEPARTMENT)</td>\n",
       "      <td>155966.02</td>\n",
       "      <td>245131.88</td>\n",
       "      <td>137811.38</td>\n",
       "      <td>NaN</td>\n",
       "      <td>538909.28</td>\n",
       "      <td>538909.28</td>\n",
       "      <td>2011</td>\n",
       "      <td>NaN</td>\n",
       "      <td>San Francisco</td>\n",
       "      <td>NaN</td>\n",
       "    </tr>\n",
       "    <tr>\n",
       "      <th>2</th>\n",
       "      <td>3</td>\n",
       "      <td>ALBERT PARDINI</td>\n",
       "      <td>CAPTAIN III (POLICE DEPARTMENT)</td>\n",
       "      <td>212739.13</td>\n",
       "      <td>106088.18</td>\n",
       "      <td>16452.60</td>\n",
       "      <td>NaN</td>\n",
       "      <td>335279.91</td>\n",
       "      <td>335279.91</td>\n",
       "      <td>2011</td>\n",
       "      <td>NaN</td>\n",
       "      <td>San Francisco</td>\n",
       "      <td>NaN</td>\n",
       "    </tr>\n",
       "    <tr>\n",
       "      <th>3</th>\n",
       "      <td>4</td>\n",
       "      <td>CHRISTOPHER CHONG</td>\n",
       "      <td>WIRE ROPE CABLE MAINTENANCE MECHANIC</td>\n",
       "      <td>77916.00</td>\n",
       "      <td>56120.71</td>\n",
       "      <td>198306.90</td>\n",
       "      <td>NaN</td>\n",
       "      <td>332343.61</td>\n",
       "      <td>332343.61</td>\n",
       "      <td>2011</td>\n",
       "      <td>NaN</td>\n",
       "      <td>San Francisco</td>\n",
       "      <td>NaN</td>\n",
       "    </tr>\n",
       "    <tr>\n",
       "      <th>4</th>\n",
       "      <td>5</td>\n",
       "      <td>PATRICK GARDNER</td>\n",
       "      <td>DEPUTY CHIEF OF DEPARTMENT,(FIRE DEPARTMENT)</td>\n",
       "      <td>134401.60</td>\n",
       "      <td>9737.00</td>\n",
       "      <td>182234.59</td>\n",
       "      <td>NaN</td>\n",
       "      <td>326373.19</td>\n",
       "      <td>326373.19</td>\n",
       "      <td>2011</td>\n",
       "      <td>NaN</td>\n",
       "      <td>San Francisco</td>\n",
       "      <td>NaN</td>\n",
       "    </tr>\n",
       "    <tr>\n",
       "      <th>...</th>\n",
       "      <td>...</td>\n",
       "      <td>...</td>\n",
       "      <td>...</td>\n",
       "      <td>...</td>\n",
       "      <td>...</td>\n",
       "      <td>...</td>\n",
       "      <td>...</td>\n",
       "      <td>...</td>\n",
       "      <td>...</td>\n",
       "      <td>...</td>\n",
       "      <td>...</td>\n",
       "      <td>...</td>\n",
       "      <td>...</td>\n",
       "    </tr>\n",
       "    <tr>\n",
       "      <th>135701</th>\n",
       "      <td>135702</td>\n",
       "      <td>Christina S Jee</td>\n",
       "      <td>Nurse Practitioner</td>\n",
       "      <td>70635.61</td>\n",
       "      <td>0.00</td>\n",
       "      <td>6550.41</td>\n",
       "      <td>771.88</td>\n",
       "      <td>77186.02</td>\n",
       "      <td>77957.90</td>\n",
       "      <td>2014</td>\n",
       "      <td>NaN</td>\n",
       "      <td>San Francisco</td>\n",
       "      <td>NaN</td>\n",
       "    </tr>\n",
       "    <tr>\n",
       "      <th>135778</th>\n",
       "      <td>135779</td>\n",
       "      <td>Mary Ann T Abille</td>\n",
       "      <td>Special Nurse</td>\n",
       "      <td>60889.34</td>\n",
       "      <td>6815.67</td>\n",
       "      <td>9041.21</td>\n",
       "      <td>767.47</td>\n",
       "      <td>76746.22</td>\n",
       "      <td>77513.69</td>\n",
       "      <td>2014</td>\n",
       "      <td>NaN</td>\n",
       "      <td>San Francisco</td>\n",
       "      <td>NaN</td>\n",
       "    </tr>\n",
       "    <tr>\n",
       "      <th>135847</th>\n",
       "      <td>135848</td>\n",
       "      <td>Emilda E Reinosa</td>\n",
       "      <td>Special Nurse</td>\n",
       "      <td>76305.74</td>\n",
       "      <td>0.00</td>\n",
       "      <td>0.00</td>\n",
       "      <td>763.08</td>\n",
       "      <td>76305.74</td>\n",
       "      <td>77068.82</td>\n",
       "      <td>2014</td>\n",
       "      <td>NaN</td>\n",
       "      <td>San Francisco</td>\n",
       "      <td>NaN</td>\n",
       "    </tr>\n",
       "    <tr>\n",
       "      <th>135853</th>\n",
       "      <td>135854</td>\n",
       "      <td>David G Evans</td>\n",
       "      <td>Special Nurse</td>\n",
       "      <td>71178.15</td>\n",
       "      <td>2748.15</td>\n",
       "      <td>2354.40</td>\n",
       "      <td>762.81</td>\n",
       "      <td>76280.70</td>\n",
       "      <td>77043.51</td>\n",
       "      <td>2014</td>\n",
       "      <td>NaN</td>\n",
       "      <td>San Francisco</td>\n",
       "      <td>NaN</td>\n",
       "    </tr>\n",
       "    <tr>\n",
       "      <th>136063</th>\n",
       "      <td>136064</td>\n",
       "      <td>Nicole Joe</td>\n",
       "      <td>Special Nurse</td>\n",
       "      <td>61276.59</td>\n",
       "      <td>8538.44</td>\n",
       "      <td>5078.67</td>\n",
       "      <td>748.95</td>\n",
       "      <td>74893.70</td>\n",
       "      <td>75642.65</td>\n",
       "      <td>2014</td>\n",
       "      <td>NaN</td>\n",
       "      <td>San Francisco</td>\n",
       "      <td>NaN</td>\n",
       "    </tr>\n",
       "  </tbody>\n",
       "</table>\n",
       "<p>69489 rows × 13 columns</p>\n",
       "</div>"
      ],
      "text/plain": [
       "            Id       EmployeeName  \\\n",
       "0            1     NATHANIEL FORD   \n",
       "1            2       GARY JIMENEZ   \n",
       "2            3     ALBERT PARDINI   \n",
       "3            4  CHRISTOPHER CHONG   \n",
       "4            5    PATRICK GARDNER   \n",
       "...        ...                ...   \n",
       "135701  135702    Christina S Jee   \n",
       "135778  135779  Mary Ann T Abille   \n",
       "135847  135848   Emilda E Reinosa   \n",
       "135853  135854      David G Evans   \n",
       "136063  136064         Nicole Joe   \n",
       "\n",
       "                                              JobTitle    BasePay  \\\n",
       "0       GENERAL MANAGER-METROPOLITAN TRANSIT AUTHORITY  167411.18   \n",
       "1                      CAPTAIN III (POLICE DEPARTMENT)  155966.02   \n",
       "2                      CAPTAIN III (POLICE DEPARTMENT)  212739.13   \n",
       "3                 WIRE ROPE CABLE MAINTENANCE MECHANIC   77916.00   \n",
       "4         DEPUTY CHIEF OF DEPARTMENT,(FIRE DEPARTMENT)  134401.60   \n",
       "...                                                ...        ...   \n",
       "135701                              Nurse Practitioner   70635.61   \n",
       "135778                                   Special Nurse   60889.34   \n",
       "135847                                   Special Nurse   76305.74   \n",
       "135853                                   Special Nurse   71178.15   \n",
       "136063                                   Special Nurse   61276.59   \n",
       "\n",
       "        OvertimePay   OtherPay  Benefits   TotalPay  TotalPayBenefits  Year  \\\n",
       "0              0.00  400184.25       NaN  567595.43         567595.43  2011   \n",
       "1         245131.88  137811.38       NaN  538909.28         538909.28  2011   \n",
       "2         106088.18   16452.60       NaN  335279.91         335279.91  2011   \n",
       "3          56120.71  198306.90       NaN  332343.61         332343.61  2011   \n",
       "4           9737.00  182234.59       NaN  326373.19         326373.19  2011   \n",
       "...             ...        ...       ...        ...               ...   ...   \n",
       "135701         0.00    6550.41    771.88   77186.02          77957.90  2014   \n",
       "135778      6815.67    9041.21    767.47   76746.22          77513.69  2014   \n",
       "135847         0.00       0.00    763.08   76305.74          77068.82  2014   \n",
       "135853      2748.15    2354.40    762.81   76280.70          77043.51  2014   \n",
       "136063      8538.44    5078.67    748.95   74893.70          75642.65  2014   \n",
       "\n",
       "        Notes         Agency  Status  \n",
       "0         NaN  San Francisco     NaN  \n",
       "1         NaN  San Francisco     NaN  \n",
       "2         NaN  San Francisco     NaN  \n",
       "3         NaN  San Francisco     NaN  \n",
       "4         NaN  San Francisco     NaN  \n",
       "...       ...            ...     ...  \n",
       "135701    NaN  San Francisco     NaN  \n",
       "135778    NaN  San Francisco     NaN  \n",
       "135847    NaN  San Francisco     NaN  \n",
       "135853    NaN  San Francisco     NaN  \n",
       "136063    NaN  San Francisco     NaN  \n",
       "\n",
       "[69489 rows x 13 columns]"
      ]
     },
     "execution_count": 39,
     "metadata": {},
     "output_type": "execute_result"
    }
   ],
   "source": [
    "# YOUR CODE IS HERE\n",
    "df[df['TotalPay'] > df['TotalPay'].mean()] \n",
    "\n"
   ]
  },
  {
   "cell_type": "markdown",
   "metadata": {
    "id": "5QKeGlLRbbED"
   },
   "source": [
    "Desired Output:\n",
    "\n",
    "![image.png](https://i.ibb.co/nj84FbZ/assignment1d.png)"
   ]
  },
  {
   "cell_type": "code",
   "execution_count": 40,
   "metadata": {
    "id": "DzLK-P0zAd_T"
   },
   "outputs": [
    {
     "data": {
      "text/plain": [
       "69489"
      ]
     },
     "execution_count": 40,
     "metadata": {},
     "output_type": "execute_result"
    }
   ],
   "source": [
    "# YOUR CODE IS HERE\n",
    "\n",
    "df[df['TotalPay'] > df['TotalPay'].mean()].shape[0] \n",
    "\n",
    "\n"
   ]
  },
  {
   "cell_type": "raw",
   "metadata": {
    "id": "geg4aguKbbED"
   },
   "source": [
    "Desired Output:\n",
    "\n",
    "69489"
   ]
  },
  {
   "cell_type": "markdown",
   "metadata": {
    "id": "msGIAyWWAd_T"
   },
   "source": [
    "### How much does ALBERT PARDINI make money (including benefits)?"
   ]
  },
  {
   "cell_type": "code",
   "execution_count": 41,
   "metadata": {
    "id": "Lp85lU0cAd_T"
   },
   "outputs": [
    {
     "data": {
      "text/plain": [
       "2    335279.91\n",
       "Name: TotalPayBenefits, dtype: float64"
      ]
     },
     "execution_count": 41,
     "metadata": {},
     "output_type": "execute_result"
    }
   ],
   "source": [
    "# YOUR CODE IS HERE\n",
    "\n",
    "df[df['EmployeeName'] == 'ALBERT PARDINI']['TotalPayBenefits']\n",
    "\n"
   ]
  },
  {
   "cell_type": "raw",
   "metadata": {
    "id": "d6vmLPIFbbED"
   },
   "source": [
    "Desired Output:\n",
    "\n",
    "2    335279.91\n",
    "Name: TotalPayBenefits, dtype: float64"
   ]
  },
  {
   "cell_type": "markdown",
   "metadata": {
    "id": "EhGLJuApAd_U"
   },
   "source": [
    "### Who is the lowest paid person?"
   ]
  },
  {
   "cell_type": "code",
   "execution_count": 42,
   "metadata": {},
   "outputs": [
    {
     "data": {
      "text/plain": [
       "148653    Joe Lopez\n",
       "dtype: object"
      ]
     },
     "execution_count": 42,
     "metadata": {},
     "output_type": "execute_result"
    }
   ],
   "source": [
    "pd.Series(df.loc[df['TotalPayBenefits'].idxmin(), 'EmployeeName'], index=[df['TotalPayBenefits'].idxmin()] )"
   ]
  },
  {
   "cell_type": "raw",
   "metadata": {
    "id": "fK4U0MkhbbEE"
   },
   "source": [
    "Desired Output:\n",
    "\n",
    "148653    Joe Lopez\n",
    "Name: EmployeeName, dtype: object"
   ]
  },
  {
   "cell_type": "markdown",
   "metadata": {
    "id": "KX1hSaoCAd_U"
   },
   "source": [
    "### What are the unique Jobs in dataset?"
   ]
  },
  {
   "cell_type": "code",
   "execution_count": 43,
   "metadata": {
    "id": "O97fqU91Ad_U"
   },
   "outputs": [
    {
     "data": {
      "text/plain": [
       "array(['GENERAL MANAGER-METROPOLITAN TRANSIT AUTHORITY',\n",
       "       'CAPTAIN III (POLICE DEPARTMENT)',\n",
       "       'WIRE ROPE CABLE MAINTENANCE MECHANIC', ..., 'Conversion',\n",
       "       'Cashier 3', 'Not provided'], dtype=object)"
      ]
     },
     "execution_count": 43,
     "metadata": {},
     "output_type": "execute_result"
    }
   ],
   "source": [
    "# YOUR CODE IS HERE\n",
    "\n",
    "df['JobTitle'].unique()\n",
    "\n"
   ]
  },
  {
   "cell_type": "raw",
   "metadata": {
    "id": "pQAgPhEtbbEE"
   },
   "source": [
    "Desired Output:\n",
    "\n",
    "array(['GENERAL MANAGER-METROPOLITAN TRANSIT AUTHORITY',\n",
    "       'CAPTAIN III (POLICE DEPARTMENT)',\n",
    "       'WIRE ROPE CABLE MAINTENANCE MECHANIC', ..., 'Conversion',\n",
    "       'Cashier 3', 'Not provided'], dtype=object)"
   ]
  },
  {
   "cell_type": "markdown",
   "metadata": {
    "id": "CsYDrYVDAd_V"
   },
   "source": [
    "### List the top 3 least common Jobs in the dataset."
   ]
  },
  {
   "cell_type": "code",
   "execution_count": 44,
   "metadata": {
    "id": "DsZuPQVeAd_V"
   },
   "outputs": [
    {
     "data": {
      "text/plain": [
       "JobTitle\n",
       "COURT COMPUTER FACILITIES COORDINATOR             1\n",
       "AUTOMOTIVE BODY AND FENDER WORKER SUPERVISOR I    1\n",
       "VICTIM & WITNESS TECHNICIAN                       1\n",
       "Name: count, dtype: int64"
      ]
     },
     "execution_count": 44,
     "metadata": {},
     "output_type": "execute_result"
    }
   ],
   "source": [
    "# YOUR CODE IS HERE\n",
    "df['JobTitle'].value_counts().tail(3)\n",
    "\n"
   ]
  },
  {
   "cell_type": "raw",
   "metadata": {
    "id": "moN1OeYDbbEE"
   },
   "source": [
    "Desired Output:\n",
    "\n",
    "COURT COMPUTER FACILITIES COORDINATOR             1\n",
    "AUTOMOTIVE BODY AND FENDER WORKER SUPERVISOR I    1\n",
    "VICTIM & WITNESS TECHNICIAN                       1\n",
    "Name: JobTitle, dtype: int64"
   ]
  },
  {
   "cell_type": "markdown",
   "metadata": {
    "id": "6bY1SKD1Ad_V"
   },
   "source": [
    "### How many people earned more than avg in 2012?"
   ]
  },
  {
   "cell_type": "code",
   "execution_count": 45,
   "metadata": {},
   "outputs": [
    {
     "data": {
      "text/html": [
       "<div>\n",
       "<style scoped>\n",
       "    .dataframe tbody tr th:only-of-type {\n",
       "        vertical-align: middle;\n",
       "    }\n",
       "\n",
       "    .dataframe tbody tr th {\n",
       "        vertical-align: top;\n",
       "    }\n",
       "\n",
       "    .dataframe thead th {\n",
       "        text-align: right;\n",
       "    }\n",
       "</style>\n",
       "<table border=\"1\" class=\"dataframe\">\n",
       "  <thead>\n",
       "    <tr style=\"text-align: right;\">\n",
       "      <th></th>\n",
       "      <th>Id</th>\n",
       "      <th>EmployeeName</th>\n",
       "      <th>JobTitle</th>\n",
       "      <th>BasePay</th>\n",
       "      <th>OvertimePay</th>\n",
       "      <th>OtherPay</th>\n",
       "      <th>Benefits</th>\n",
       "      <th>TotalPay</th>\n",
       "      <th>TotalPayBenefits</th>\n",
       "      <th>Year</th>\n",
       "      <th>Notes</th>\n",
       "      <th>Agency</th>\n",
       "      <th>Status</th>\n",
       "    </tr>\n",
       "  </thead>\n",
       "  <tbody>\n",
       "    <tr>\n",
       "      <th>36159</th>\n",
       "      <td>36160</td>\n",
       "      <td>Gary Altenberg</td>\n",
       "      <td>Lieutenant, Fire Suppression</td>\n",
       "      <td>128808.87</td>\n",
       "      <td>220909.48</td>\n",
       "      <td>13126.31</td>\n",
       "      <td>44430.12</td>\n",
       "      <td>362844.66</td>\n",
       "      <td>407274.78</td>\n",
       "      <td>2012</td>\n",
       "      <td>NaN</td>\n",
       "      <td>San Francisco</td>\n",
       "      <td>NaN</td>\n",
       "    </tr>\n",
       "    <tr>\n",
       "      <th>36160</th>\n",
       "      <td>36161</td>\n",
       "      <td>Gregory Suhr</td>\n",
       "      <td>Chief of Police</td>\n",
       "      <td>302578.00</td>\n",
       "      <td>0.00</td>\n",
       "      <td>18974.11</td>\n",
       "      <td>69810.19</td>\n",
       "      <td>321552.11</td>\n",
       "      <td>391362.30</td>\n",
       "      <td>2012</td>\n",
       "      <td>NaN</td>\n",
       "      <td>San Francisco</td>\n",
       "      <td>NaN</td>\n",
       "    </tr>\n",
       "    <tr>\n",
       "      <th>36161</th>\n",
       "      <td>36162</td>\n",
       "      <td>Khoa Trinh</td>\n",
       "      <td>Electronic Maintenance Tech</td>\n",
       "      <td>111921.00</td>\n",
       "      <td>146415.32</td>\n",
       "      <td>78057.41</td>\n",
       "      <td>53102.29</td>\n",
       "      <td>336393.73</td>\n",
       "      <td>389496.02</td>\n",
       "      <td>2012</td>\n",
       "      <td>NaN</td>\n",
       "      <td>San Francisco</td>\n",
       "      <td>NaN</td>\n",
       "    </tr>\n",
       "    <tr>\n",
       "      <th>36162</th>\n",
       "      <td>36163</td>\n",
       "      <td>Joanne Hayes-White</td>\n",
       "      <td>Chief, Fire Department</td>\n",
       "      <td>296943.01</td>\n",
       "      <td>0.00</td>\n",
       "      <td>17816.59</td>\n",
       "      <td>72047.88</td>\n",
       "      <td>314759.60</td>\n",
       "      <td>386807.48</td>\n",
       "      <td>2012</td>\n",
       "      <td>NaN</td>\n",
       "      <td>San Francisco</td>\n",
       "      <td>NaN</td>\n",
       "    </tr>\n",
       "    <tr>\n",
       "      <th>36163</th>\n",
       "      <td>36164</td>\n",
       "      <td>Frederick Binkley</td>\n",
       "      <td>EMT/Paramedic/Firefighter</td>\n",
       "      <td>126863.19</td>\n",
       "      <td>192424.49</td>\n",
       "      <td>17917.18</td>\n",
       "      <td>44438.25</td>\n",
       "      <td>337204.86</td>\n",
       "      <td>381643.11</td>\n",
       "      <td>2012</td>\n",
       "      <td>NaN</td>\n",
       "      <td>San Francisco</td>\n",
       "      <td>NaN</td>\n",
       "    </tr>\n",
       "    <tr>\n",
       "      <th>...</th>\n",
       "      <td>...</td>\n",
       "      <td>...</td>\n",
       "      <td>...</td>\n",
       "      <td>...</td>\n",
       "      <td>...</td>\n",
       "      <td>...</td>\n",
       "      <td>...</td>\n",
       "      <td>...</td>\n",
       "      <td>...</td>\n",
       "      <td>...</td>\n",
       "      <td>...</td>\n",
       "      <td>...</td>\n",
       "      <td>...</td>\n",
       "    </tr>\n",
       "    <tr>\n",
       "      <th>72920</th>\n",
       "      <td>72921</td>\n",
       "      <td>Charles Williams</td>\n",
       "      <td>Junior Clerk</td>\n",
       "      <td>-30.58</td>\n",
       "      <td>45.87</td>\n",
       "      <td>0.00</td>\n",
       "      <td>1.36</td>\n",
       "      <td>15.29</td>\n",
       "      <td>16.65</td>\n",
       "      <td>2012</td>\n",
       "      <td>NaN</td>\n",
       "      <td>San Francisco</td>\n",
       "      <td>NaN</td>\n",
       "    </tr>\n",
       "    <tr>\n",
       "      <th>72921</th>\n",
       "      <td>72922</td>\n",
       "      <td>John Carajan</td>\n",
       "      <td>General Laborer</td>\n",
       "      <td>0.00</td>\n",
       "      <td>0.00</td>\n",
       "      <td>0.00</td>\n",
       "      <td>12.90</td>\n",
       "      <td>0.00</td>\n",
       "      <td>12.90</td>\n",
       "      <td>2012</td>\n",
       "      <td>NaN</td>\n",
       "      <td>San Francisco</td>\n",
       "      <td>NaN</td>\n",
       "    </tr>\n",
       "    <tr>\n",
       "      <th>72922</th>\n",
       "      <td>72923</td>\n",
       "      <td>John Draper</td>\n",
       "      <td>Clerk</td>\n",
       "      <td>-9.50</td>\n",
       "      <td>14.25</td>\n",
       "      <td>0.00</td>\n",
       "      <td>0.42</td>\n",
       "      <td>4.75</td>\n",
       "      <td>5.17</td>\n",
       "      <td>2012</td>\n",
       "      <td>NaN</td>\n",
       "      <td>San Francisco</td>\n",
       "      <td>NaN</td>\n",
       "    </tr>\n",
       "    <tr>\n",
       "      <th>72923</th>\n",
       "      <td>72924</td>\n",
       "      <td>Cherise Wong</td>\n",
       "      <td>Special Nurse</td>\n",
       "      <td>0.00</td>\n",
       "      <td>0.00</td>\n",
       "      <td>3.28</td>\n",
       "      <td>0.88</td>\n",
       "      <td>3.28</td>\n",
       "      <td>4.16</td>\n",
       "      <td>2012</td>\n",
       "      <td>NaN</td>\n",
       "      <td>San Francisco</td>\n",
       "      <td>NaN</td>\n",
       "    </tr>\n",
       "    <tr>\n",
       "      <th>72924</th>\n",
       "      <td>72925</td>\n",
       "      <td>Donald Clark</td>\n",
       "      <td>Transit Operator</td>\n",
       "      <td>0.00</td>\n",
       "      <td>0.00</td>\n",
       "      <td>1.77</td>\n",
       "      <td>0.14</td>\n",
       "      <td>1.77</td>\n",
       "      <td>1.91</td>\n",
       "      <td>2012</td>\n",
       "      <td>NaN</td>\n",
       "      <td>San Francisco</td>\n",
       "      <td>NaN</td>\n",
       "    </tr>\n",
       "  </tbody>\n",
       "</table>\n",
       "<p>36766 rows × 13 columns</p>\n",
       "</div>"
      ],
      "text/plain": [
       "          Id        EmployeeName                      JobTitle    BasePay  \\\n",
       "36159  36160      Gary Altenberg  Lieutenant, Fire Suppression  128808.87   \n",
       "36160  36161        Gregory Suhr               Chief of Police  302578.00   \n",
       "36161  36162          Khoa Trinh   Electronic Maintenance Tech  111921.00   \n",
       "36162  36163  Joanne Hayes-White        Chief, Fire Department  296943.01   \n",
       "36163  36164   Frederick Binkley     EMT/Paramedic/Firefighter  126863.19   \n",
       "...      ...                 ...                           ...        ...   \n",
       "72920  72921    Charles Williams                  Junior Clerk     -30.58   \n",
       "72921  72922        John Carajan               General Laborer       0.00   \n",
       "72922  72923         John Draper                         Clerk      -9.50   \n",
       "72923  72924        Cherise Wong                 Special Nurse       0.00   \n",
       "72924  72925        Donald Clark              Transit Operator       0.00   \n",
       "\n",
       "       OvertimePay  OtherPay  Benefits   TotalPay  TotalPayBenefits  Year  \\\n",
       "36159    220909.48  13126.31  44430.12  362844.66         407274.78  2012   \n",
       "36160         0.00  18974.11  69810.19  321552.11         391362.30  2012   \n",
       "36161    146415.32  78057.41  53102.29  336393.73         389496.02  2012   \n",
       "36162         0.00  17816.59  72047.88  314759.60         386807.48  2012   \n",
       "36163    192424.49  17917.18  44438.25  337204.86         381643.11  2012   \n",
       "...            ...       ...       ...        ...               ...   ...   \n",
       "72920        45.87      0.00      1.36      15.29             16.65  2012   \n",
       "72921         0.00      0.00     12.90       0.00             12.90  2012   \n",
       "72922        14.25      0.00      0.42       4.75              5.17  2012   \n",
       "72923         0.00      3.28      0.88       3.28              4.16  2012   \n",
       "72924         0.00      1.77      0.14       1.77              1.91  2012   \n",
       "\n",
       "       Notes         Agency  Status  \n",
       "36159    NaN  San Francisco     NaN  \n",
       "36160    NaN  San Francisco     NaN  \n",
       "36161    NaN  San Francisco     NaN  \n",
       "36162    NaN  San Francisco     NaN  \n",
       "36163    NaN  San Francisco     NaN  \n",
       "...      ...            ...     ...  \n",
       "72920    NaN  San Francisco     NaN  \n",
       "72921    NaN  San Francisco     NaN  \n",
       "72922    NaN  San Francisco     NaN  \n",
       "72923    NaN  San Francisco     NaN  \n",
       "72924    NaN  San Francisco     NaN  \n",
       "\n",
       "[36766 rows x 13 columns]"
      ]
     },
     "execution_count": 45,
     "metadata": {},
     "output_type": "execute_result"
    }
   ],
   "source": [
    "data_2012 = df[df['Year'] == 2012]\n",
    "data_2012\n"
   ]
  },
  {
   "cell_type": "code",
   "execution_count": 70,
   "metadata": {},
   "outputs": [
    {
     "data": {
      "text/plain": [
       "100553.22923244302"
      ]
     },
     "execution_count": 70,
     "metadata": {},
     "output_type": "execute_result"
    }
   ],
   "source": [
    "avg_2012 = data_2012['TotalPayBenefits'].mean()\n",
    "avg_2012"
   ]
  },
  {
   "cell_type": "code",
   "execution_count": 72,
   "metadata": {},
   "outputs": [
    {
     "data": {
      "text/html": [
       "<div>\n",
       "<style scoped>\n",
       "    .dataframe tbody tr th:only-of-type {\n",
       "        vertical-align: middle;\n",
       "    }\n",
       "\n",
       "    .dataframe tbody tr th {\n",
       "        vertical-align: top;\n",
       "    }\n",
       "\n",
       "    .dataframe thead th {\n",
       "        text-align: right;\n",
       "    }\n",
       "</style>\n",
       "<table border=\"1\" class=\"dataframe\">\n",
       "  <thead>\n",
       "    <tr style=\"text-align: right;\">\n",
       "      <th></th>\n",
       "      <th>Id</th>\n",
       "      <th>EmployeeName</th>\n",
       "      <th>JobTitle</th>\n",
       "      <th>BasePay</th>\n",
       "      <th>OvertimePay</th>\n",
       "      <th>OtherPay</th>\n",
       "      <th>Benefits</th>\n",
       "      <th>TotalPay</th>\n",
       "      <th>TotalPayBenefits</th>\n",
       "      <th>Year</th>\n",
       "      <th>Notes</th>\n",
       "      <th>Agency</th>\n",
       "      <th>Status</th>\n",
       "    </tr>\n",
       "  </thead>\n",
       "  <tbody>\n",
       "    <tr>\n",
       "      <th>36159</th>\n",
       "      <td>36160</td>\n",
       "      <td>Gary Altenberg</td>\n",
       "      <td>Lieutenant, Fire Suppression</td>\n",
       "      <td>128808.87</td>\n",
       "      <td>220909.48</td>\n",
       "      <td>13126.31</td>\n",
       "      <td>44430.12</td>\n",
       "      <td>362844.66</td>\n",
       "      <td>407274.78</td>\n",
       "      <td>2012</td>\n",
       "      <td>NaN</td>\n",
       "      <td>San Francisco</td>\n",
       "      <td>NaN</td>\n",
       "    </tr>\n",
       "    <tr>\n",
       "      <th>36160</th>\n",
       "      <td>36161</td>\n",
       "      <td>Gregory Suhr</td>\n",
       "      <td>Chief of Police</td>\n",
       "      <td>302578.00</td>\n",
       "      <td>0.00</td>\n",
       "      <td>18974.11</td>\n",
       "      <td>69810.19</td>\n",
       "      <td>321552.11</td>\n",
       "      <td>391362.30</td>\n",
       "      <td>2012</td>\n",
       "      <td>NaN</td>\n",
       "      <td>San Francisco</td>\n",
       "      <td>NaN</td>\n",
       "    </tr>\n",
       "    <tr>\n",
       "      <th>36161</th>\n",
       "      <td>36162</td>\n",
       "      <td>Khoa Trinh</td>\n",
       "      <td>Electronic Maintenance Tech</td>\n",
       "      <td>111921.00</td>\n",
       "      <td>146415.32</td>\n",
       "      <td>78057.41</td>\n",
       "      <td>53102.29</td>\n",
       "      <td>336393.73</td>\n",
       "      <td>389496.02</td>\n",
       "      <td>2012</td>\n",
       "      <td>NaN</td>\n",
       "      <td>San Francisco</td>\n",
       "      <td>NaN</td>\n",
       "    </tr>\n",
       "    <tr>\n",
       "      <th>36162</th>\n",
       "      <td>36163</td>\n",
       "      <td>Joanne Hayes-White</td>\n",
       "      <td>Chief, Fire Department</td>\n",
       "      <td>296943.01</td>\n",
       "      <td>0.00</td>\n",
       "      <td>17816.59</td>\n",
       "      <td>72047.88</td>\n",
       "      <td>314759.60</td>\n",
       "      <td>386807.48</td>\n",
       "      <td>2012</td>\n",
       "      <td>NaN</td>\n",
       "      <td>San Francisco</td>\n",
       "      <td>NaN</td>\n",
       "    </tr>\n",
       "    <tr>\n",
       "      <th>36163</th>\n",
       "      <td>36164</td>\n",
       "      <td>Frederick Binkley</td>\n",
       "      <td>EMT/Paramedic/Firefighter</td>\n",
       "      <td>126863.19</td>\n",
       "      <td>192424.49</td>\n",
       "      <td>17917.18</td>\n",
       "      <td>44438.25</td>\n",
       "      <td>337204.86</td>\n",
       "      <td>381643.11</td>\n",
       "      <td>2012</td>\n",
       "      <td>NaN</td>\n",
       "      <td>San Francisco</td>\n",
       "      <td>NaN</td>\n",
       "    </tr>\n",
       "    <tr>\n",
       "      <th>...</th>\n",
       "      <td>...</td>\n",
       "      <td>...</td>\n",
       "      <td>...</td>\n",
       "      <td>...</td>\n",
       "      <td>...</td>\n",
       "      <td>...</td>\n",
       "      <td>...</td>\n",
       "      <td>...</td>\n",
       "      <td>...</td>\n",
       "      <td>...</td>\n",
       "      <td>...</td>\n",
       "      <td>...</td>\n",
       "      <td>...</td>\n",
       "    </tr>\n",
       "    <tr>\n",
       "      <th>54857</th>\n",
       "      <td>54858</td>\n",
       "      <td>Wanda Williams</td>\n",
       "      <td>Transit Operator</td>\n",
       "      <td>57219.28</td>\n",
       "      <td>8358.60</td>\n",
       "      <td>1362.29</td>\n",
       "      <td>33632.35</td>\n",
       "      <td>66940.17</td>\n",
       "      <td>100572.52</td>\n",
       "      <td>2012</td>\n",
       "      <td>NaN</td>\n",
       "      <td>San Francisco</td>\n",
       "      <td>NaN</td>\n",
       "    </tr>\n",
       "    <tr>\n",
       "      <th>54858</th>\n",
       "      <td>54859</td>\n",
       "      <td>Adriana Touhey</td>\n",
       "      <td>Central Processing &amp; Dist Tech</td>\n",
       "      <td>66882.02</td>\n",
       "      <td>2023.39</td>\n",
       "      <td>824.00</td>\n",
       "      <td>30842.27</td>\n",
       "      <td>69729.41</td>\n",
       "      <td>100571.68</td>\n",
       "      <td>2012</td>\n",
       "      <td>NaN</td>\n",
       "      <td>San Francisco</td>\n",
       "      <td>NaN</td>\n",
       "    </tr>\n",
       "    <tr>\n",
       "      <th>54859</th>\n",
       "      <td>54860</td>\n",
       "      <td>Maria Porras</td>\n",
       "      <td>Transit Operator</td>\n",
       "      <td>53356.22</td>\n",
       "      <td>16048.06</td>\n",
       "      <td>402.93</td>\n",
       "      <td>30761.25</td>\n",
       "      <td>69807.21</td>\n",
       "      <td>100568.46</td>\n",
       "      <td>2012</td>\n",
       "      <td>NaN</td>\n",
       "      <td>San Francisco</td>\n",
       "      <td>NaN</td>\n",
       "    </tr>\n",
       "    <tr>\n",
       "      <th>54860</th>\n",
       "      <td>54861</td>\n",
       "      <td>Tewolde Weldetensae</td>\n",
       "      <td>Survey Assistant I</td>\n",
       "      <td>68913.01</td>\n",
       "      <td>306.61</td>\n",
       "      <td>0.00</td>\n",
       "      <td>31343.15</td>\n",
       "      <td>69219.62</td>\n",
       "      <td>100562.77</td>\n",
       "      <td>2012</td>\n",
       "      <td>NaN</td>\n",
       "      <td>San Francisco</td>\n",
       "      <td>NaN</td>\n",
       "    </tr>\n",
       "    <tr>\n",
       "      <th>54861</th>\n",
       "      <td>54862</td>\n",
       "      <td>Marisa Ramos</td>\n",
       "      <td>Executive Secretary 1</td>\n",
       "      <td>67519.73</td>\n",
       "      <td>919.82</td>\n",
       "      <td>624.01</td>\n",
       "      <td>31499.18</td>\n",
       "      <td>69063.56</td>\n",
       "      <td>100562.74</td>\n",
       "      <td>2012</td>\n",
       "      <td>NaN</td>\n",
       "      <td>San Francisco</td>\n",
       "      <td>NaN</td>\n",
       "    </tr>\n",
       "  </tbody>\n",
       "</table>\n",
       "<p>18703 rows × 13 columns</p>\n",
       "</div>"
      ],
      "text/plain": [
       "          Id         EmployeeName                        JobTitle    BasePay  \\\n",
       "36159  36160       Gary Altenberg    Lieutenant, Fire Suppression  128808.87   \n",
       "36160  36161         Gregory Suhr                 Chief of Police  302578.00   \n",
       "36161  36162           Khoa Trinh     Electronic Maintenance Tech  111921.00   \n",
       "36162  36163   Joanne Hayes-White          Chief, Fire Department  296943.01   \n",
       "36163  36164    Frederick Binkley       EMT/Paramedic/Firefighter  126863.19   \n",
       "...      ...                  ...                             ...        ...   \n",
       "54857  54858       Wanda Williams                Transit Operator   57219.28   \n",
       "54858  54859       Adriana Touhey  Central Processing & Dist Tech   66882.02   \n",
       "54859  54860         Maria Porras                Transit Operator   53356.22   \n",
       "54860  54861  Tewolde Weldetensae              Survey Assistant I   68913.01   \n",
       "54861  54862         Marisa Ramos           Executive Secretary 1   67519.73   \n",
       "\n",
       "       OvertimePay  OtherPay  Benefits   TotalPay  TotalPayBenefits  Year  \\\n",
       "36159    220909.48  13126.31  44430.12  362844.66         407274.78  2012   \n",
       "36160         0.00  18974.11  69810.19  321552.11         391362.30  2012   \n",
       "36161    146415.32  78057.41  53102.29  336393.73         389496.02  2012   \n",
       "36162         0.00  17816.59  72047.88  314759.60         386807.48  2012   \n",
       "36163    192424.49  17917.18  44438.25  337204.86         381643.11  2012   \n",
       "...            ...       ...       ...        ...               ...   ...   \n",
       "54857      8358.60   1362.29  33632.35   66940.17         100572.52  2012   \n",
       "54858      2023.39    824.00  30842.27   69729.41         100571.68  2012   \n",
       "54859     16048.06    402.93  30761.25   69807.21         100568.46  2012   \n",
       "54860       306.61      0.00  31343.15   69219.62         100562.77  2012   \n",
       "54861       919.82    624.01  31499.18   69063.56         100562.74  2012   \n",
       "\n",
       "       Notes         Agency  Status  \n",
       "36159    NaN  San Francisco     NaN  \n",
       "36160    NaN  San Francisco     NaN  \n",
       "36161    NaN  San Francisco     NaN  \n",
       "36162    NaN  San Francisco     NaN  \n",
       "36163    NaN  San Francisco     NaN  \n",
       "...      ...            ...     ...  \n",
       "54857    NaN  San Francisco     NaN  \n",
       "54858    NaN  San Francisco     NaN  \n",
       "54859    NaN  San Francisco     NaN  \n",
       "54860    NaN  San Francisco     NaN  \n",
       "54861    NaN  San Francisco     NaN  \n",
       "\n",
       "[18703 rows x 13 columns]"
      ]
     },
     "execution_count": 72,
     "metadata": {},
     "output_type": "execute_result"
    }
   ],
   "source": [
    "data_2012[data_2012['TotalPayBenefits'] > avg_2012]"
   ]
  },
  {
   "cell_type": "code",
   "execution_count": 71,
   "metadata": {},
   "outputs": [
    {
     "data": {
      "text/plain": [
       "18703"
      ]
     },
     "execution_count": 71,
     "metadata": {},
     "output_type": "execute_result"
    }
   ],
   "source": [
    "earned_more_avg = data_2012[data_2012['TotalPayBenefits'] > avg_2012].shape[0]\n",
    "earned_more_avg"
   ]
  },
  {
   "cell_type": "raw",
   "metadata": {
    "id": "dfJvGfysbbEE"
   },
   "source": [
    "Desired Output:\n",
    "\n",
    "20366"
   ]
  },
  {
   "cell_type": "markdown",
   "metadata": {
    "id": "EM6JCaT-Ad_W"
   },
   "source": [
    "### How many people have a title of Manager in their jobs?"
   ]
  },
  {
   "cell_type": "code",
   "execution_count": 48,
   "metadata": {
    "id": "RjCxcXEWAd_Y"
   },
   "outputs": [
    {
     "data": {
      "text/plain": [
       "3080"
      ]
     },
     "execution_count": 48,
     "metadata": {},
     "output_type": "execute_result"
    }
   ],
   "source": [
    "# USE APPLY FUNCTION\n",
    "\n",
    "# YOUR CODE IS HERE\n",
    "\n",
    "df['JobTitle'].apply(lambda x: 'Manager' in x).sum()\n"
   ]
  },
  {
   "cell_type": "raw",
   "metadata": {
    "id": "l9tvgVWtbbEF"
   },
   "source": [
    "Desired Output:\n",
    "\n",
    "4110"
   ]
  },
  {
   "cell_type": "markdown",
   "metadata": {
    "id": "UsSkiFyVAd_Y"
   },
   "source": [
    "### Take Id, EmployeeName, JobTitle, TotalPay and TotalPayBenefits columns with iloc and assign them as sal_new dataframe."
   ]
  },
  {
   "cell_type": "code",
   "execution_count": 49,
   "metadata": {
    "id": "31MPBM2UAd_Y"
   },
   "outputs": [
    {
     "data": {
      "text/html": [
       "<div>\n",
       "<style scoped>\n",
       "    .dataframe tbody tr th:only-of-type {\n",
       "        vertical-align: middle;\n",
       "    }\n",
       "\n",
       "    .dataframe tbody tr th {\n",
       "        vertical-align: top;\n",
       "    }\n",
       "\n",
       "    .dataframe thead th {\n",
       "        text-align: right;\n",
       "    }\n",
       "</style>\n",
       "<table border=\"1\" class=\"dataframe\">\n",
       "  <thead>\n",
       "    <tr style=\"text-align: right;\">\n",
       "      <th></th>\n",
       "      <th>Id</th>\n",
       "      <th>EmployeeName</th>\n",
       "      <th>JobTitle</th>\n",
       "      <th>TotalPay</th>\n",
       "      <th>TotalPayBenefits</th>\n",
       "    </tr>\n",
       "  </thead>\n",
       "  <tbody>\n",
       "    <tr>\n",
       "      <th>0</th>\n",
       "      <td>1</td>\n",
       "      <td>NATHANIEL FORD</td>\n",
       "      <td>GENERAL MANAGER-METROPOLITAN TRANSIT AUTHORITY</td>\n",
       "      <td>567595.43</td>\n",
       "      <td>567595.43</td>\n",
       "    </tr>\n",
       "    <tr>\n",
       "      <th>1</th>\n",
       "      <td>2</td>\n",
       "      <td>GARY JIMENEZ</td>\n",
       "      <td>CAPTAIN III (POLICE DEPARTMENT)</td>\n",
       "      <td>538909.28</td>\n",
       "      <td>538909.28</td>\n",
       "    </tr>\n",
       "    <tr>\n",
       "      <th>2</th>\n",
       "      <td>3</td>\n",
       "      <td>ALBERT PARDINI</td>\n",
       "      <td>CAPTAIN III (POLICE DEPARTMENT)</td>\n",
       "      <td>335279.91</td>\n",
       "      <td>335279.91</td>\n",
       "    </tr>\n",
       "    <tr>\n",
       "      <th>3</th>\n",
       "      <td>4</td>\n",
       "      <td>CHRISTOPHER CHONG</td>\n",
       "      <td>WIRE ROPE CABLE MAINTENANCE MECHANIC</td>\n",
       "      <td>332343.61</td>\n",
       "      <td>332343.61</td>\n",
       "    </tr>\n",
       "    <tr>\n",
       "      <th>4</th>\n",
       "      <td>5</td>\n",
       "      <td>PATRICK GARDNER</td>\n",
       "      <td>DEPUTY CHIEF OF DEPARTMENT,(FIRE DEPARTMENT)</td>\n",
       "      <td>326373.19</td>\n",
       "      <td>326373.19</td>\n",
       "    </tr>\n",
       "    <tr>\n",
       "      <th>...</th>\n",
       "      <td>...</td>\n",
       "      <td>...</td>\n",
       "      <td>...</td>\n",
       "      <td>...</td>\n",
       "      <td>...</td>\n",
       "    </tr>\n",
       "    <tr>\n",
       "      <th>148649</th>\n",
       "      <td>148650</td>\n",
       "      <td>Roy I Tillery</td>\n",
       "      <td>Custodian</td>\n",
       "      <td>0.00</td>\n",
       "      <td>0.00</td>\n",
       "    </tr>\n",
       "    <tr>\n",
       "      <th>148650</th>\n",
       "      <td>148651</td>\n",
       "      <td>Not provided</td>\n",
       "      <td>Not provided</td>\n",
       "      <td>0.00</td>\n",
       "      <td>0.00</td>\n",
       "    </tr>\n",
       "    <tr>\n",
       "      <th>148651</th>\n",
       "      <td>148652</td>\n",
       "      <td>Not provided</td>\n",
       "      <td>Not provided</td>\n",
       "      <td>0.00</td>\n",
       "      <td>0.00</td>\n",
       "    </tr>\n",
       "    <tr>\n",
       "      <th>148652</th>\n",
       "      <td>148653</td>\n",
       "      <td>Not provided</td>\n",
       "      <td>Not provided</td>\n",
       "      <td>0.00</td>\n",
       "      <td>0.00</td>\n",
       "    </tr>\n",
       "    <tr>\n",
       "      <th>148653</th>\n",
       "      <td>148654</td>\n",
       "      <td>Joe Lopez</td>\n",
       "      <td>Counselor, Log Cabin Ranch</td>\n",
       "      <td>-618.13</td>\n",
       "      <td>-618.13</td>\n",
       "    </tr>\n",
       "  </tbody>\n",
       "</table>\n",
       "<p>148654 rows × 5 columns</p>\n",
       "</div>"
      ],
      "text/plain": [
       "            Id       EmployeeName  \\\n",
       "0            1     NATHANIEL FORD   \n",
       "1            2       GARY JIMENEZ   \n",
       "2            3     ALBERT PARDINI   \n",
       "3            4  CHRISTOPHER CHONG   \n",
       "4            5    PATRICK GARDNER   \n",
       "...        ...                ...   \n",
       "148649  148650      Roy I Tillery   \n",
       "148650  148651       Not provided   \n",
       "148651  148652       Not provided   \n",
       "148652  148653       Not provided   \n",
       "148653  148654          Joe Lopez   \n",
       "\n",
       "                                              JobTitle   TotalPay  \\\n",
       "0       GENERAL MANAGER-METROPOLITAN TRANSIT AUTHORITY  567595.43   \n",
       "1                      CAPTAIN III (POLICE DEPARTMENT)  538909.28   \n",
       "2                      CAPTAIN III (POLICE DEPARTMENT)  335279.91   \n",
       "3                 WIRE ROPE CABLE MAINTENANCE MECHANIC  332343.61   \n",
       "4         DEPUTY CHIEF OF DEPARTMENT,(FIRE DEPARTMENT)  326373.19   \n",
       "...                                                ...        ...   \n",
       "148649                                       Custodian       0.00   \n",
       "148650                                    Not provided       0.00   \n",
       "148651                                    Not provided       0.00   \n",
       "148652                                    Not provided       0.00   \n",
       "148653                      Counselor, Log Cabin Ranch    -618.13   \n",
       "\n",
       "        TotalPayBenefits  \n",
       "0              567595.43  \n",
       "1              538909.28  \n",
       "2              335279.91  \n",
       "3              332343.61  \n",
       "4              326373.19  \n",
       "...                  ...  \n",
       "148649              0.00  \n",
       "148650              0.00  \n",
       "148651              0.00  \n",
       "148652              0.00  \n",
       "148653           -618.13  \n",
       "\n",
       "[148654 rows x 5 columns]"
      ]
     },
     "execution_count": 49,
     "metadata": {},
     "output_type": "execute_result"
    }
   ],
   "source": [
    "# YOUR CODE IS HERE\n",
    "sal_new = df.iloc[:, [0, 1, 2, 7, 8]]\n",
    "sal_new\n"
   ]
  },
  {
   "cell_type": "markdown",
   "metadata": {
    "id": "wcxerUFxbbEF"
   },
   "source": [
    "Desired Output:\n",
    "\n",
    "![image.png](https://i.ibb.co/ZgFCbPm/assignment1e.png)"
   ]
  },
  {
   "cell_type": "markdown",
   "metadata": {
    "id": "IDfaMS0OAd_Z"
   },
   "source": [
    "### Take the columns betweeen EmployeeName and TotalPayBenefits with loc and assign them as sal_new df."
   ]
  },
  {
   "cell_type": "code",
   "execution_count": 50,
   "metadata": {
    "id": "iXoiBJ8tAd_Z"
   },
   "outputs": [
    {
     "data": {
      "text/html": [
       "<div>\n",
       "<style scoped>\n",
       "    .dataframe tbody tr th:only-of-type {\n",
       "        vertical-align: middle;\n",
       "    }\n",
       "\n",
       "    .dataframe tbody tr th {\n",
       "        vertical-align: top;\n",
       "    }\n",
       "\n",
       "    .dataframe thead th {\n",
       "        text-align: right;\n",
       "    }\n",
       "</style>\n",
       "<table border=\"1\" class=\"dataframe\">\n",
       "  <thead>\n",
       "    <tr style=\"text-align: right;\">\n",
       "      <th></th>\n",
       "      <th>EmployeeName</th>\n",
       "      <th>JobTitle</th>\n",
       "      <th>BasePay</th>\n",
       "      <th>OvertimePay</th>\n",
       "      <th>OtherPay</th>\n",
       "      <th>Benefits</th>\n",
       "      <th>TotalPay</th>\n",
       "      <th>TotalPayBenefits</th>\n",
       "    </tr>\n",
       "  </thead>\n",
       "  <tbody>\n",
       "    <tr>\n",
       "      <th>0</th>\n",
       "      <td>NATHANIEL FORD</td>\n",
       "      <td>GENERAL MANAGER-METROPOLITAN TRANSIT AUTHORITY</td>\n",
       "      <td>167411.18</td>\n",
       "      <td>0.00</td>\n",
       "      <td>400184.25</td>\n",
       "      <td>NaN</td>\n",
       "      <td>567595.43</td>\n",
       "      <td>567595.43</td>\n",
       "    </tr>\n",
       "    <tr>\n",
       "      <th>1</th>\n",
       "      <td>GARY JIMENEZ</td>\n",
       "      <td>CAPTAIN III (POLICE DEPARTMENT)</td>\n",
       "      <td>155966.02</td>\n",
       "      <td>245131.88</td>\n",
       "      <td>137811.38</td>\n",
       "      <td>NaN</td>\n",
       "      <td>538909.28</td>\n",
       "      <td>538909.28</td>\n",
       "    </tr>\n",
       "    <tr>\n",
       "      <th>2</th>\n",
       "      <td>ALBERT PARDINI</td>\n",
       "      <td>CAPTAIN III (POLICE DEPARTMENT)</td>\n",
       "      <td>212739.13</td>\n",
       "      <td>106088.18</td>\n",
       "      <td>16452.60</td>\n",
       "      <td>NaN</td>\n",
       "      <td>335279.91</td>\n",
       "      <td>335279.91</td>\n",
       "    </tr>\n",
       "    <tr>\n",
       "      <th>3</th>\n",
       "      <td>CHRISTOPHER CHONG</td>\n",
       "      <td>WIRE ROPE CABLE MAINTENANCE MECHANIC</td>\n",
       "      <td>77916.00</td>\n",
       "      <td>56120.71</td>\n",
       "      <td>198306.90</td>\n",
       "      <td>NaN</td>\n",
       "      <td>332343.61</td>\n",
       "      <td>332343.61</td>\n",
       "    </tr>\n",
       "    <tr>\n",
       "      <th>4</th>\n",
       "      <td>PATRICK GARDNER</td>\n",
       "      <td>DEPUTY CHIEF OF DEPARTMENT,(FIRE DEPARTMENT)</td>\n",
       "      <td>134401.60</td>\n",
       "      <td>9737.00</td>\n",
       "      <td>182234.59</td>\n",
       "      <td>NaN</td>\n",
       "      <td>326373.19</td>\n",
       "      <td>326373.19</td>\n",
       "    </tr>\n",
       "    <tr>\n",
       "      <th>...</th>\n",
       "      <td>...</td>\n",
       "      <td>...</td>\n",
       "      <td>...</td>\n",
       "      <td>...</td>\n",
       "      <td>...</td>\n",
       "      <td>...</td>\n",
       "      <td>...</td>\n",
       "      <td>...</td>\n",
       "    </tr>\n",
       "    <tr>\n",
       "      <th>148649</th>\n",
       "      <td>Roy I Tillery</td>\n",
       "      <td>Custodian</td>\n",
       "      <td>0.00</td>\n",
       "      <td>0.00</td>\n",
       "      <td>0.00</td>\n",
       "      <td>0.0</td>\n",
       "      <td>0.00</td>\n",
       "      <td>0.00</td>\n",
       "    </tr>\n",
       "    <tr>\n",
       "      <th>148650</th>\n",
       "      <td>Not provided</td>\n",
       "      <td>Not provided</td>\n",
       "      <td>NaN</td>\n",
       "      <td>NaN</td>\n",
       "      <td>NaN</td>\n",
       "      <td>NaN</td>\n",
       "      <td>0.00</td>\n",
       "      <td>0.00</td>\n",
       "    </tr>\n",
       "    <tr>\n",
       "      <th>148651</th>\n",
       "      <td>Not provided</td>\n",
       "      <td>Not provided</td>\n",
       "      <td>NaN</td>\n",
       "      <td>NaN</td>\n",
       "      <td>NaN</td>\n",
       "      <td>NaN</td>\n",
       "      <td>0.00</td>\n",
       "      <td>0.00</td>\n",
       "    </tr>\n",
       "    <tr>\n",
       "      <th>148652</th>\n",
       "      <td>Not provided</td>\n",
       "      <td>Not provided</td>\n",
       "      <td>NaN</td>\n",
       "      <td>NaN</td>\n",
       "      <td>NaN</td>\n",
       "      <td>NaN</td>\n",
       "      <td>0.00</td>\n",
       "      <td>0.00</td>\n",
       "    </tr>\n",
       "    <tr>\n",
       "      <th>148653</th>\n",
       "      <td>Joe Lopez</td>\n",
       "      <td>Counselor, Log Cabin Ranch</td>\n",
       "      <td>0.00</td>\n",
       "      <td>0.00</td>\n",
       "      <td>-618.13</td>\n",
       "      <td>0.0</td>\n",
       "      <td>-618.13</td>\n",
       "      <td>-618.13</td>\n",
       "    </tr>\n",
       "  </tbody>\n",
       "</table>\n",
       "<p>148654 rows × 8 columns</p>\n",
       "</div>"
      ],
      "text/plain": [
       "             EmployeeName                                        JobTitle  \\\n",
       "0          NATHANIEL FORD  GENERAL MANAGER-METROPOLITAN TRANSIT AUTHORITY   \n",
       "1            GARY JIMENEZ                 CAPTAIN III (POLICE DEPARTMENT)   \n",
       "2          ALBERT PARDINI                 CAPTAIN III (POLICE DEPARTMENT)   \n",
       "3       CHRISTOPHER CHONG            WIRE ROPE CABLE MAINTENANCE MECHANIC   \n",
       "4         PATRICK GARDNER    DEPUTY CHIEF OF DEPARTMENT,(FIRE DEPARTMENT)   \n",
       "...                   ...                                             ...   \n",
       "148649      Roy I Tillery                                       Custodian   \n",
       "148650       Not provided                                    Not provided   \n",
       "148651       Not provided                                    Not provided   \n",
       "148652       Not provided                                    Not provided   \n",
       "148653          Joe Lopez                      Counselor, Log Cabin Ranch   \n",
       "\n",
       "          BasePay  OvertimePay   OtherPay  Benefits   TotalPay  \\\n",
       "0       167411.18         0.00  400184.25       NaN  567595.43   \n",
       "1       155966.02    245131.88  137811.38       NaN  538909.28   \n",
       "2       212739.13    106088.18   16452.60       NaN  335279.91   \n",
       "3        77916.00     56120.71  198306.90       NaN  332343.61   \n",
       "4       134401.60      9737.00  182234.59       NaN  326373.19   \n",
       "...           ...          ...        ...       ...        ...   \n",
       "148649       0.00         0.00       0.00       0.0       0.00   \n",
       "148650        NaN          NaN        NaN       NaN       0.00   \n",
       "148651        NaN          NaN        NaN       NaN       0.00   \n",
       "148652        NaN          NaN        NaN       NaN       0.00   \n",
       "148653       0.00         0.00    -618.13       0.0    -618.13   \n",
       "\n",
       "        TotalPayBenefits  \n",
       "0              567595.43  \n",
       "1              538909.28  \n",
       "2              335279.91  \n",
       "3              332343.61  \n",
       "4              326373.19  \n",
       "...                  ...  \n",
       "148649              0.00  \n",
       "148650              0.00  \n",
       "148651              0.00  \n",
       "148652              0.00  \n",
       "148653           -618.13  \n",
       "\n",
       "[148654 rows x 8 columns]"
      ]
     },
     "execution_count": 50,
     "metadata": {},
     "output_type": "execute_result"
    }
   ],
   "source": [
    "# YOUR CODE IS HERE\n",
    "df.loc[:, 'EmployeeName':'TotalPayBenefits']\n"
   ]
  },
  {
   "cell_type": "markdown",
   "metadata": {
    "id": "DNrP9BPjbbEG"
   },
   "source": [
    "Desired Output:\n",
    "\n",
    "![image.png](https://i.ibb.co/s2CYS7H/assignment1f.png)"
   ]
  },
  {
   "cell_type": "markdown",
   "metadata": {
    "id": "GLNh6jmxAd_a"
   },
   "source": [
    "### Print out the names of the employees who earn more than min but less than avg."
   ]
  },
  {
   "cell_type": "code",
   "execution_count": 58,
   "metadata": {},
   "outputs": [
    {
     "data": {
      "text/plain": [
       "-618.13"
      ]
     },
     "execution_count": 58,
     "metadata": {},
     "output_type": "execute_result"
    }
   ],
   "source": [
    "earn_min = df['TotalPayBenefits'].min()\n",
    "earn_min"
   ]
  },
  {
   "cell_type": "code",
   "execution_count": 60,
   "metadata": {},
   "outputs": [
    {
     "data": {
      "text/plain": [
       "93692.55481056681"
      ]
     },
     "execution_count": 60,
     "metadata": {},
     "output_type": "execute_result"
    }
   ],
   "source": [
    "earn_avg = df['TotalPayBenefits'].mean()\n",
    "earn_avg"
   ]
  },
  {
   "cell_type": "code",
   "execution_count": 65,
   "metadata": {},
   "outputs": [
    {
     "data": {
      "text/html": [
       "<div>\n",
       "<style scoped>\n",
       "    .dataframe tbody tr th:only-of-type {\n",
       "        vertical-align: middle;\n",
       "    }\n",
       "\n",
       "    .dataframe tbody tr th {\n",
       "        vertical-align: top;\n",
       "    }\n",
       "\n",
       "    .dataframe thead th {\n",
       "        text-align: right;\n",
       "    }\n",
       "</style>\n",
       "<table border=\"1\" class=\"dataframe\">\n",
       "  <thead>\n",
       "    <tr style=\"text-align: right;\">\n",
       "      <th></th>\n",
       "      <th>Id</th>\n",
       "      <th>EmployeeName</th>\n",
       "      <th>JobTitle</th>\n",
       "      <th>BasePay</th>\n",
       "      <th>OvertimePay</th>\n",
       "      <th>OtherPay</th>\n",
       "      <th>Benefits</th>\n",
       "      <th>TotalPay</th>\n",
       "      <th>TotalPayBenefits</th>\n",
       "      <th>Year</th>\n",
       "      <th>Notes</th>\n",
       "      <th>Agency</th>\n",
       "      <th>Status</th>\n",
       "    </tr>\n",
       "  </thead>\n",
       "  <tbody>\n",
       "    <tr>\n",
       "      <th>10806</th>\n",
       "      <td>10807</td>\n",
       "      <td>KWE LEE</td>\n",
       "      <td>AUTOMOTIVE MECHANIC</td>\n",
       "      <td>72198.10</td>\n",
       "      <td>6017.76</td>\n",
       "      <td>15475.29</td>\n",
       "      <td>NaN</td>\n",
       "      <td>93691.15</td>\n",
       "      <td>93691.15</td>\n",
       "      <td>2011</td>\n",
       "      <td>NaN</td>\n",
       "      <td>San Francisco</td>\n",
       "      <td>NaN</td>\n",
       "    </tr>\n",
       "    <tr>\n",
       "      <th>10807</th>\n",
       "      <td>10808</td>\n",
       "      <td>MIGUEL CARO JR</td>\n",
       "      <td>STATIONARY ENGINEER</td>\n",
       "      <td>72420.69</td>\n",
       "      <td>2665.79</td>\n",
       "      <td>18596.26</td>\n",
       "      <td>NaN</td>\n",
       "      <td>93682.74</td>\n",
       "      <td>93682.74</td>\n",
       "      <td>2011</td>\n",
       "      <td>NaN</td>\n",
       "      <td>San Francisco</td>\n",
       "      <td>NaN</td>\n",
       "    </tr>\n",
       "    <tr>\n",
       "      <th>10808</th>\n",
       "      <td>10809</td>\n",
       "      <td>JOANNE MORRIS</td>\n",
       "      <td>REGISTERED NURSE</td>\n",
       "      <td>91672.69</td>\n",
       "      <td>0.00</td>\n",
       "      <td>2007.84</td>\n",
       "      <td>NaN</td>\n",
       "      <td>93680.53</td>\n",
       "      <td>93680.53</td>\n",
       "      <td>2011</td>\n",
       "      <td>NaN</td>\n",
       "      <td>San Francisco</td>\n",
       "      <td>NaN</td>\n",
       "    </tr>\n",
       "    <tr>\n",
       "      <th>10809</th>\n",
       "      <td>10810</td>\n",
       "      <td>LAYLA WELBORN</td>\n",
       "      <td>SPECIAL NURSE</td>\n",
       "      <td>80683.54</td>\n",
       "      <td>8809.03</td>\n",
       "      <td>4184.31</td>\n",
       "      <td>NaN</td>\n",
       "      <td>93676.88</td>\n",
       "      <td>93676.88</td>\n",
       "      <td>2011</td>\n",
       "      <td>NaN</td>\n",
       "      <td>San Francisco</td>\n",
       "      <td>NaN</td>\n",
       "    </tr>\n",
       "    <tr>\n",
       "      <th>10810</th>\n",
       "      <td>10811</td>\n",
       "      <td>LE BANH</td>\n",
       "      <td>TRANSIT OPERATOR</td>\n",
       "      <td>67349.30</td>\n",
       "      <td>23507.62</td>\n",
       "      <td>2818.47</td>\n",
       "      <td>NaN</td>\n",
       "      <td>93675.39</td>\n",
       "      <td>93675.39</td>\n",
       "      <td>2011</td>\n",
       "      <td>NaN</td>\n",
       "      <td>San Francisco</td>\n",
       "      <td>NaN</td>\n",
       "    </tr>\n",
       "    <tr>\n",
       "      <th>...</th>\n",
       "      <td>...</td>\n",
       "      <td>...</td>\n",
       "      <td>...</td>\n",
       "      <td>...</td>\n",
       "      <td>...</td>\n",
       "      <td>...</td>\n",
       "      <td>...</td>\n",
       "      <td>...</td>\n",
       "      <td>...</td>\n",
       "      <td>...</td>\n",
       "      <td>...</td>\n",
       "      <td>...</td>\n",
       "      <td>...</td>\n",
       "    </tr>\n",
       "    <tr>\n",
       "      <th>148648</th>\n",
       "      <td>148649</td>\n",
       "      <td>Leon Walker</td>\n",
       "      <td>Custodian</td>\n",
       "      <td>0.00</td>\n",
       "      <td>0.00</td>\n",
       "      <td>0.00</td>\n",
       "      <td>0.0</td>\n",
       "      <td>0.00</td>\n",
       "      <td>0.00</td>\n",
       "      <td>2014</td>\n",
       "      <td>NaN</td>\n",
       "      <td>San Francisco</td>\n",
       "      <td>NaN</td>\n",
       "    </tr>\n",
       "    <tr>\n",
       "      <th>148649</th>\n",
       "      <td>148650</td>\n",
       "      <td>Roy I Tillery</td>\n",
       "      <td>Custodian</td>\n",
       "      <td>0.00</td>\n",
       "      <td>0.00</td>\n",
       "      <td>0.00</td>\n",
       "      <td>0.0</td>\n",
       "      <td>0.00</td>\n",
       "      <td>0.00</td>\n",
       "      <td>2014</td>\n",
       "      <td>NaN</td>\n",
       "      <td>San Francisco</td>\n",
       "      <td>NaN</td>\n",
       "    </tr>\n",
       "    <tr>\n",
       "      <th>148650</th>\n",
       "      <td>148651</td>\n",
       "      <td>Not provided</td>\n",
       "      <td>Not provided</td>\n",
       "      <td>NaN</td>\n",
       "      <td>NaN</td>\n",
       "      <td>NaN</td>\n",
       "      <td>NaN</td>\n",
       "      <td>0.00</td>\n",
       "      <td>0.00</td>\n",
       "      <td>2014</td>\n",
       "      <td>NaN</td>\n",
       "      <td>San Francisco</td>\n",
       "      <td>NaN</td>\n",
       "    </tr>\n",
       "    <tr>\n",
       "      <th>148651</th>\n",
       "      <td>148652</td>\n",
       "      <td>Not provided</td>\n",
       "      <td>Not provided</td>\n",
       "      <td>NaN</td>\n",
       "      <td>NaN</td>\n",
       "      <td>NaN</td>\n",
       "      <td>NaN</td>\n",
       "      <td>0.00</td>\n",
       "      <td>0.00</td>\n",
       "      <td>2014</td>\n",
       "      <td>NaN</td>\n",
       "      <td>San Francisco</td>\n",
       "      <td>NaN</td>\n",
       "    </tr>\n",
       "    <tr>\n",
       "      <th>148652</th>\n",
       "      <td>148653</td>\n",
       "      <td>Not provided</td>\n",
       "      <td>Not provided</td>\n",
       "      <td>NaN</td>\n",
       "      <td>NaN</td>\n",
       "      <td>NaN</td>\n",
       "      <td>NaN</td>\n",
       "      <td>0.00</td>\n",
       "      <td>0.00</td>\n",
       "      <td>2014</td>\n",
       "      <td>NaN</td>\n",
       "      <td>San Francisco</td>\n",
       "      <td>NaN</td>\n",
       "    </tr>\n",
       "  </tbody>\n",
       "</table>\n",
       "<p>75649 rows × 13 columns</p>\n",
       "</div>"
      ],
      "text/plain": [
       "            Id    EmployeeName             JobTitle   BasePay  OvertimePay  \\\n",
       "10806    10807         KWE LEE  AUTOMOTIVE MECHANIC  72198.10      6017.76   \n",
       "10807    10808  MIGUEL CARO JR  STATIONARY ENGINEER  72420.69      2665.79   \n",
       "10808    10809   JOANNE MORRIS     REGISTERED NURSE  91672.69         0.00   \n",
       "10809    10810   LAYLA WELBORN        SPECIAL NURSE  80683.54      8809.03   \n",
       "10810    10811         LE BANH     TRANSIT OPERATOR  67349.30     23507.62   \n",
       "...        ...             ...                  ...       ...          ...   \n",
       "148648  148649     Leon Walker            Custodian      0.00         0.00   \n",
       "148649  148650   Roy I Tillery            Custodian      0.00         0.00   \n",
       "148650  148651    Not provided         Not provided       NaN          NaN   \n",
       "148651  148652    Not provided         Not provided       NaN          NaN   \n",
       "148652  148653    Not provided         Not provided       NaN          NaN   \n",
       "\n",
       "        OtherPay  Benefits  TotalPay  TotalPayBenefits  Year  Notes  \\\n",
       "10806   15475.29       NaN  93691.15          93691.15  2011    NaN   \n",
       "10807   18596.26       NaN  93682.74          93682.74  2011    NaN   \n",
       "10808    2007.84       NaN  93680.53          93680.53  2011    NaN   \n",
       "10809    4184.31       NaN  93676.88          93676.88  2011    NaN   \n",
       "10810    2818.47       NaN  93675.39          93675.39  2011    NaN   \n",
       "...          ...       ...       ...               ...   ...    ...   \n",
       "148648      0.00       0.0      0.00              0.00  2014    NaN   \n",
       "148649      0.00       0.0      0.00              0.00  2014    NaN   \n",
       "148650       NaN       NaN      0.00              0.00  2014    NaN   \n",
       "148651       NaN       NaN      0.00              0.00  2014    NaN   \n",
       "148652       NaN       NaN      0.00              0.00  2014    NaN   \n",
       "\n",
       "               Agency  Status  \n",
       "10806   San Francisco     NaN  \n",
       "10807   San Francisco     NaN  \n",
       "10808   San Francisco     NaN  \n",
       "10809   San Francisco     NaN  \n",
       "10810   San Francisco     NaN  \n",
       "...               ...     ...  \n",
       "148648  San Francisco     NaN  \n",
       "148649  San Francisco     NaN  \n",
       "148650  San Francisco     NaN  \n",
       "148651  San Francisco     NaN  \n",
       "148652  San Francisco     NaN  \n",
       "\n",
       "[75649 rows x 13 columns]"
      ]
     },
     "execution_count": 65,
     "metadata": {},
     "output_type": "execute_result"
    }
   ],
   "source": [
    "earn_list = df[(df['TotalPayBenefits'] > earn_min) & (df['TotalPayBenefits'] < earn_avg)]\n",
    "earn_list"
   ]
  },
  {
   "cell_type": "code",
   "execution_count": 69,
   "metadata": {
    "id": "2lk1ZwS9Ad_a"
   },
   "outputs": [
    {
     "data": {
      "text/html": [
       "<div>\n",
       "<style scoped>\n",
       "    .dataframe tbody tr th:only-of-type {\n",
       "        vertical-align: middle;\n",
       "    }\n",
       "\n",
       "    .dataframe tbody tr th {\n",
       "        vertical-align: top;\n",
       "    }\n",
       "\n",
       "    .dataframe thead th {\n",
       "        text-align: right;\n",
       "    }\n",
       "</style>\n",
       "<table border=\"1\" class=\"dataframe\">\n",
       "  <thead>\n",
       "    <tr style=\"text-align: right;\">\n",
       "      <th></th>\n",
       "      <th>EmployeeName</th>\n",
       "      <th>TotalPayBenefits</th>\n",
       "    </tr>\n",
       "  </thead>\n",
       "  <tbody>\n",
       "    <tr>\n",
       "      <th>10806</th>\n",
       "      <td>KWE LEE</td>\n",
       "      <td>93691.15</td>\n",
       "    </tr>\n",
       "    <tr>\n",
       "      <th>10807</th>\n",
       "      <td>MIGUEL CARO JR</td>\n",
       "      <td>93682.74</td>\n",
       "    </tr>\n",
       "    <tr>\n",
       "      <th>10808</th>\n",
       "      <td>JOANNE MORRIS</td>\n",
       "      <td>93680.53</td>\n",
       "    </tr>\n",
       "    <tr>\n",
       "      <th>10809</th>\n",
       "      <td>LAYLA WELBORN</td>\n",
       "      <td>93676.88</td>\n",
       "    </tr>\n",
       "    <tr>\n",
       "      <th>10810</th>\n",
       "      <td>LE BANH</td>\n",
       "      <td>93675.39</td>\n",
       "    </tr>\n",
       "    <tr>\n",
       "      <th>...</th>\n",
       "      <td>...</td>\n",
       "      <td>...</td>\n",
       "    </tr>\n",
       "    <tr>\n",
       "      <th>148648</th>\n",
       "      <td>Leon Walker</td>\n",
       "      <td>0.00</td>\n",
       "    </tr>\n",
       "    <tr>\n",
       "      <th>148649</th>\n",
       "      <td>Roy I Tillery</td>\n",
       "      <td>0.00</td>\n",
       "    </tr>\n",
       "    <tr>\n",
       "      <th>148650</th>\n",
       "      <td>Not provided</td>\n",
       "      <td>0.00</td>\n",
       "    </tr>\n",
       "    <tr>\n",
       "      <th>148651</th>\n",
       "      <td>Not provided</td>\n",
       "      <td>0.00</td>\n",
       "    </tr>\n",
       "    <tr>\n",
       "      <th>148652</th>\n",
       "      <td>Not provided</td>\n",
       "      <td>0.00</td>\n",
       "    </tr>\n",
       "  </tbody>\n",
       "</table>\n",
       "<p>75649 rows × 2 columns</p>\n",
       "</div>"
      ],
      "text/plain": [
       "          EmployeeName  TotalPayBenefits\n",
       "10806          KWE LEE          93691.15\n",
       "10807   MIGUEL CARO JR          93682.74\n",
       "10808    JOANNE MORRIS          93680.53\n",
       "10809    LAYLA WELBORN          93676.88\n",
       "10810          LE BANH          93675.39\n",
       "...                ...               ...\n",
       "148648     Leon Walker              0.00\n",
       "148649   Roy I Tillery              0.00\n",
       "148650    Not provided              0.00\n",
       "148651    Not provided              0.00\n",
       "148652    Not provided              0.00\n",
       "\n",
       "[75649 rows x 2 columns]"
      ]
     },
     "execution_count": 69,
     "metadata": {},
     "output_type": "execute_result"
    }
   ],
   "source": [
    "# YOUR CODE IS HERE\n",
    "employee_list = earn_list[['EmployeeName', 'TotalPayBenefits']]\n",
    "employee_list\n",
    "\n"
   ]
  },
  {
   "cell_type": "markdown",
   "metadata": {
    "id": "PnsdZjnnAd_a"
   },
   "source": [
    "Desired Output:\n",
    "\n",
    "![image.png](https://i.ibb.co/mtNB2TX/assignment1g.png)"
   ]
  },
  {
   "cell_type": "markdown",
   "metadata": {
    "id": "B08a8_05bbEG"
   },
   "source": [
    "<p style=\"text-align: center;\"><img src=\"https://docs.google.com/uc?id=1lY0Uj5R04yMY3-ZppPWxqCr5pvBLYPnV\" class=\"img-fluid\"\n",
    "alt=\"CLRSWY\"></p>\n",
    "\n",
    "## <p style=\"background-color:#FDFEFE; font-family:newtimeroman; color:#9d4f8c; font-size:100%; text-align:center; border-radius:10px 10px;\">WAY TO REINVENT YOURSELF</p>\n",
    "\n",
    "________"
   ]
  }
 ],
 "metadata": {
  "anaconda-cloud": {},
  "colab": {
   "provenance": []
  },
  "kernelspec": {
   "display_name": "Python 3",
   "language": "python",
   "name": "python3"
  },
  "language_info": {
   "codemirror_mode": {
    "name": "ipython",
    "version": 3
   },
   "file_extension": ".py",
   "mimetype": "text/x-python",
   "name": "python",
   "nbconvert_exporter": "python",
   "pygments_lexer": "ipython3",
   "version": "3.12.0"
  },
  "toc": {
   "base_numbering": 1,
   "nav_menu": {},
   "number_sections": false,
   "sideBar": true,
   "skip_h1_title": false,
   "title_cell": "Table of Contents",
   "title_sidebar": "Contents",
   "toc_cell": false,
   "toc_position": {},
   "toc_section_display": true,
   "toc_window_display": false
  }
 },
 "nbformat": 4,
 "nbformat_minor": 4
}
