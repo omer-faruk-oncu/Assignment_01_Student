{
 "cells": [
  {
   "cell_type": "markdown",
   "metadata": {
    "id": "fepd5K3rAd-n"
   },
   "source": [
    "___\n",
    "\n",
    "<p style=\"text-align: center;\"><img src=\"https://docs.google.com/uc?id=1lY0Uj5R04yMY3-ZppPWxqCr5pvBLYPnV\" class=\"img-fluid\"\n",
    "alt=\"CLRSWY\"></p>\n",
    "\n",
    "## <p style=\"background-color:#FDFEFE; font-family:newtimeroman; color:#9d4f8c; font-size:100%; text-align:center; border-radius:10px 10px;\">WAY TO REINVENT YOURSELF</p>\n",
    "\n",
    "## <p style=\"background-color:#FDFEFE; font-family:newtimeroman; color:#060108; font-size:200%; text-align:center; border-radius:10px 10px;\">Data Analysis with Python</p>\n",
    "\n",
    "![Image_Assignment](https://i.ibb.co/cY9HhF7/bnote-assignment.gif)\n",
    "\n",
    "## <p style=\"background-color:#FDFEFE; font-family:newtimeroman; color:#4d77cf; font-size:200%; text-align:center; border-radius:10px 10px;\">Assignment 01 (NumPy & Pandas Basics)</p>"
   ]
  },
  {
   "cell_type": "markdown",
   "metadata": {
    "id": "2hCaqzd9bbDw"
   },
   "source": [
    "<a id=\"toc\"></a>\n",
    "\n",
    "## <p style=\"background-color:#9d4f8c; font-family:newtimeroman; color:#FFF9ED; font-size:175%; text-align:center; border-radius:10px 10px;\">Content</p>\n",
    "\n",
    "* [NUMPY SECTION](#0)\n",
    "* [PANDAS SECTION](#1)\n"
   ]
  },
  {
   "cell_type": "markdown",
   "metadata": {
    "id": "lFoJR2iTAd-v"
   },
   "source": [
    "**In this assignment you will start off with Numpy Exercises and then complete the whole Exercise with Pandas questions. All the subjects related to questions here already covered in preclass materials and in-class sessions. So good luck!**"
   ]
  },
  {
   "cell_type": "markdown",
   "metadata": {
    "id": "qlXHDgY8bbDx"
   },
   "source": [
    "## <p style=\"background-color:#9d4f8c; font-family:newtimeroman; color:#FFF9ED; font-size:175%; text-align:center; border-radius:10px 10px;\">Numpy Section</p>\n",
    "\n",
    "<a id=\"0\"></a>\n",
    "<a href=\"#toc\" class=\"btn btn-primary btn-sm\" role=\"button\" aria-pressed=\"true\"\n",
    "style=\"color:blue; background-color:#dfa8e4\" data-toggle=\"popover\">Content</a>"
   ]
  },
  {
   "cell_type": "markdown",
   "metadata": {
    "id": "9LrbgcwYAd-w"
   },
   "source": [
    "### 1. Import NumPy Library."
   ]
  },
  {
   "cell_type": "code",
   "execution_count": 5,
   "metadata": {
    "id": "MymrsT_dAd-x"
   },
   "outputs": [],
   "source": [
    "# YOUR CODE IS HERE\n",
    "\n",
    "import numpy as np\n",
    "\n",
    "\n"
   ]
  },
  {
   "cell_type": "markdown",
   "metadata": {
    "id": "It1vT4JYAd-y"
   },
   "source": [
    "### 2. Create an array from my_list = [5, 10, 15, 20, 25]"
   ]
  },
  {
   "cell_type": "code",
   "execution_count": 6,
   "metadata": {
    "id": "0uO_rHvlbbDy"
   },
   "outputs": [
    {
     "data": {
      "text/plain": [
       "array([ 5, 10, 15, 20, 25])"
      ]
     },
     "execution_count": 6,
     "metadata": {},
     "output_type": "execute_result"
    }
   ],
   "source": [
    "# YOUR CODE IS HERE\n",
    "my_list = [5, 10, 15, 20, 25]\n",
    "\n",
    "np.array(my_list)\n",
    "\n",
    "\n"
   ]
  },
  {
   "cell_type": "raw",
   "metadata": {
    "id": "dPndrpKOAd-z",
    "outputId": "fa4080ee-8528-454e-d834-2d13d49bbec2"
   },
   "source": [
    "Desired Output:\n",
    "\n",
    "array([ 5, 10, 15, 20, 25])"
   ]
  },
  {
   "cell_type": "markdown",
   "metadata": {
    "id": "1hVeq_fEAd-1"
   },
   "source": [
    "### 3. Generate an array of 5x5 with zeros."
   ]
  },
  {
   "cell_type": "code",
   "execution_count": 7,
   "metadata": {
    "id": "Y0R-L8hBAd-2"
   },
   "outputs": [
    {
     "data": {
      "text/plain": [
       "array([[0., 0., 0., 0., 0.],\n",
       "       [0., 0., 0., 0., 0.],\n",
       "       [0., 0., 0., 0., 0.],\n",
       "       [0., 0., 0., 0., 0.],\n",
       "       [0., 0., 0., 0., 0.]])"
      ]
     },
     "execution_count": 7,
     "metadata": {},
     "output_type": "execute_result"
    }
   ],
   "source": [
    "# YOUR CODE IS HERE\n",
    "\n",
    "np.zeros((5,5))\n",
    "\n"
   ]
  },
  {
   "cell_type": "raw",
   "metadata": {
    "id": "V4EGTgs_bbDz"
   },
   "source": [
    "Desired Output:\n",
    "\n",
    "array([[0., 0., 0., 0., 0.],\n",
    "       [0., 0., 0., 0., 0.],\n",
    "       [0., 0., 0., 0., 0.],\n",
    "       [0., 0., 0., 0., 0.],\n",
    "       [0., 0., 0., 0., 0.]])"
   ]
  },
  {
   "cell_type": "markdown",
   "metadata": {
    "id": "lHhdpBa6Ad-3"
   },
   "source": [
    "### 4. Generate an array of 4x4 with ones and assign data type as int."
   ]
  },
  {
   "cell_type": "code",
   "execution_count": 8,
   "metadata": {
    "id": "s45bqkmOAd-3"
   },
   "outputs": [
    {
     "data": {
      "text/plain": [
       "array([[1., 1., 1., 1.],\n",
       "       [1., 1., 1., 1.],\n",
       "       [1., 1., 1., 1.],\n",
       "       [1., 1., 1., 1.]])"
      ]
     },
     "execution_count": 8,
     "metadata": {},
     "output_type": "execute_result"
    }
   ],
   "source": [
    "# YOUR CODE IS HERE\n",
    "np.ones((4,4))"
   ]
  },
  {
   "cell_type": "raw",
   "metadata": {
    "id": "5CtTLhJHbbDz"
   },
   "source": [
    "Desired Output:\n",
    "\n",
    "array([[1, 1, 1, 1],\n",
    "       [1, 1, 1, 1],\n",
    "       [1, 1, 1, 1],\n",
    "       [1, 1, 1, 1]])"
   ]
  },
  {
   "cell_type": "markdown",
   "metadata": {
    "id": "1gD94nCeAd-5"
   },
   "source": [
    "### 5. Make all the values of the array above with the value of 7."
   ]
  },
  {
   "cell_type": "code",
   "execution_count": 9,
   "metadata": {
    "id": "L8fjsn5JAd-6"
   },
   "outputs": [
    {
     "data": {
      "text/plain": [
       "array([[7, 7, 7, 7],\n",
       "       [7, 7, 7, 7],\n",
       "       [7, 7, 7, 7],\n",
       "       [7, 7, 7, 7]])"
      ]
     },
     "execution_count": 9,
     "metadata": {},
     "output_type": "execute_result"
    }
   ],
   "source": [
    "# YOUR CODE IS HERE\n",
    "\n",
    "arr = np.ones((4,4),dtype = int) * 7\n",
    "arr\n"
   ]
  },
  {
   "cell_type": "raw",
   "metadata": {
    "id": "q7kLEfScbbD0"
   },
   "source": [
    "Desired Output:\n",
    "\n",
    "array([[7, 7, 7, 7],\n",
    "       [7, 7, 7, 7],\n",
    "       [7, 7, 7, 7],\n",
    "       [7, 7, 7, 7]])"
   ]
  },
  {
   "cell_type": "markdown",
   "metadata": {
    "id": "XeOPD2dBAd-7"
   },
   "source": [
    "### 6. Create the previous array above by full() method."
   ]
  },
  {
   "cell_type": "code",
   "execution_count": 10,
   "metadata": {
    "id": "xqoPe_PJAd-7"
   },
   "outputs": [
    {
     "data": {
      "text/plain": [
       "array([[7, 7, 7, 7],\n",
       "       [7, 7, 7, 7],\n",
       "       [7, 7, 7, 7],\n",
       "       [7, 7, 7, 7]])"
      ]
     },
     "execution_count": 10,
     "metadata": {},
     "output_type": "execute_result"
    }
   ],
   "source": [
    "# YOUR CODE IS HERE\n",
    "np.full((4,4),7)\n"
   ]
  },
  {
   "cell_type": "raw",
   "metadata": {
    "id": "a0Nx3INYbbD0"
   },
   "source": [
    "Desired Output:\n",
    "\n",
    "array([[7, 7, 7, 7],\n",
    "       [7, 7, 7, 7],\n",
    "       [7, 7, 7, 7],\n",
    "       [7, 7, 7, 7]])"
   ]
  },
  {
   "cell_type": "markdown",
   "metadata": {
    "id": "G8_xFCyQAd-8"
   },
   "source": [
    "### 7. Create an array of even integers from 2 to 16 (inclusive)."
   ]
  },
  {
   "cell_type": "code",
   "execution_count": 11,
   "metadata": {
    "id": "Nu6VInWWAd-8"
   },
   "outputs": [
    {
     "data": {
      "text/plain": [
       "array([ 2,  4,  6,  8, 10, 12, 14, 16])"
      ]
     },
     "execution_count": 11,
     "metadata": {},
     "output_type": "execute_result"
    }
   ],
   "source": [
    "# YOUR CODE IS HERE\n",
    "\n",
    "np.arange(2, 17, 2)\n",
    "\n"
   ]
  },
  {
   "cell_type": "raw",
   "metadata": {
    "id": "Xm3jhez3bbD0"
   },
   "source": [
    "Desired Output:\n",
    "\n",
    "array([ 2,  4,  6,  8, 10, 12, 14, 16])"
   ]
  },
  {
   "cell_type": "markdown",
   "metadata": {
    "id": "-SZvgEVVAd-9"
   },
   "source": [
    "### 8. Create a 5x5 matrix with the values between 0 to 25 (exclusive)."
   ]
  },
  {
   "cell_type": "code",
   "execution_count": 12,
   "metadata": {
    "id": "ddkmPCghAd--"
   },
   "outputs": [
    {
     "data": {
      "text/plain": [
       "array([[ 0,  1,  2,  3,  4],\n",
       "       [ 5,  6,  7,  8,  9],\n",
       "       [10, 11, 12, 13, 14],\n",
       "       [15, 16, 17, 18, 19],\n",
       "       [20, 21, 22, 23, 24]])"
      ]
     },
     "execution_count": 12,
     "metadata": {},
     "output_type": "execute_result"
    }
   ],
   "source": [
    "# YOUR CODE IS HERE\n",
    "np.arange(0, 25).reshape(5,5)\n",
    "\n"
   ]
  },
  {
   "cell_type": "raw",
   "metadata": {
    "id": "1U9YuXLsbbD0"
   },
   "source": [
    "Desired Output:\n",
    "\n",
    "array([[ 0,  1,  2,  3,  4],\n",
    "       [ 5,  6,  7,  8,  9],\n",
    "       [10, 11, 12, 13, 14],\n",
    "       [15, 16, 17, 18, 19],\n",
    "       [20, 21, 22, 23, 24]])"
   ]
  },
  {
   "cell_type": "markdown",
   "metadata": {
    "id": "-QuMw6v5Ad-_"
   },
   "source": [
    "### 9. Create a 5x5 matrix with the values between 0 to 25 (exclusive) using linspace method."
   ]
  },
  {
   "cell_type": "code",
   "execution_count": 13,
   "metadata": {
    "id": "4A195I5iAd_A"
   },
   "outputs": [
    {
     "data": {
      "text/plain": [
       "array([[ 0,  1,  2,  3,  4],\n",
       "       [ 5,  6,  7,  8,  9],\n",
       "       [10, 11, 12, 13, 14],\n",
       "       [15, 16, 17, 18, 19],\n",
       "       [20, 21, 22, 23, 24]])"
      ]
     },
     "execution_count": 13,
     "metadata": {},
     "output_type": "execute_result"
    }
   ],
   "source": [
    "# YOUR CODE IS HERE\n",
    "np.linspace(0,24,25, dtype = int).reshape(5,5)\n",
    "\n"
   ]
  },
  {
   "cell_type": "raw",
   "metadata": {
    "id": "xTP2TU0ObbD1"
   },
   "source": [
    "Desired Output:\n",
    "\n",
    "array([[ 0,  1,  2,  3,  4],\n",
    "       [ 5,  6,  7,  8,  9],\n",
    "       [10, 11, 12, 13, 14],\n",
    "       [15, 16, 17, 18, 19],\n",
    "       [20, 21, 22, 23, 24]])"
   ]
  },
  {
   "cell_type": "markdown",
   "metadata": {
    "id": "xL-eRUXEAd_B"
   },
   "source": [
    "### 10. Create randomly 5 numbers with numpy."
   ]
  },
  {
   "cell_type": "code",
   "execution_count": 14,
   "metadata": {
    "id": "0xda3LnLAd_B"
   },
   "outputs": [
    {
     "data": {
      "text/plain": [
       "array([0.17129704, 0.85667011, 0.49017606, 0.4940206 , 0.05992815])"
      ]
     },
     "execution_count": 14,
     "metadata": {},
     "output_type": "execute_result"
    }
   ],
   "source": [
    "# YOUR CODE IS HERE\n",
    "np.random.rand(5)\n"
   ]
  },
  {
   "cell_type": "raw",
   "metadata": {
    "id": "_22iG3jRbbD1"
   },
   "source": [
    "Desired Output (WATCH OUT! Your output will probably NOT be the same as the one below due to randomization):\n",
    "\n",
    "array([0.69664494, 0.66387647, 0.97508534, 0.33818591, 0.58766187])"
   ]
  },
  {
   "cell_type": "markdown",
   "metadata": {
    "id": "JXiZjg06Ad_C"
   },
   "source": [
    "### 11. Create an array of 5*5 shape and fills it with random values as per the standard normal distribution."
   ]
  },
  {
   "cell_type": "code",
   "execution_count": 15,
   "metadata": {
    "id": "KeJDVElTAd_C"
   },
   "outputs": [
    {
     "data": {
      "text/plain": [
       "array([[0.96294613, 0.08593104, 0.54668858, 0.6359679 , 0.43715624],\n",
       "       [0.94073136, 0.59680922, 0.65860555, 0.39121203, 0.83801805],\n",
       "       [0.01519235, 0.65545746, 0.89552638, 0.03450529, 0.21892078],\n",
       "       [0.83241838, 0.03864167, 0.32713814, 0.88374564, 0.05436873],\n",
       "       [0.86060309, 0.02380693, 0.80148608, 0.72170469, 0.6467581 ]])"
      ]
     },
     "execution_count": 15,
     "metadata": {},
     "output_type": "execute_result"
    }
   ],
   "source": [
    "# YOUR CODE IS HERE\n",
    "np.random.rand(5, 5)\n"
   ]
  },
  {
   "cell_type": "raw",
   "metadata": {
    "id": "dYZG-9H7bbD2"
   },
   "source": [
    "Desired Output (WATCH OUT! Your output will probably NOT be the same as the one below due to randomization):\n",
    "\n",
    "array([[ 0.73087006, -0.34675846, -1.03601606, -0.61227298, -0.57078798],\n",
    "       [ 1.85976917, -0.37158111, -1.16789003, -0.81271697,  1.39620977],\n",
    "       [ 0.52695367, -0.19017673,  0.78067235, -1.3520313 ,  0.44878344],\n",
    "       [ 0.27758877,  0.75391726, -0.52652875,  0.74519765, -0.40414682],\n",
    "       [ 0.12743864, -0.81637521,  0.14086653, -0.29524574,  0.12703938]])"
   ]
  },
  {
   "cell_type": "markdown",
   "metadata": {
    "id": "iHRAL69DAd_D"
   },
   "source": [
    "### 12. Create a 3*4 array of random int numbers between 20 and 50."
   ]
  },
  {
   "cell_type": "code",
   "execution_count": 16,
   "metadata": {
    "id": "19owhlhjAd_D"
   },
   "outputs": [
    {
     "data": {
      "text/plain": [
       "array([[28, 47, 48, 34],\n",
       "       [26, 33, 29, 47],\n",
       "       [33, 46, 46, 46]])"
      ]
     },
     "execution_count": 16,
     "metadata": {},
     "output_type": "execute_result"
    }
   ],
   "source": [
    "# YOUR CODE IS HERE\n",
    "np.random.randint(20,50, (3, 4))\n",
    "\n"
   ]
  },
  {
   "cell_type": "raw",
   "metadata": {
    "id": "q0N-LgQ0bbD2"
   },
   "source": [
    "Desired Output (WATCH OUT! Your output will probably NOT be the same as the one below due to randomization):\n",
    "\n",
    "array([[33, 39, 47, 26],\n",
    "       [41, 20, 32, 23],\n",
    "       [25, 22, 41, 28]])"
   ]
  },
  {
   "cell_type": "markdown",
   "metadata": {
    "id": "XpsHE5BsAd_E"
   },
   "source": [
    "### 13. Create an array named \"ranarr\"consisting of randomly 48 numbers and reshape this array with the shape of 6x8 in different ways."
   ]
  },
  {
   "cell_type": "code",
   "execution_count": 17,
   "metadata": {
    "id": "8DWl1ExmAd_E"
   },
   "outputs": [
    {
     "data": {
      "text/plain": [
       "array([[ 3, 18, 34, 16, 47, 28, 37,  6, 19,  3, 33, 22,  3, 44, 24, 28,\n",
       "        12, 12, 38, 16, 23, 45,  6, 38, 26, 41, 15, 12, 31, 25, 15, 19,\n",
       "         7, 20, 40, 12, 15, 12, 43, 18,  1, 40, 31, 29, 40, 24,  8, 44]])"
      ]
     },
     "execution_count": 17,
     "metadata": {},
     "output_type": "execute_result"
    }
   ],
   "source": [
    "# YOUR CODE IS HERE\n",
    "\n",
    "ranarr = np.random.randint(48, size = (1,48))\n",
    "ranarr\n",
    "\n"
   ]
  },
  {
   "cell_type": "raw",
   "metadata": {
    "id": "jcbp1avHbbD3"
   },
   "source": [
    "Desired Output (WATCH OUT! Your output may NOT be the same as the one):\n",
    "\n",
    "array([ 6, 21, 18, 53, 38, 37, 30, 47, 19, 44, 29, 12, 14, 37, 24, 14, 16,\n",
    "       18,  3, 19, 19, 41, 28, 41,  3, 47,  4, 18, 27, 44, 15, 21,  5, 55,\n",
    "       38,  9,  5, 50, 15, 20,  7, 26, 45, 39, 37, 23,  6, 10])"
   ]
  },
  {
   "cell_type": "code",
   "execution_count": 18,
   "metadata": {
    "id": "3YxAvl1zAd_E"
   },
   "outputs": [
    {
     "data": {
      "text/plain": [
       "array([[ 3, 18, 34, 16, 47, 28, 37,  6],\n",
       "       [19,  3, 33, 22,  3, 44, 24, 28],\n",
       "       [12, 12, 38, 16, 23, 45,  6, 38],\n",
       "       [26, 41, 15, 12, 31, 25, 15, 19],\n",
       "       [ 7, 20, 40, 12, 15, 12, 43, 18],\n",
       "       [ 1, 40, 31, 29, 40, 24,  8, 44]])"
      ]
     },
     "execution_count": 18,
     "metadata": {},
     "output_type": "execute_result"
    }
   ],
   "source": [
    "# YOUR CODE IS HERE (RESHAPING WITH NUM)\n",
    "\n",
    "ranarr.reshape(6,8)"
   ]
  },
  {
   "cell_type": "raw",
   "metadata": {
    "id": "CGTW2vQIbbD4"
   },
   "source": [
    "Desired Output (WATCH OUT! Your output may NOT be the same as the one):\n",
    "\n",
    "array([[ 6, 21, 18, 53, 38, 37, 30, 47],\n",
    "       [19, 44, 29, 12, 14, 37, 24, 14],\n",
    "       [16, 18,  3, 19, 19, 41, 28, 41],\n",
    "       [ 3, 47,  4, 18, 27, 44, 15, 21],\n",
    "       [ 5, 55, 38,  9,  5, 50, 15, 20],\n",
    "       [ 7, 26, 45, 39, 37, 23,  6, 10]])"
   ]
  },
  {
   "cell_type": "code",
   "execution_count": 19,
   "metadata": {
    "id": "5PJczaI-Ad_F"
   },
   "outputs": [
    {
     "data": {
      "text/plain": [
       "array([[ 3, 18, 34, 16, 47, 28, 37,  6],\n",
       "       [19,  3, 33, 22,  3, 44, 24, 28],\n",
       "       [12, 12, 38, 16, 23, 45,  6, 38],\n",
       "       [26, 41, 15, 12, 31, 25, 15, 19],\n",
       "       [ 7, 20, 40, 12, 15, 12, 43, 18],\n",
       "       [ 1, 40, 31, 29, 40, 24,  8, 44]])"
      ]
     },
     "execution_count": 19,
     "metadata": {},
     "output_type": "execute_result"
    }
   ],
   "source": [
    "# YOUR CODE IS HERE (RESHAPING WITH -1)\n",
    "\n",
    "ranarr.reshape(-1, 8)"
   ]
  },
  {
   "cell_type": "raw",
   "metadata": {
    "id": "njxA7L4ebbD4"
   },
   "source": [
    "Desired Output (WATCH OUT! Your output may NOT be the same as the one):\n",
    "\n",
    "array([[ 6, 21, 18, 53, 38, 37, 30, 47],\n",
    "       [19, 44, 29, 12, 14, 37, 24, 14],\n",
    "       [16, 18,  3, 19, 19, 41, 28, 41],\n",
    "       [ 3, 47,  4, 18, 27, 44, 15, 21],\n",
    "       [ 5, 55, 38,  9,  5, 50, 15, 20],\n",
    "       [ 7, 26, 45, 39, 37, 23,  6, 10]])"
   ]
  },
  {
   "cell_type": "code",
   "execution_count": 20,
   "metadata": {
    "id": "C5AXPQS-bbD4"
   },
   "outputs": [
    {
     "data": {
      "text/plain": [
       "array([[ 3, 18, 34, 16, 47, 28, 37,  6],\n",
       "       [19,  3, 33, 22,  3, 44, 24, 28],\n",
       "       [12, 12, 38, 16, 23, 45,  6, 38],\n",
       "       [26, 41, 15, 12, 31, 25, 15, 19],\n",
       "       [ 7, 20, 40, 12, 15, 12, 43, 18],\n",
       "       [ 1, 40, 31, 29, 40, 24,  8, 44]])"
      ]
     },
     "execution_count": 20,
     "metadata": {},
     "output_type": "execute_result"
    }
   ],
   "source": [
    "# YOUR CODE IS HERE (RESHAPING WITH -1)\n",
    "\n",
    "ranarr.reshape(6, -1)"
   ]
  },
  {
   "cell_type": "raw",
   "metadata": {
    "id": "dVoy5WgibbD4"
   },
   "source": [
    "Desired Output (WATCH OUT! Your output may NOT be the same as the one):\n",
    "\n",
    "array([[ 6, 21, 18, 53, 38, 37, 30, 47],\n",
    "       [19, 44, 29, 12, 14, 37, 24, 14],\n",
    "       [16, 18,  3, 19, 19, 41, 28, 41],\n",
    "       [ 3, 47,  4, 18, 27, 44, 15, 21],\n",
    "       [ 5, 55, 38,  9,  5, 50, 15, 20],\n",
    "       [ 7, 26, 45, 39, 37, 23,  6, 10]])"
   ]
  },
  {
   "cell_type": "markdown",
   "metadata": {
    "id": "jB4suWaXAd_F"
   },
   "source": [
    "## Numpy Indexing and Selection"
   ]
  },
  {
   "cell_type": "markdown",
   "metadata": {
    "id": "A6SXueUJbbD5"
   },
   "source": [
    "### Create an array named \"mat\" in accordence with the desired output below."
   ]
  },
  {
   "cell_type": "code",
   "execution_count": 21,
   "metadata": {
    "id": "x2zNGxNkAd_F"
   },
   "outputs": [
    {
     "data": {
      "text/plain": [
       "array([[ 1,  2,  3,  4],\n",
       "       [ 5,  6,  7,  8],\n",
       "       [ 9, 10, 11, 12],\n",
       "       [13, 14, 15, 16]])"
      ]
     },
     "execution_count": 21,
     "metadata": {},
     "output_type": "execute_result"
    }
   ],
   "source": [
    "# YOUR CODE IS HERE\n",
    "\n",
    "mat = np.arange(1,17).reshape(4, 4)\n",
    "mat\n"
   ]
  },
  {
   "cell_type": "raw",
   "metadata": {
    "id": "lw2-Sj_dbbD5"
   },
   "source": [
    "Desired Output:\n",
    "\n",
    "array([[ 1,  2,  3,  4],\n",
    "       [ 5,  6,  7,  8],\n",
    "       [ 9, 10, 11, 12],\n",
    "       [13, 14, 15, 16]])"
   ]
  },
  {
   "cell_type": "markdown",
   "metadata": {
    "id": "wyNXBC0GAd_G"
   },
   "source": [
    "### 14. Using the array above, write a code that reproduces the desired output shown below.<br>"
   ]
  },
  {
   "cell_type": "code",
   "execution_count": 22,
   "metadata": {
    "id": "k6FmQqjxAd_G"
   },
   "outputs": [
    {
     "data": {
      "text/plain": [
       "array([[ 6,  7],\n",
       "       [10, 11]])"
      ]
     },
     "execution_count": 22,
     "metadata": {},
     "output_type": "execute_result"
    }
   ],
   "source": [
    "# YOUR CODE IS HERE\n",
    "mat[1:3, 1:3]\n"
   ]
  },
  {
   "cell_type": "raw",
   "metadata": {
    "id": "1IcelID5bbD5"
   },
   "source": [
    "Desired Output:\n",
    "\n",
    "array([[ 6,  7],\n",
    "       [10, 11]])"
   ]
  },
  {
   "cell_type": "markdown",
   "metadata": {
    "id": "bUShSGkJAd_G"
   },
   "source": [
    "### 15. Get the 1st column (index number 0) of the array above."
   ]
  },
  {
   "cell_type": "code",
   "execution_count": 23,
   "metadata": {
    "id": "Wv7YR2drAd_G"
   },
   "outputs": [
    {
     "data": {
      "text/plain": [
       "array([ 1,  5,  9, 13])"
      ]
     },
     "execution_count": 23,
     "metadata": {},
     "output_type": "execute_result"
    }
   ],
   "source": [
    "# YOUR CODE IS HERE\n",
    "mat[:, 0]\n"
   ]
  },
  {
   "cell_type": "raw",
   "metadata": {
    "id": "dU2rWSKkbbD5"
   },
   "source": [
    "Desired Output:\n",
    "\n",
    "array([ 1,  5,  9, 13])"
   ]
  },
  {
   "cell_type": "markdown",
   "metadata": {
    "id": "GGdWljRJAd_H"
   },
   "source": [
    "### 16. Get the values in 2nd row (index number 1) for every 2 step."
   ]
  },
  {
   "cell_type": "code",
   "execution_count": 24,
   "metadata": {
    "id": "7e6tP0NlAd_H"
   },
   "outputs": [
    {
     "data": {
      "text/plain": [
       "array([5, 7])"
      ]
     },
     "execution_count": 24,
     "metadata": {},
     "output_type": "execute_result"
    }
   ],
   "source": [
    "# YOUR CODE IS HERE\n",
    "mat[[1], [0,2]]"
   ]
  },
  {
   "cell_type": "raw",
   "metadata": {
    "id": "o-gR0BgXbbD6"
   },
   "source": [
    "Desired Output:\n",
    "\n",
    "array([5, 7])"
   ]
  },
  {
   "cell_type": "markdown",
   "metadata": {
    "id": "aANYlDooAd_H"
   },
   "source": [
    "### 17.Assign 77 to every cell in 3rd column."
   ]
  },
  {
   "cell_type": "code",
   "execution_count": 25,
   "metadata": {
    "id": "oy5AxrK1Ad_I"
   },
   "outputs": [
    {
     "data": {
      "text/plain": [
       "array([[ 1,  2, 77,  4],\n",
       "       [ 5,  6, 77,  8],\n",
       "       [ 9, 10, 77, 12],\n",
       "       [13, 14, 77, 16]])"
      ]
     },
     "execution_count": 25,
     "metadata": {},
     "output_type": "execute_result"
    }
   ],
   "source": [
    "# YOUR CODE IS HERE\n",
    "mat[:, 2] = 77\n",
    "mat\n"
   ]
  },
  {
   "cell_type": "raw",
   "metadata": {
    "id": "p91ecaSrbbD6"
   },
   "source": [
    "Desired Output:\n",
    "\n",
    "array([[ 1,  2, 77,  4],\n",
    "       [ 5,  6, 77,  8],\n",
    "       [ 9, 10, 77, 12],\n",
    "       [13, 14, 77, 16]])"
   ]
  },
  {
   "cell_type": "markdown",
   "metadata": {
    "id": "OsrIo34xAd_I"
   },
   "source": [
    "### 18. (a) Take 2nd row (index number 1) and 1st column (index number 0) , (b) 4th row (index number 3) and 3rd column (index number 2) ."
   ]
  },
  {
   "cell_type": "code",
   "execution_count": 26,
   "metadata": {
    "id": "fESSmtPDAd_I"
   },
   "outputs": [
    {
     "data": {
      "text/plain": [
       "array([ 5, 77])"
      ]
     },
     "execution_count": 26,
     "metadata": {},
     "output_type": "execute_result"
    }
   ],
   "source": [
    "# YOUR CODE IS HERE\n",
    "mat[[1],[0,2]]\n"
   ]
  },
  {
   "cell_type": "raw",
   "metadata": {
    "id": "D5dX-A27bbD6"
   },
   "source": [
    "Desired Output:\n",
    "\n",
    "array([ 5, 77])"
   ]
  },
  {
   "cell_type": "markdown",
   "metadata": {
    "id": "dsZDs5vjAd_J"
   },
   "source": [
    "### 19. Take between 2nd and last row with step 2 and between 1st and last column with step 2."
   ]
  },
  {
   "cell_type": "code",
   "execution_count": 27,
   "metadata": {},
   "outputs": [
    {
     "data": {
      "text/plain": [
       "array([[ 1,  2, 77,  4],\n",
       "       [ 5,  6, 77,  8],\n",
       "       [ 9, 10, 77, 12],\n",
       "       [13, 14, 77, 16]])"
      ]
     },
     "execution_count": 27,
     "metadata": {},
     "output_type": "execute_result"
    }
   ],
   "source": [
    "mat"
   ]
  },
  {
   "cell_type": "code",
   "execution_count": 28,
   "metadata": {
    "id": "0IW0GtfCAd_J"
   },
   "outputs": [
    {
     "data": {
      "text/plain": [
       "array([[ 5, 77],\n",
       "       [13, 77]])"
      ]
     },
     "execution_count": 28,
     "metadata": {},
     "output_type": "execute_result"
    }
   ],
   "source": [
    "# YOUR CODE IS HERE\n",
    "mat[1::2, ::2]"
   ]
  },
  {
   "cell_type": "raw",
   "metadata": {
    "id": "owEpuL8rbbD7"
   },
   "source": [
    "Desired Output:\n",
    "\n",
    "array([[ 5, 77],\n",
    "       [13, 77]])"
   ]
  },
  {
   "cell_type": "markdown",
   "metadata": {
    "id": "G1aoEVaJAd_J"
   },
   "source": [
    "## NumPy Operations"
   ]
  },
  {
   "cell_type": "markdown",
   "metadata": {
    "id": "2p7ZbeTLAd_K"
   },
   "source": [
    "### 20. Get the sum of values smaller than 10 and values bigger than 12 in \"mat\"."
   ]
  },
  {
   "cell_type": "code",
   "execution_count": 29,
   "metadata": {
    "id": "IBf3KzxBbbD7"
   },
   "outputs": [
    {
     "data": {
      "text/plain": [
       "array([[ 1,  2, 77,  4],\n",
       "       [ 5,  6, 77,  8],\n",
       "       [ 9, 10, 77, 12],\n",
       "       [13, 14, 77, 16]])"
      ]
     },
     "execution_count": 29,
     "metadata": {},
     "output_type": "execute_result"
    }
   ],
   "source": [
    "# LET US REMEMBER OUR ARRAY OF \"mat\"\n",
    "\n",
    "# YOUR CODE IS HERE\n",
    "\n",
    "mat"
   ]
  },
  {
   "cell_type": "raw",
   "metadata": {
    "id": "UC-qgSRTbbD7"
   },
   "source": [
    "Desired Output:\n",
    "\n",
    "array([[ 1,  2, 77,  4],\n",
    "       [ 5,  6, 77,  8],\n",
    "       [ 9, 10, 77, 12],\n",
    "       [13, 14, 77, 16]])"
   ]
  },
  {
   "cell_type": "code",
   "execution_count": 30,
   "metadata": {
    "id": "LD_0rzT6Ad_K"
   },
   "outputs": [
    {
     "data": {
      "text/plain": [
       "array([1, 2, 4, 5, 6, 8, 9])"
      ]
     },
     "execution_count": 30,
     "metadata": {},
     "output_type": "execute_result"
    }
   ],
   "source": [
    "# LET US FIND THE VALUES SMALLER THAN 10 IN \"mat\"\n",
    "\n",
    "# YOUR CODE IS HERE\n",
    "mat[mat < 10]\n"
   ]
  },
  {
   "cell_type": "raw",
   "metadata": {
    "id": "umFKIIIVbbD7"
   },
   "source": [
    "Desired Output:\n",
    "\n",
    "array([1, 2, 4, 5, 6, 8, 9])"
   ]
  },
  {
   "cell_type": "code",
   "execution_count": 31,
   "metadata": {
    "id": "RIpotHKeAd_K"
   },
   "outputs": [
    {
     "data": {
      "text/plain": [
       "array([77, 77, 77, 13, 14, 77, 16])"
      ]
     },
     "execution_count": 31,
     "metadata": {},
     "output_type": "execute_result"
    }
   ],
   "source": [
    "# LET US FIND THE VALUES BIGGER THAN 12 IN \"mat\"\n",
    "\n",
    "# YOUR CODE IS HERE\n",
    "mat[mat > 12]\n",
    "\n"
   ]
  },
  {
   "cell_type": "raw",
   "metadata": {
    "id": "yyWasCsqbbD7"
   },
   "source": [
    "Desired Output:\n",
    "\n",
    "array([77, 77, 77, 13, 14, 77, 16])"
   ]
  },
  {
   "cell_type": "code",
   "execution_count": 32,
   "metadata": {
    "id": "m4XkRQFiAd_K"
   },
   "outputs": [
    {
     "data": {
      "text/plain": [
       "array([78, 79, 81, 18, 20, 85, 25])"
      ]
     },
     "execution_count": 32,
     "metadata": {},
     "output_type": "execute_result"
    }
   ],
   "source": [
    "# LET US SUM THE VALUES SMALLER THAN 10 AND BIGGER THAN 12 IN \"mat\"\n",
    "\n",
    "# YOUR CODE IS HERE\n",
    "\n",
    "mat[mat < 10] + mat[mat > 12]"
   ]
  },
  {
   "cell_type": "raw",
   "metadata": {
    "id": "MqQqfVihbbD8"
   },
   "source": [
    "Desired Output:\n",
    "\n",
    "array([78, 79, 81, 18, 20, 85, 25])"
   ]
  },
  {
   "cell_type": "markdown",
   "metadata": {
    "id": "adWvgD-oAd_L"
   },
   "source": [
    "### 21. Get the standard deviation (std) of the result above."
   ]
  },
  {
   "cell_type": "code",
   "execution_count": 33,
   "metadata": {
    "id": "96DAIF1fAd_L"
   },
   "outputs": [
    {
     "data": {
      "text/plain": [
       "29.700546274093877"
      ]
     },
     "execution_count": 33,
     "metadata": {},
     "output_type": "execute_result"
    }
   ],
   "source": [
    "# YOUR CODE IS HERE\n",
    "(mat[mat < 10] + mat[mat > 12]).std()\n"
   ]
  },
  {
   "cell_type": "raw",
   "metadata": {
    "id": "wU2x44IubbD9"
   },
   "source": [
    "Desired Output:\n",
    "\n",
    "29.700546274093877"
   ]
  },
  {
   "cell_type": "markdown",
   "metadata": {
    "id": "FkhK2cOqAd_L"
   },
   "source": [
    "### 22. Get the sum of the 2nd column in the original \"mat\"."
   ]
  },
  {
   "cell_type": "code",
   "execution_count": 34,
   "metadata": {
    "id": "XDQqGSzkAd_M"
   },
   "outputs": [
    {
     "data": {
      "text/plain": [
       "array([[ 1,  2, 77,  4],\n",
       "       [ 5,  6, 77,  8],\n",
       "       [ 9, 10, 77, 12],\n",
       "       [13, 14, 77, 16]])"
      ]
     },
     "execution_count": 34,
     "metadata": {},
     "output_type": "execute_result"
    }
   ],
   "source": [
    "# LET US REMEMBER OUR ARRAY OF \"mat\"\n",
    "\n",
    "# YOUR CODE IS HERE\n",
    "mat\n"
   ]
  },
  {
   "cell_type": "raw",
   "metadata": {
    "id": "OghqqpP4bbD9"
   },
   "source": [
    "Desired Output:\n",
    "\n",
    "array([[ 1,  2, 77,  4],\n",
    "       [ 5,  6, 77,  8],\n",
    "       [ 9, 10, 77, 12],\n",
    "       [13, 14, 77, 16]])"
   ]
  },
  {
   "cell_type": "code",
   "execution_count": 35,
   "metadata": {
    "id": "qNeP5ttGAd_M"
   },
   "outputs": [
    {
     "data": {
      "text/plain": [
       "array([[ 1,  2,  3,  4],\n",
       "       [ 5,  6,  7,  8],\n",
       "       [ 9, 10, 11, 12],\n",
       "       [13, 14, 15, 16]])"
      ]
     },
     "execution_count": 35,
     "metadata": {},
     "output_type": "execute_result"
    }
   ],
   "source": [
    "# LET OBTAIN THE ORIGINAL ARRAY OF \"mat\"\n",
    "\n",
    "# YOUR CODE IS HERE\n",
    "mat = np.arange(1,17).reshape(4, 4)\n",
    "mat\n"
   ]
  },
  {
   "cell_type": "raw",
   "metadata": {
    "id": "oLiipgBWbbD9"
   },
   "source": [
    "Desired Output:\n",
    "\n",
    "array([[ 1,  2,  3,  4],\n",
    "       [ 5,  6,  7,  8],\n",
    "       [ 9, 10, 11, 12],\n",
    "       [13, 14, 15, 16]])"
   ]
  },
  {
   "cell_type": "code",
   "execution_count": 36,
   "metadata": {
    "id": "xzqyV2SZAd_M",
    "scrolled": true
   },
   "outputs": [
    {
     "data": {
      "text/plain": [
       "32"
      ]
     },
     "execution_count": 36,
     "metadata": {},
     "output_type": "execute_result"
    }
   ],
   "source": [
    "# YOUR CODE IS HERE\n",
    "np.sum(mat[:, 1])\n"
   ]
  },
  {
   "cell_type": "raw",
   "metadata": {
    "id": "v9TL0YlTbbD9"
   },
   "source": [
    "Desired Output:\n",
    "\n",
    "32"
   ]
  },
  {
   "cell_type": "markdown",
   "metadata": {
    "id": "kCQ1GvPUAd_N"
   },
   "source": [
    "### 23. Get the median, mean and std of 3rd column in \"mat\"."
   ]
  },
  {
   "cell_type": "code",
   "execution_count": 37,
   "metadata": {
    "id": "NDLT7dBKbbD-"
   },
   "outputs": [
    {
     "data": {
      "text/plain": [
       "array([[ 1,  2,  3,  4],\n",
       "       [ 5,  6,  7,  8],\n",
       "       [ 9, 10, 11, 12],\n",
       "       [13, 14, 15, 16]])"
      ]
     },
     "execution_count": 37,
     "metadata": {},
     "output_type": "execute_result"
    }
   ],
   "source": [
    "# LET US REMEMBER OUR ARRAY OF \"mat\"\n",
    "\n",
    "# YOUR CODE IS HERE\n",
    "mat\n"
   ]
  },
  {
   "cell_type": "raw",
   "metadata": {
    "id": "-mZ1QRD3bbD-"
   },
   "source": [
    "\n",
    "Desired Output:\n",
    "\n",
    "array([[ 1,  2,  3,  4],\n",
    "       [ 5,  6,  7,  8],\n",
    "       [ 9, 10, 11, 12],\n",
    "       [13, 14, 15, 16]])"
   ]
  },
  {
   "cell_type": "code",
   "execution_count": 38,
   "metadata": {
    "id": "GmfBsuJPbbD-"
   },
   "outputs": [
    {
     "data": {
      "text/plain": [
       "array([ 3,  7, 11, 15])"
      ]
     },
     "execution_count": 38,
     "metadata": {},
     "output_type": "execute_result"
    }
   ],
   "source": [
    "# LET US ASSIGN THE COLUMN WE ARE INTERESTED IN TO A VARIABLE\n",
    "\n",
    "# YOUR CODE IS HERE\n",
    "third_column = mat[:, 2]\n",
    "third_column\n",
    "\n"
   ]
  },
  {
   "cell_type": "raw",
   "metadata": {
    "id": "umI2mMNfbbD-"
   },
   "source": [
    "Desired Output:\n",
    "\n",
    "array([[ 3],\n",
    "       [ 7],\n",
    "       [11],\n",
    "       [15]])"
   ]
  },
  {
   "cell_type": "code",
   "execution_count": 39,
   "metadata": {
    "id": "d_DGwW6xbbD-"
   },
   "outputs": [
    {
     "data": {
      "text/plain": [
       "array([ 9, 10, 11, 12])"
      ]
     },
     "execution_count": 39,
     "metadata": {},
     "output_type": "execute_result"
    }
   ],
   "source": [
    "# WHAT IF WE ARE INTERESTED IN THE 3RD ROW?\n",
    "\n",
    "# YOUR CODE IS HERE\n",
    "third_row = mat[2, :]\n",
    "third_row\n"
   ]
  },
  {
   "cell_type": "raw",
   "metadata": {
    "id": "S-egBgcCbbD-"
   },
   "source": [
    "Desired Output:\n",
    "\n",
    "array([ 9, 10, 11, 12])"
   ]
  },
  {
   "cell_type": "code",
   "execution_count": 45,
   "metadata": {
    "id": "OX4fqkipAd_N"
   },
   "outputs": [
    {
     "name": "stdout",
     "output_type": "stream",
     "text": [
      "9.0\n",
      "10.5\n"
     ]
    }
   ],
   "source": [
    "# LET US GET MEDIAN VALUE\n",
    "\n",
    "# YOUR CODE IS HERE\n",
    "\n",
    "print(np.median(third_column))\n",
    "print(np.median(third_row))\n",
    "\n"
   ]
  },
  {
   "cell_type": "raw",
   "metadata": {
    "id": "LCVoTshPbbD_"
   },
   "source": [
    "Desired Output:\n",
    "\n",
    "9.0\n",
    "10.5"
   ]
  },
  {
   "cell_type": "code",
   "execution_count": 46,
   "metadata": {
    "id": "oZpsC7rFAd_N"
   },
   "outputs": [
    {
     "name": "stdout",
     "output_type": "stream",
     "text": [
      "9.0\n",
      "10.5\n"
     ]
    }
   ],
   "source": [
    "# LET US GET MEAN VALUE\n",
    "\n",
    "# YOUR CODE IS HERE\n",
    "\n",
    "print(np.mean(third_column))\n",
    "print(np.mean(third_row))"
   ]
  },
  {
   "cell_type": "raw",
   "metadata": {
    "id": "AOaME1zQbbD_"
   },
   "source": [
    "Desired Output:\n",
    "\n",
    "9.0\n",
    "10.5"
   ]
  },
  {
   "cell_type": "code",
   "execution_count": 47,
   "metadata": {
    "id": "g8bveYJuAd_O"
   },
   "outputs": [
    {
     "name": "stdout",
     "output_type": "stream",
     "text": [
      "4.47213595499958\n",
      "1.118033988749895\n"
     ]
    }
   ],
   "source": [
    "# LET US GET STANDART DEVIATION (std) VALUE\n",
    "\n",
    "# YOUR CODE IS HERE\n",
    "\n",
    "print(np.std(third_column))\n",
    "print(np.std(third_row))\n",
    "\n"
   ]
  },
  {
   "cell_type": "raw",
   "metadata": {
    "id": "v0rULud6bbD_"
   },
   "source": [
    "Desired Output:\n",
    "\n",
    "4.47213595499958\n",
    "1.118033988749895"
   ]
  },
  {
   "cell_type": "markdown",
   "metadata": {
    "collapsed": true,
    "id": "gZ5HUfC4Ad_O",
    "jupyter": {
     "outputs_hidden": true
    }
   },
   "source": [
    "## <p style=\"background-color:#9d4f8c; font-family:newtimeroman; color:#FFF9ED; font-size:175%; text-align:center; border-radius:10px 10px;\">Pandas Section</p>\n",
    "\n",
    "<a id=\"1\"></a>\n",
    "<a href=\"#toc\" class=\"btn btn-primary btn-sm\" role=\"button\" aria-pressed=\"true\"\n",
    "style=\"color:blue; background-color:#dfa8e4\" data-toggle=\"popover\">Content</a>"
   ]
  },
  {
   "cell_type": "markdown",
   "metadata": {
    "id": "vQuiH4T8bbEA"
   },
   "source": [
    "### Import Pandas Library"
   ]
  },
  {
   "cell_type": "code",
   "execution_count": 1,
   "metadata": {
    "id": "lrbS4u52Ad_P"
   },
   "outputs": [],
   "source": [
    "import pandas as pd"
   ]
  },
  {
   "cell_type": "markdown",
   "metadata": {
    "id": "eacrpv_7Ad_P"
   },
   "source": [
    "### Read Salaries.csv and take a look at the first 5 rows, df info and df statistical measurements.*"
   ]
  },
  {
   "cell_type": "markdown",
   "metadata": {
    "id": "RHEXcRH_b9Y-"
   },
   "source": [
    "[pandas.read_csv() function --> (pandas official document)](https://pandas.pydata.org/docs/reference/api/pandas.read_csv.html)"
   ]
  },
  {
   "cell_type": "code",
   "execution_count": 2,
   "metadata": {
    "id": "pizKpWqtbigy"
   },
   "outputs": [
    {
     "name": "stdout",
     "output_type": "stream",
     "text": [
      "Requirement already satisfied: py7zr in /Users/mert/anaconda3/lib/python3.11/site-packages (0.22.0)\n",
      "Requirement already satisfied: texttable in /Users/mert/anaconda3/lib/python3.11/site-packages (from py7zr) (1.7.0)\n",
      "Requirement already satisfied: pycryptodomex>=3.16.0 in /Users/mert/anaconda3/lib/python3.11/site-packages (from py7zr) (3.21.0)\n",
      "Requirement already satisfied: pyzstd>=0.15.9 in /Users/mert/anaconda3/lib/python3.11/site-packages (from py7zr) (0.16.2)\n",
      "Requirement already satisfied: pyppmd<1.2.0,>=1.1.0 in /Users/mert/anaconda3/lib/python3.11/site-packages (from py7zr) (1.1.0)\n",
      "Requirement already satisfied: pybcj<1.1.0,>=1.0.0 in /Users/mert/anaconda3/lib/python3.11/site-packages (from py7zr) (1.0.2)\n",
      "Requirement already satisfied: multivolumefile>=0.2.3 in /Users/mert/anaconda3/lib/python3.11/site-packages (from py7zr) (0.2.3)\n",
      "Requirement already satisfied: inflate64<1.1.0,>=1.0.0 in /Users/mert/anaconda3/lib/python3.11/site-packages (from py7zr) (1.0.0)\n",
      "Requirement already satisfied: brotli>=1.1.0 in /Users/mert/anaconda3/lib/python3.11/site-packages (from py7zr) (1.1.0)\n",
      "Requirement already satisfied: psutil in /Users/mert/anaconda3/lib/python3.11/site-packages (from py7zr) (5.9.0)\n"
     ]
    }
   ],
   "source": [
    "!pip install py7zr\n",
    "\n",
    "import py7zr\n",
    "with py7zr.SevenZipFile('Salaries.7z', mode='r') as z:\n",
    "    z.extractall()"
   ]
  },
  {
   "cell_type": "code",
   "execution_count": null,
   "metadata": {
    "id": "OP4b0LcTAd_P"
   },
   "outputs": [],
   "source": [
    "# LET US READ Salaries.csv\n",
    "\n",
    "# YOUR CODE IS HERE\n",
    "\n"
   ]
  },
  {
   "cell_type": "code",
   "execution_count": null,
   "metadata": {
    "id": "qc6Tt4loAd_Q"
   },
   "outputs": [],
   "source": [
    "# LET US LOOK AT THE FIRST 5 ROWS\n",
    "\n",
    "# YOUR CODE IS HERE\n",
    "\n"
   ]
  },
  {
   "cell_type": "markdown",
   "metadata": {
    "id": "-MtROu1cbbEA"
   },
   "source": [
    "Desired Output:\n",
    "\n",
    "![image.png](https://i.ibb.co/6BTmGX8/assignment1a.png)"
   ]
  },
  {
   "cell_type": "code",
   "execution_count": null,
   "metadata": {
    "id": "YwUmq9IAAd_Q"
   },
   "outputs": [],
   "source": [
    "# LET US GET A SAMPLE\n",
    "\n",
    "# YOUR CODE IS HERE\n",
    "\n"
   ]
  },
  {
   "cell_type": "markdown",
   "metadata": {
    "id": "zrDHcQRpbbEA"
   },
   "source": [
    "Desired Output (WATCH OUT! Your output may NOT be the same as the one):\n",
    "\n",
    "![image.png](https://i.ibb.co/mcsCxxC/assignment1b.png)"
   ]
  },
  {
   "cell_type": "code",
   "execution_count": null,
   "metadata": {
    "id": "WuXy195gAd_Q"
   },
   "outputs": [],
   "source": [
    "# YOUR CODE IS HERE\n",
    "\n"
   ]
  },
  {
   "cell_type": "raw",
   "metadata": {
    "id": "lB60UwzZbbEA"
   },
   "source": [
    "Desired Output:\n",
    "\n",
    "<class 'pandas.core.frame.DataFrame'>\n",
    "RangeIndex: 148654 entries, 0 to 148653\n",
    "Data columns (total 13 columns):\n",
    " #   Column            Non-Null Count   Dtype\n",
    "---  ------            --------------   -----\n",
    " 0   Id                148654 non-null  int64\n",
    " 1   EmployeeName      148654 non-null  object\n",
    " 2   JobTitle          148654 non-null  object\n",
    " 3   BasePay           148045 non-null  float64\n",
    " 4   OvertimePay       148650 non-null  float64\n",
    " 5   OtherPay          148650 non-null  float64\n",
    " 6   Benefits          112491 non-null  float64\n",
    " 7   TotalPay          148654 non-null  float64\n",
    " 8   TotalPayBenefits  148654 non-null  float64\n",
    " 9   Year              148654 non-null  int64\n",
    " 10  Notes             0 non-null       float64\n",
    " 11  Agency            148654 non-null  object\n",
    " 12  Status            0 non-null       float64\n",
    "dtypes: float64(8), int64(2), object(3)\n",
    "memory usage: 14.7+ MB"
   ]
  },
  {
   "cell_type": "code",
   "execution_count": null,
   "metadata": {
    "id": "02GV54nZAd_R"
   },
   "outputs": [],
   "source": [
    "# LET US GET SOME DESCRIPTIVE MEASUREMENTS\n",
    "\n",
    "# YOUR CODE IS HERE\n",
    "\n"
   ]
  },
  {
   "cell_type": "markdown",
   "metadata": {
    "id": "2l_P-JyCbbEB"
   },
   "source": [
    "Desired Output:\n",
    "\n",
    "![image.png](https://i.ibb.co/ftMP67H/assignmnet1c.png)"
   ]
  },
  {
   "cell_type": "markdown",
   "metadata": {
    "id": "vIWqIPCdAd_R"
   },
   "source": [
    "### How many different year values are there?"
   ]
  },
  {
   "cell_type": "code",
   "execution_count": null,
   "metadata": {
    "id": "rT-R-ru5bbEB"
   },
   "outputs": [],
   "source": [
    "# YOUR CODE IS HERE\n",
    "\n"
   ]
  },
  {
   "cell_type": "raw",
   "metadata": {
    "id": "Kij-1q0RbbEB"
   },
   "source": [
    "Desired Output:\n",
    "\n",
    "2014    38123\n",
    "2013    37606\n",
    "2012    36766\n",
    "2011    36159\n",
    "Name: Year, dtype: int64"
   ]
  },
  {
   "cell_type": "code",
   "execution_count": null,
   "metadata": {
    "id": "_QXgY1bWAd_S"
   },
   "outputs": [],
   "source": [
    "# LET US FIND THE NUMBER OF UNIQUE VALUES IN THE COLUMN OF \"Year\"\n",
    "\n",
    "# YOUR CODE IS HERE\n",
    "\n"
   ]
  },
  {
   "cell_type": "raw",
   "metadata": {
    "id": "Phe8rBHqbbEC"
   },
   "source": [
    "Desired Output:\n",
    "\n",
    "4"
   ]
  },
  {
   "cell_type": "code",
   "execution_count": null,
   "metadata": {
    "id": "fcvz1i37bbEC"
   },
   "outputs": [],
   "source": [
    "# LET US FIND THE UNIQUE VALUES IN THE COLUMN OF \"Year\"\n",
    "\n",
    "# YOUR CODE IS HERE\n",
    "\n"
   ]
  },
  {
   "cell_type": "raw",
   "metadata": {
    "id": "NLVACRa2bbEC"
   },
   "source": [
    "Desired Output:\n",
    "\n",
    "array([2011, 2012, 2013, 2014], dtype=int64)"
   ]
  },
  {
   "cell_type": "markdown",
   "metadata": {
    "id": "3KfOM05LAd_S"
   },
   "source": [
    "### Print out max and avg values in the column of \"Totalpay\"."
   ]
  },
  {
   "cell_type": "code",
   "execution_count": null,
   "metadata": {
    "id": "gZM_k1oGAd_S"
   },
   "outputs": [],
   "source": [
    "# LET US FIND THE MAXIMUM TOTALPAY\n",
    "\n",
    "# YOUR CODE IS HERE\n",
    "\n"
   ]
  },
  {
   "cell_type": "raw",
   "metadata": {
    "id": "9dELgOTHbbEC"
   },
   "source": [
    "Desired Output:\n",
    "\n",
    "567595.43"
   ]
  },
  {
   "cell_type": "code",
   "execution_count": null,
   "metadata": {
    "id": "5QVwTgbKAd_S"
   },
   "outputs": [],
   "source": [
    "# LET US FIND THE AVERAGE TOTALPAY\n",
    "\n",
    "# YOUR CODE IS HERE\n",
    "\n"
   ]
  },
  {
   "cell_type": "raw",
   "metadata": {
    "id": "kepC67mabbED"
   },
   "source": [
    "Desired Output:\n",
    "\n",
    "74768.321971703"
   ]
  },
  {
   "cell_type": "markdown",
   "metadata": {
    "id": "PBH4LugjAd_T"
   },
   "source": [
    "### How many records in the TotalPay column are there bigger than avg TotalPay?"
   ]
  },
  {
   "cell_type": "code",
   "execution_count": null,
   "metadata": {
    "id": "oKcP5pC5bbED"
   },
   "outputs": [],
   "source": [
    "# YOUR CODE IS HERE\n",
    "\n"
   ]
  },
  {
   "cell_type": "markdown",
   "metadata": {
    "id": "5QKeGlLRbbED"
   },
   "source": [
    "Desired Output:\n",
    "\n",
    "![image.png](https://i.ibb.co/nj84FbZ/assignment1d.png)"
   ]
  },
  {
   "cell_type": "code",
   "execution_count": null,
   "metadata": {
    "id": "DzLK-P0zAd_T"
   },
   "outputs": [],
   "source": [
    "# YOUR CODE IS HERE\n",
    "\n"
   ]
  },
  {
   "cell_type": "raw",
   "metadata": {
    "id": "geg4aguKbbED"
   },
   "source": [
    "Desired Output:\n",
    "\n",
    "69489"
   ]
  },
  {
   "cell_type": "markdown",
   "metadata": {
    "id": "msGIAyWWAd_T"
   },
   "source": [
    "### How much does ALBERT PARDINI make money (including benefits)?"
   ]
  },
  {
   "cell_type": "code",
   "execution_count": null,
   "metadata": {
    "id": "Lp85lU0cAd_T"
   },
   "outputs": [],
   "source": [
    "# YOUR CODE IS HERE\n",
    "\n"
   ]
  },
  {
   "cell_type": "raw",
   "metadata": {
    "id": "d6vmLPIFbbED"
   },
   "source": [
    "Desired Output:\n",
    "\n",
    "2    335279.91\n",
    "Name: TotalPayBenefits, dtype: float64"
   ]
  },
  {
   "cell_type": "markdown",
   "metadata": {
    "id": "EhGLJuApAd_U"
   },
   "source": [
    "### Who is the lowest paid person?"
   ]
  },
  {
   "cell_type": "code",
   "execution_count": null,
   "metadata": {
    "id": "9x8QkcP2Ad_U"
   },
   "outputs": [],
   "source": [
    "# YOUR CODE IS HERE\n",
    "\n"
   ]
  },
  {
   "cell_type": "raw",
   "metadata": {
    "id": "fK4U0MkhbbEE"
   },
   "source": [
    "Desired Output:\n",
    "\n",
    "148653    Joe Lopez\n",
    "Name: EmployeeName, dtype: object"
   ]
  },
  {
   "cell_type": "markdown",
   "metadata": {
    "id": "KX1hSaoCAd_U"
   },
   "source": [
    "### What are the unique Jobs in dataset?"
   ]
  },
  {
   "cell_type": "code",
   "execution_count": null,
   "metadata": {
    "id": "O97fqU91Ad_U"
   },
   "outputs": [],
   "source": [
    "# YOUR CODE IS HERE\n",
    "\n"
   ]
  },
  {
   "cell_type": "raw",
   "metadata": {
    "id": "pQAgPhEtbbEE"
   },
   "source": [
    "Desired Output:\n",
    "\n",
    "array(['GENERAL MANAGER-METROPOLITAN TRANSIT AUTHORITY',\n",
    "       'CAPTAIN III (POLICE DEPARTMENT)',\n",
    "       'WIRE ROPE CABLE MAINTENANCE MECHANIC', ..., 'Conversion',\n",
    "       'Cashier 3', 'Not provided'], dtype=object)"
   ]
  },
  {
   "cell_type": "markdown",
   "metadata": {
    "id": "CsYDrYVDAd_V"
   },
   "source": [
    "### List the top 3 least common Jobs in the dataset."
   ]
  },
  {
   "cell_type": "code",
   "execution_count": null,
   "metadata": {
    "id": "DsZuPQVeAd_V"
   },
   "outputs": [],
   "source": [
    "# YOUR CODE IS HERE\n",
    "\n"
   ]
  },
  {
   "cell_type": "raw",
   "metadata": {
    "id": "moN1OeYDbbEE"
   },
   "source": [
    "Desired Output:\n",
    "\n",
    "COURT COMPUTER FACILITIES COORDINATOR             1\n",
    "AUTOMOTIVE BODY AND FENDER WORKER SUPERVISOR I    1\n",
    "VICTIM & WITNESS TECHNICIAN                       1\n",
    "Name: JobTitle, dtype: int64"
   ]
  },
  {
   "cell_type": "markdown",
   "metadata": {
    "id": "6bY1SKD1Ad_V"
   },
   "source": [
    "### How many people earned more than avg in 2012?"
   ]
  },
  {
   "cell_type": "code",
   "execution_count": null,
   "metadata": {
    "id": "W9yhfXieAd_W"
   },
   "outputs": [],
   "source": [
    "# YOUR CODE IS HERE\n",
    "\n"
   ]
  },
  {
   "cell_type": "raw",
   "metadata": {
    "id": "dfJvGfysbbEE"
   },
   "source": [
    "Desired Output:\n",
    "\n",
    "20366"
   ]
  },
  {
   "cell_type": "markdown",
   "metadata": {
    "id": "EM6JCaT-Ad_W"
   },
   "source": [
    "### How many people have a title of Manager in their jobs?"
   ]
  },
  {
   "cell_type": "code",
   "execution_count": null,
   "metadata": {
    "id": "RjCxcXEWAd_Y"
   },
   "outputs": [],
   "source": [
    "# USE APPLY FUNCTION\n",
    "\n",
    "# YOUR CODE IS HERE\n",
    "\n"
   ]
  },
  {
   "cell_type": "raw",
   "metadata": {
    "id": "l9tvgVWtbbEF"
   },
   "source": [
    "Desired Output:\n",
    "\n",
    "4110"
   ]
  },
  {
   "cell_type": "markdown",
   "metadata": {
    "id": "UsSkiFyVAd_Y"
   },
   "source": [
    "### Take Id, EmployeeName, JobTitle, TotalPay and TotalPayBenefits columns with iloc and assign them as sal_new dataframe."
   ]
  },
  {
   "cell_type": "code",
   "execution_count": null,
   "metadata": {
    "id": "31MPBM2UAd_Y"
   },
   "outputs": [],
   "source": [
    "# YOUR CODE IS HERE\n",
    "\n"
   ]
  },
  {
   "cell_type": "markdown",
   "metadata": {
    "id": "wcxerUFxbbEF"
   },
   "source": [
    "Desired Output:\n",
    "\n",
    "![image.png](https://i.ibb.co/ZgFCbPm/assignment1e.png)"
   ]
  },
  {
   "cell_type": "markdown",
   "metadata": {
    "id": "IDfaMS0OAd_Z"
   },
   "source": [
    "### Take the columns betweeen EmployeeName and TotalPayBenefits with loc and assign them as sal_new df."
   ]
  },
  {
   "cell_type": "code",
   "execution_count": null,
   "metadata": {
    "id": "iXoiBJ8tAd_Z"
   },
   "outputs": [],
   "source": [
    "# YOUR CODE IS HERE\n",
    "\n"
   ]
  },
  {
   "cell_type": "markdown",
   "metadata": {
    "id": "DNrP9BPjbbEG"
   },
   "source": [
    "Desired Output:\n",
    "\n",
    "![image.png](https://i.ibb.co/s2CYS7H/assignment1f.png)"
   ]
  },
  {
   "cell_type": "markdown",
   "metadata": {
    "id": "GLNh6jmxAd_a"
   },
   "source": [
    "### Print out the names of the employees who earn more than min but less than avg."
   ]
  },
  {
   "cell_type": "code",
   "execution_count": null,
   "metadata": {
    "id": "2lk1ZwS9Ad_a"
   },
   "outputs": [],
   "source": [
    "# YOUR CODE IS HERE\n",
    "\n"
   ]
  },
  {
   "cell_type": "markdown",
   "metadata": {
    "id": "PnsdZjnnAd_a"
   },
   "source": [
    "Desired Output:\n",
    "\n",
    "![image.png](https://i.ibb.co/mtNB2TX/assignment1g.png)"
   ]
  },
  {
   "cell_type": "markdown",
   "metadata": {
    "id": "B08a8_05bbEG"
   },
   "source": [
    "<p style=\"text-align: center;\"><img src=\"https://docs.google.com/uc?id=1lY0Uj5R04yMY3-ZppPWxqCr5pvBLYPnV\" class=\"img-fluid\"\n",
    "alt=\"CLRSWY\"></p>\n",
    "\n",
    "## <p style=\"background-color:#FDFEFE; font-family:newtimeroman; color:#9d4f8c; font-size:100%; text-align:center; border-radius:10px 10px;\">WAY TO REINVENT YOURSELF</p>\n",
    "\n",
    "________"
   ]
  }
 ],
 "metadata": {
  "anaconda-cloud": {},
  "colab": {
   "provenance": []
  },
  "kernelspec": {
   "display_name": "Python 3 (ipykernel)",
   "language": "python",
   "name": "python3"
  },
  "language_info": {
   "codemirror_mode": {
    "name": "ipython",
    "version": 3
   },
   "file_extension": ".py",
   "mimetype": "text/x-python",
   "name": "python",
   "nbconvert_exporter": "python",
   "pygments_lexer": "ipython3",
   "version": "3.11.5"
  },
  "toc": {
   "base_numbering": 1,
   "nav_menu": {},
   "number_sections": false,
   "sideBar": true,
   "skip_h1_title": false,
   "title_cell": "Table of Contents",
   "title_sidebar": "Contents",
   "toc_cell": false,
   "toc_position": {},
   "toc_section_display": true,
   "toc_window_display": false
  }
 },
 "nbformat": 4,
 "nbformat_minor": 4
}
