{
 "cells": [
  {
   "cell_type": "markdown",
   "metadata": {
    "deletable": false,
    "editable": false,
    "id": "80gh8Z2cV8O8"
   },
   "source": [
    "<a href=\"https://ondiande.com/contact/\"><img align=\"center\" src=\"https://i.ibb.co/B43qn24/officially-licensed-logo.png\" alt=\"ONDIA Contact\" width=\"110\" height=\"200\" title=\"This notebook is licensed by ONDIA. Please contact the authorized persons about the conditions under which you can use or share.\"></a>"
   ]
  },
  {
   "cell_type": "markdown",
   "metadata": {
    "id": "ABZc6u2UV8O_"
   },
   "source": [
    "<hr>\n",
    "\n",
    "<a href=\"https://lms.clarusway.com/mod/lesson/view.php?id=2463&pageid=4531&startlastseen=no\"><img align=\"center\" src=\"https://i.ibb.co/6Z5pQxD/lmss.png\" alt=\"Open in Clarusway LMS\" width=\"70\" height=\"200\" title=\"Open Clarusway Learning Management Sytem\"></a>\n",
    "\n",
    "<a href=\"https://github.com/clarusway/DS-DE-0322-Students/blob/main/3-%20Classes%26Labs/2-DAwPY/DAwPy_S01_(Numpy_Arrays).ipynb\"><img align=\"left\" src=\"https://i.ibb.co/n3HWyQX/github-logo.png\" alt=\"Open in Clarusway GitHub\" width=\"90\" height=\"150\" title=\"Open and Execute in Clarusway GitHub Repository\"></a>\n",
    "\n",
    "<a href=\"https://nbviewer.org/github/4dsolutions/clarusway_data_analysis/blob/main/DAwPy_S1_%28Numpy_Arrays%29/DAwPy_S1_%28Numpy_Arrays%29.ipynb\"><img align=\"right\" src=\"https://i.ibb.co/48wtV8c/nbviewer-badge.png\" alt=\"Open in nbviewer\" width=\"100\" height=\"100\" title=\"Open and Execute in nbviewer\"></a><br/>\n",
    "\n",
    "<hr>\n",
    "\n",
    "<p style=\"text-align: center;\"><img src=\"https://i.ibb.co/XS0bxSH/best-bootcamps.png\" width=\"300\" height=\"200\" class=\"img-fluid\" alt=\"Best Bootcamp Batches\"></p>\n",
    "\n",
    "<br>\n",
    "\n",
    "<p style=\"text-align: center;\"><img src=\"https://i.ibb.co/Rpz9L36/clarusway-logo-black.png\" width=\"500\" height=\"200\" class=\"img-fluid\" alt=\"CLRSWY_LOGO\"></p>\n",
    "\n",
    "\n",
    "<p style=\"background-color:#E51A59; font-family:newtimeroman; color:#FDFEFE; font-size:130%; text-align:center; border-radius:10px 10px;\">WAY TO REINVENT YOURSELF</p>\n",
    "\n",
    "<br>\n",
    "\n",
    "<img src=https://i.ibb.co/HgnTPh9/stats.png width=\"500\" height=\"200\">\n",
    "\n",
    "\n",
    "![Image_Assignment](https://i.ibb.co/cY9HhF7/bnote-assignment.gif)\n",
    "\n",
    "## <p style=\"background-color:#FDFEFE; font-family:newtimeroman; color:#4d77cf; font-size:175%; text-align:center; border-radius:10px 10px;\">Assignment 01 (Descriptive Statistics & Correlation)</p>"
   ]
  },
  {
   "cell_type": "markdown",
   "metadata": {
    "id": "K7S4cEyZLTp7"
   },
   "source": [
    "## <p style=\"background-color:#58B8E4; font-family:newtimeroman; color:#FFF9ED; font-size:175%; text-align:center; border-radius:10px 10px;\">Descriptive Statistics</p>"
   ]
  },
  {
   "cell_type": "markdown",
   "metadata": {
    "id": "vZRYVyc8H7hi"
   },
   "source": [
    " ### <span style=\"color:#49519E\">1. Import NumPy, SciPy, and Pandas Libraries.<span>"
   ]
  },
  {
   "cell_type": "code",
   "execution_count": 2,
   "metadata": {
    "id": "HAd1lZNGV8PC"
   },
   "outputs": [],
   "source": [
    "# YOUR CODE IS HERE\n",
    "import numpy as np\n",
    "import pandas as ps\n",
    "import scipy\n",
    "\n"
   ]
  },
  {
   "cell_type": "markdown",
   "metadata": {
    "id": "_SaQURIqIA6d"
   },
   "source": [
    "### <span style=\"color:#49519E\">2. Randomly generate 1,000 samples from the normal distribution using `np.random.normal()`(mean=100, standard deviation=15).<span>\n",
    "    \n",
    "#### <span style=\"color:#49519E\">Tip: Use `random.seed()` method from Numpy library to generate the same numbers across multiple runs.<span>   "
   ]
  },
  {
   "cell_type": "code",
   "execution_count": 3,
   "metadata": {
    "id": "v_2bnojEV8PE"
   },
   "outputs": [
    {
     "data": {
      "text/plain": [
       "array([140.60274759, 109.42199063, 113.6195417 , 107.55738631,\n",
       "       109.76676922,  95.21022933,  87.27884525, 109.08948024,\n",
       "        69.72747634, 111.10183086, 107.93220241,  91.164992  ,\n",
       "       102.83042964,  88.61691916,  86.00144176, 114.32584764,\n",
       "       102.86191484, 129.68135986, 139.0895092 , 110.25263328,\n",
       "       104.53998173, 125.40584388,  74.40871104,  82.61320877,\n",
       "        97.97738919, 105.85791764, 102.50356954, 102.76752789,\n",
       "       112.11558871, 101.09439513, 109.5818052 , 104.94469448,\n",
       "        92.54343966,  88.68895448,  85.84890395, 107.27127471,\n",
       "        98.24840025, 128.52632193, 103.57190438, 129.94978428,\n",
       "        85.1010475 , 102.95199257,  82.9503311 , 100.00549719,\n",
       "       115.38976228,  97.65103144,  99.52631284, 109.7473875 ,\n",
       "       132.32269665,  90.84611716,  88.6701199 ,  94.80372245,\n",
       "       102.20540157,  92.80827941, 108.3815411 , 115.37215418,\n",
       "        86.11188612, 127.94296208,  82.99274258, 109.15716861,\n",
       "       105.79045468, 131.26027796,  94.35221987, 103.45504515,\n",
       "       110.21813939, 115.52687612,  99.53259278, 129.09898466,\n",
       "        84.92219624,  88.87315443, 102.80686783,  89.00732279,\n",
       "        79.25619853, 122.23743244, 114.42187234,  67.88181563,\n",
       "       114.8886018 , 117.88360956,  84.29830693, 119.39146865,\n",
       "        77.98728969,  92.58856962,  97.56197898, 107.28713106,\n",
       "       105.88733217, 103.32236028,  87.17205939, 123.12985612,\n",
       "       109.99478981,  91.92648062,  91.47127959, 121.11007372,\n",
       "       109.62708267,  86.42350147,  94.13265059, 115.42439741,\n",
       "        70.41092345,  86.99672447, 110.81181398,  81.65376943,\n",
       "       124.10169792,  83.26435049,  79.21932165,  80.05509912,\n",
       "       100.62189914,  93.83416895,  88.43007093, 101.65716117,\n",
       "        87.93022733, 103.80322062, 109.7372162 , 105.38410788,\n",
       "        83.79292806, 113.53596636, 102.42671782, 112.49543986,\n",
       "       114.63579521,  94.1764195 , 111.74974076,  89.36569393,\n",
       "       108.80270943,  75.67978262, 110.16302671, 100.3915822 ,\n",
       "        74.82574513, 105.00959652,  92.01294212, 131.76591073,\n",
       "       102.96285979, 134.54480898, 110.93535598,  87.05363096,\n",
       "       104.58447267, 103.64766421, 112.96247317,  76.58602829,\n",
       "        96.22154573,  91.32819612, 103.55493446, 103.01170704,\n",
       "       104.9176711 , 110.1172778 ,  97.38915188, 111.70209573,\n",
       "        94.25112803,  93.86022274, 105.1530878 , 102.94412974,\n",
       "        85.25836005, 133.47332865,  85.42911151,  77.16500689,\n",
       "       117.00554486, 107.92280102, 105.9019114 ,  90.5424005 ,\n",
       "        79.02565483,  96.71033926,  99.3148528 , 100.18631485,\n",
       "       101.40441977, 118.6121892 ,  83.53460465,  71.37986768,\n",
       "        94.29844747,  75.00911232,  58.94508107, 122.83843166,\n",
       "       102.67013637,  90.59791892,  94.1336655 , 126.15215421,\n",
       "       116.95027079, 113.46694467, 104.96298431,  84.0542666 ,\n",
       "        98.11928798,  85.81617813, 130.44316277,  84.30462421,\n",
       "        80.40276542,  75.50614005, 112.03194055,  74.98694829,\n",
       "       109.13285938, 104.29709482,  96.91311553, 137.40985279,\n",
       "        91.79110168, 107.45090431,  81.46578608,  88.02358059,\n",
       "       111.3118215 ,  88.41939034,  99.48352545, 110.32612637,\n",
       "       101.22285037,  93.77213326, 100.80492187,  68.27330353,\n",
       "        95.80734678, 115.94065624, 126.28021634, 110.43320087,\n",
       "       102.30491251, 102.51457366,  88.51104888, 114.43448755,\n",
       "       113.54238789,  91.93136265,  76.75493343, 106.52879383,\n",
       "       118.89855534,  93.28152472, 103.99310169, 106.18870242,\n",
       "       114.83159268, 107.70749094,  86.07692753, 112.70355847,\n",
       "        95.52346384, 100.43712214, 113.33546326,  72.41108705,\n",
       "       112.95393403,  83.85114243,  91.29425525, 118.13540927,\n",
       "       118.02616042,  87.69305254,  84.55634265,  77.12716695,\n",
       "        87.17710148, 124.04223305, 102.78218481,  85.08972562,\n",
       "        98.02140795,  79.97362398,  98.66052337, 110.47849606,\n",
       "        78.8631148 , 113.06360525, 123.78718591, 113.94486761,\n",
       "        91.73685995, 114.13067466,  85.36975975,  84.17724104,\n",
       "       132.48131676,  80.99139736,  87.95735243,  96.19780926,\n",
       "       101.36048116, 119.8257302 , 111.9119276 , 120.39567966,\n",
       "       111.57955059, 104.4132494 ,  79.12721408, 102.21229707,\n",
       "        89.05800495,  89.19835378,  95.7211485 , 131.35808724,\n",
       "       115.06084222, 115.4787379 ,  83.78322584,  99.99467558,\n",
       "        96.70177677, 104.39192696, 112.51531782,  97.89352253,\n",
       "       101.78717444, 109.98571879, 106.11379675, 112.11764115,\n",
       "        58.95303332,  85.22270718,  97.67086374,  84.80157981,\n",
       "        83.68846165,  61.48349618, 109.91543797,  95.00618799,\n",
       "        86.07096589, 125.7392525 ,  92.96865571, 112.90145554,\n",
       "       103.45130566, 109.2798699 ,  69.21155617,  97.50030826,\n",
       "        93.31190826, 110.28810647, 141.77514502, 122.85625687,\n",
       "       119.35344896,  77.82520953, 103.2135129 ,  96.39235078,\n",
       "        78.68575786, 104.82489378, 115.10986198, 104.94675479,\n",
       "       113.80787759, 120.23706287,  94.3320776 , 129.33129832,\n",
       "        87.12543683,  96.66684633,  99.23195704,  93.41307965,\n",
       "        77.48438147, 115.87535388, 127.82450744, 107.53375505,\n",
       "       101.71871315,  94.47268755, 106.89014602, 108.78269025,\n",
       "        97.27144465,  90.95146801,  61.71009615,  99.52109539,\n",
       "       121.10783265, 100.91456214,  76.86410913,  87.68335636,\n",
       "        76.01244014,  68.96745465, 122.64620517, 102.62024809,\n",
       "       106.95141254,  66.90336936, 108.16238859, 110.47443601,\n",
       "       118.79415449,  84.27478997,  80.7801956 , 119.15097175,\n",
       "       109.67698571,  95.53544368, 111.33613294, 126.37182617,\n",
       "       104.60568821, 107.94890396, 114.10180407, 111.19331828,\n",
       "        97.88100662, 101.28293211,  71.74286919,  80.28786738,\n",
       "       139.0186014 ,  90.81172057,  74.27556091, 120.25068689,\n",
       "       126.98484815,  80.30719504, 100.50385572,  96.69688098,\n",
       "        95.37292429,  87.36900255,  87.53257365,  92.59088028,\n",
       "       108.29191475,  97.14233278, 103.47413748, 102.33117838,\n",
       "        97.06445969,  90.21820806,  87.13455571,  94.3975723 ,\n",
       "        99.76037854,  78.50304115,  88.21020116, 114.71754163,\n",
       "        87.7464063 , 101.83429905,  78.59862215, 118.90713162,\n",
       "       120.27710567, 103.8577432 , 101.89128604, 106.99066219,\n",
       "        97.96281236,  89.339995  , 112.95468277,  89.09889015,\n",
       "       106.26117743, 119.09904031,  82.07951005,  97.82153056,\n",
       "       100.20279115,  67.65268521,  92.57623794, 101.07654957,\n",
       "        80.62661226, 115.01503301, 125.03516337, 122.20221556,\n",
       "       131.2767385 ,  95.62267509, 117.86957164, 105.10951173,\n",
       "        81.4891373 ,  85.81715563,  93.98474827,  73.30794375,\n",
       "        99.65962524, 100.47211366, 143.32371605, 104.57436063,\n",
       "       120.7989902 , 108.38466346,  89.70300659,  85.45810243,\n",
       "        91.40360492,  94.97575426, 117.49456901, 118.76429904,\n",
       "        94.11830302,  96.28606232,  88.01979919,  97.16035644,\n",
       "       104.15238437,  91.69697638, 102.13061495,  90.41948559,\n",
       "       120.27035227, 103.44631538,  91.42432724, 121.35171924,\n",
       "        73.70763168,  98.03629718, 123.26688674, 118.63972843,\n",
       "       112.08751679,  99.44932354, 115.55817221, 111.1296415 ,\n",
       "       116.49325401,  84.61751215, 116.98254505,  86.22667587,\n",
       "        80.63512159,  99.86685536,  98.91833845, 119.38817514,\n",
       "        96.78613018, 104.87493588,  84.70938919,  81.34972977,\n",
       "        94.49978207, 108.84004565, 139.29501435,  84.03140129,\n",
       "       127.39690315,  95.68905318, 121.46911144,  77.69652392,\n",
       "       103.96948548, 102.41027616,  93.21240504,  95.85792035,\n",
       "        99.98554216, 101.95483402,  71.36878649,  81.00016811,\n",
       "        86.63976164,  58.2405013 ,  79.21040421, 111.18756952,\n",
       "       104.62987777,  85.96493943, 114.11867181,  99.87532786,\n",
       "        85.82163522, 109.39408725, 120.09098402,  94.64875904,\n",
       "       111.07739968, 104.39246053, 104.88648869,  81.08632993,\n",
       "        79.37565309,  83.14806828, 104.69934305,  98.97207432,\n",
       "        97.16974827, 119.42534811, 123.05024782,  71.58202047,\n",
       "        67.75133227,  92.99860377, 106.60459443, 108.71296276,\n",
       "        95.9393032 ,  67.95947153, 128.38205136,  89.53211824,\n",
       "       105.37226769, 100.3134245 ,  95.01792759, 116.79472903,\n",
       "       119.0507412 ,  79.39355554,  61.20609845,  90.06709091,\n",
       "       105.16153987, 104.17862268, 105.38157825, 117.01566832,\n",
       "       115.38456388,  93.36439588,  79.10253771,  88.48018463,\n",
       "       117.92537889,  89.27461802, 117.14162741, 110.183742  ,\n",
       "       132.64215196,  99.83706699,  64.94158235, 130.30929502,\n",
       "       100.50502523,  98.12768497, 121.58763166,  94.76057078,\n",
       "        83.905783  ,  94.70253381, 108.71605466,  94.10201033,\n",
       "       127.39381601,  85.39081816,  88.24601432,  79.25777403,\n",
       "       128.80313769, 126.05809866,  95.45423551,  86.63779604,\n",
       "        73.10879345, 121.81644926, 109.42046624, 109.69397576,\n",
       "        94.30653164, 118.22143643, 100.36941292,  81.95725002,\n",
       "        86.2354319 , 103.95314758,  79.27223909, 107.92887006,\n",
       "        85.61943063,  92.73388143,  91.83881608,  94.9679601 ,\n",
       "       107.82464777,  79.86934279,  89.77118631,  78.93670397,\n",
       "        92.05299476,  84.62880076, 101.94957495, 106.64712861,\n",
       "       129.03731437,  92.61551129, 120.07054845,  91.58334371,\n",
       "        89.61985029, 109.3495848 , 115.22730385, 116.37663635,\n",
       "       107.67015755, 102.16928182, 126.55201898,  92.60519789,\n",
       "        86.99851041,  90.26864958,  80.37528169,  89.66213953,\n",
       "       123.87136512,  75.43033033, 126.30582338,  76.50783972,\n",
       "       116.02789637,  58.6414087 , 126.2278457 ,  89.46975905,\n",
       "       102.86389619,  98.69730881,  94.74003755, 123.21613255,\n",
       "       116.06383542,  99.08627788, 107.07324386, 114.25740219,\n",
       "        95.40347351, 112.92631245, 115.95124954,  90.99939361,\n",
       "        82.58420419, 105.08913882,  86.54409212, 106.49162061,\n",
       "        95.79350799, 115.21799596, 113.7537369 , 131.78129722,\n",
       "       118.9494309 , 108.05447227,  90.81207196,  84.70374867,\n",
       "       108.0153749 , 119.93960155, 113.44139348,  98.05020967,\n",
       "        91.63393576, 117.51271371, 103.91099461,  73.17491473,\n",
       "       123.28687511,  66.60687506,  88.30349501,  93.89629094,\n",
       "       109.14678762,  91.88399291,  89.60701362,  99.53864768,\n",
       "       117.26951103,  94.99762688, 131.82055521, 104.08577521,\n",
       "        92.53036307,  93.58656923,  89.99584451, 110.02663352,\n",
       "        95.66022437,  97.55996487,  90.48247998, 127.35466023,\n",
       "        71.3267733 ,  94.92926986, 105.84580891, 104.82694608,\n",
       "       100.62114327, 111.37297356, 103.8092986 ,  97.00152011,\n",
       "        84.40305633, 105.0855247 ,  83.57524616,  69.57162511,\n",
       "       114.5138982 ,  96.01736239,  92.65684887,  97.04601589,\n",
       "        97.92013884,  95.18013523,  97.22035789, 103.64593584,\n",
       "        98.02858537, 108.00779543, 137.55073015, 114.98588324,\n",
       "       107.26593304, 101.67184601, 105.80025847, 112.14330063,\n",
       "       106.92253653, 117.92332618, 116.46776663,  97.16267619,\n",
       "        93.0292588 , 107.5604558 , 125.32848687,  83.86050451,\n",
       "       106.8823974 ,  99.27255707,  97.82226435,  96.73281089,\n",
       "       123.58500954, 116.2598948 , 102.43129446,  92.40676869,\n",
       "       113.99842236, 105.47568439,  93.62510574,  93.90830501,\n",
       "       104.04828968,  75.16803921,  97.82290495,  95.84804141,\n",
       "        91.56282053, 110.5530338 ,  88.6349911 , 103.59486512,\n",
       "        94.20120727,  94.13220153,  92.66296659, 142.96712267,\n",
       "       101.54326786,  87.53482594,  75.89231019,  77.80978685,\n",
       "        85.18167245,  92.75149492,  96.99459832, 115.79129157,\n",
       "        92.78373297, 105.65022361,  99.54250974, 109.10578218,\n",
       "       107.59803889, 100.46708725,  98.47180924, 129.51941214,\n",
       "       101.62354304,  82.84169456,  91.25559331,  74.87991395,\n",
       "        90.26617518,  77.94892247, 115.39667757, 133.64325424,\n",
       "       104.15346927,  88.523857  ,  88.80022363,  80.78680748,\n",
       "        79.07070514,  96.2088635 , 115.27847549,  93.99479232,\n",
       "        73.34922885, 131.75249797,  71.48788066, 109.15244358,\n",
       "       128.74896701, 118.03032288, 111.87550937,  70.33441244,\n",
       "       112.28224094,  89.28296147,  99.70044488,  78.28303424,\n",
       "        81.23536044,  84.73873447, 128.77409736,  86.41305752,\n",
       "        79.24543909,  63.8297215 , 127.32232424, 110.16073962,\n",
       "        91.87232426,  63.24589119,  83.80065474,  88.09088629,\n",
       "       130.6913956 ,  86.65847638, 109.89242888,  74.12569167,\n",
       "        94.67763322, 115.35503224,  90.64017178,  78.60598597,\n",
       "       111.3722097 , 108.87078304, 104.49121784, 116.91345296,\n",
       "        92.91786506, 105.67877587,  83.12050411,  96.04165094,\n",
       "       101.01983088,  67.36799387,  90.95751315, 110.59815113,\n",
       "        76.03950767,  89.28660743, 101.63546036, 145.56169801,\n",
       "       114.71895928,  91.80174891,  76.41925565,  94.59398775,\n",
       "       100.48393123, 116.47023633,  92.02242292, 112.62684707,\n",
       "       116.63377882,  96.41420484, 111.74099322,  94.48957653,\n",
       "       100.41513719,  77.19569791, 100.6925981 , 112.90633814,\n",
       "       108.73680616,  96.37283217, 115.16301398,  91.13752807,\n",
       "        96.53832072,  79.51879896, 110.22636713,  93.52749867,\n",
       "       103.51995606, 102.9019812 ,  99.92990408, 104.63006892,\n",
       "       111.25189886,  98.69330971, 108.32563343, 102.61669488,\n",
       "       108.75631834,  96.33458469, 115.61583624, 109.43854811,\n",
       "        87.34671996,  97.56304599,  88.78016429,  73.13786249,\n",
       "        96.81669592, 119.95144502, 110.24816878,  99.86526153,\n",
       "       106.44539602, 109.93611278, 118.35185845, 112.63335867,\n",
       "       131.99705053, 117.38927247,  73.91654983, 102.0102935 ,\n",
       "       115.60070353,  96.99535909,  76.59675615, 100.75503971,\n",
       "        90.83099005,  66.53444421,  98.11820875, 116.24877851,\n",
       "       110.73176814, 110.61267795, 102.58680474,  84.06539369,\n",
       "       118.54170176,  96.64482632,  90.92520031, 102.7936458 ,\n",
       "       126.07073881, 107.69607088, 105.35563581,  86.40857705,\n",
       "       129.40502477, 113.62594077, 124.68130017, 127.77689668,\n",
       "        82.22696629, 113.47194207, 111.99918481,  72.87389484,\n",
       "       105.47226071,  93.20603362,  70.14703948, 111.99641822,\n",
       "        97.0496931 ,  99.13585233, 111.40028731, 101.23493449,\n",
       "       106.7755847 ,  81.26079061, 111.89533013,  94.58983222,\n",
       "        84.62966167,  94.57102751, 111.32124287,  78.07316597,\n",
       "       110.27099856,  94.28873345, 128.12209832, 110.93663619,\n",
       "       104.93443351, 112.30312533,  92.18058332, 107.17407641,\n",
       "        97.09605379,  91.67551757, 103.87568618,  98.13669185,\n",
       "       120.30328408, 104.71078961, 105.1783997 ,  97.46970231,\n",
       "       119.39369624,  71.99290225,  72.13390734,  82.2331317 ,\n",
       "       100.28820099,  70.22602918,  84.04939107, 110.28571241,\n",
       "       108.05397561,  77.94980558, 110.52864337, 123.2533892 ,\n",
       "       132.33930002, 102.6614864 , 104.44882643,  98.49713481,\n",
       "       125.55080243, 107.95012545,  85.89468117, 112.70698236,\n",
       "        90.79519363, 108.96227365,  80.85191947,  98.29296976,\n",
       "       136.69429269,  82.04594239, 103.57119159, 117.55186142,\n",
       "        96.50389247, 116.23971116, 107.12322721,  90.80735675,\n",
       "        88.15263628, 103.06136909,  73.11036381,  80.76378111,\n",
       "       102.96841175,  81.6825723 ,  96.22978649,  81.73090595,\n",
       "       118.79372051, 113.53902705, 106.78105287, 102.8620908 ,\n",
       "        91.97514737,  82.58832843, 131.93528428, 109.28591228,\n",
       "        97.56469961, 106.70479088, 114.4198793 , 119.71258368,\n",
       "       125.35985853, 111.15897759,  87.64310029, 101.22764961,\n",
       "       107.64579202,  98.78645392, 101.28406793,  53.5429206 ,\n",
       "       125.26374524,  97.60199198, 125.91806722, 114.25894554,\n",
       "       106.20578715, 130.7229453 ,  89.59007161, 141.66671113,\n",
       "       101.45055406,  72.05242253,  89.34867493, 101.83555552,\n",
       "        72.52455944,  97.91053929,  93.03357291,  89.21534942,\n",
       "        91.58979136,  88.05382755, 103.03358361, 104.24767351,\n",
       "        97.94602973, 100.97233036, 104.63552854, 108.54753479,\n",
       "       103.41897358, 128.13443036, 125.80933197,  84.25782442,\n",
       "        84.02074999,  84.47510822, 111.65092032,  90.9929098 ,\n",
       "       117.85416054,  86.08082091,  78.39222374,  73.95956353,\n",
       "        74.95838029,  93.72694447, 130.85500425, 110.83996998,\n",
       "       101.91627698,  89.26092171,  94.93601136,  88.19642351,\n",
       "        93.94009034, 102.97722954, 109.69065806,  94.5834016 ])"
      ]
     },
     "execution_count": 3,
     "metadata": {},
     "output_type": "execute_result"
    }
   ],
   "source": [
    "# YOUR CODE IS HERE\n",
    "\n",
    "np.random.seed(101)\n",
    "samples = np.random.normal(loc=100, scale=15, size=1000)\n",
    "samples\n",
    "\n"
   ]
  },
  {
   "cell_type": "markdown",
   "metadata": {
    "id": "CDF8m3a4IYOC"
   },
   "source": [
    "  ### <span style=\"color:#49519E\">3. Calculate the mean, median, and mode.<span>"
   ]
  },
  {
   "cell_type": "code",
   "execution_count": 7,
   "metadata": {},
   "outputs": [],
   "source": [
    "from scipy import stats\n"
   ]
  },
  {
   "cell_type": "code",
   "execution_count": 13,
   "metadata": {
    "id": "UcF8-bY_V8PE"
   },
   "outputs": [
    {
     "name": "stdout",
     "output_type": "stream",
     "text": [
      "mean : 100.39648901814616\n",
      "median : 100.47802244633601\n",
      "mode ModeResult(mode=53.54292060233615, count=1)\n"
     ]
    }
   ],
   "source": [
    "# YOUR CODE IS HERE\n",
    "mean_samples = np.mean(samples)\n",
    "median_samples = np.median(samples)\n",
    "mode_samples = stats.mode(samples)\n",
    "print('mean :', mean_samples)\n",
    "print('median :', median_samples)\n",
    "print('mode', mode_samples)\n"
   ]
  },
  {
   "cell_type": "markdown",
   "metadata": {
    "id": "skT8m39XI60w"
   },
   "source": [
    "  ### <span style=\"color:#49519E\">4. Calculate the min, max, Q1, Q3, and interquartile range.<span>"
   ]
  },
  {
   "cell_type": "code",
   "execution_count": 20,
   "metadata": {
    "id": "kYpqd0W-V8PF"
   },
   "outputs": [
    {
     "name": "stdout",
     "output_type": "stream",
     "text": [
      "min: 53.54292060233615\n",
      "max: 145.56169800892786\n",
      "Q1:  89.36143918472267\n",
      "Q3:  111.0835074739686\n",
      "IQR:  21.722068289245925\n"
     ]
    }
   ],
   "source": [
    "# YOUR CODE IS HERE\n",
    "print(\"min:\", np.min(samples))\n",
    "print(\"max:\", np.max(samples))\n",
    "Q1 = np.percentile(samples, 25)\n",
    "Q3 = np.percentile(samples, 75)\n",
    "IQR = Q3 - Q1 \n",
    "\n",
    "print(\"Q1: \", Q1)\n",
    "print(\"Q3: \", Q3)\n",
    "print(\"IQR: \", IQR)\n"
   ]
  },
  {
   "cell_type": "markdown",
   "metadata": {
    "id": "m53Dv3n5JHQi"
   },
   "source": [
    "  ### <span style=\"color:#49519E\">5. Calculate the variance and standard deviation.<span>"
   ]
  },
  {
   "cell_type": "code",
   "execution_count": 23,
   "metadata": {
    "id": "PJNWGb1ZV8PF"
   },
   "outputs": [
    {
     "name": "stdout",
     "output_type": "stream",
     "text": [
      "variance :  249.43694425874236\n",
      "std :  15.79357287819138\n"
     ]
    }
   ],
   "source": [
    "# YOUR CODE IS HERE\n",
    "\n",
    "print('variance : ', np.var(samples))\n",
    "print('std : ', np.std(samples))\n",
    "\n"
   ]
  },
  {
   "cell_type": "markdown",
   "metadata": {
    "id": "5eup4hI1JzqX"
   },
   "source": [
    "  ### <span style=\"color:#49519E\">6. Calculate the skewness and kurtosis.<span>"
   ]
  },
  {
   "cell_type": "code",
   "execution_count": 26,
   "metadata": {
    "id": "1oM_Dxg4V8PG"
   },
   "outputs": [
    {
     "name": "stdout",
     "output_type": "stream",
     "text": [
      "skewness:  0.024170308610170436\n",
      "kurtosis:  -0.2025674295950397\n"
     ]
    }
   ],
   "source": [
    "# YOUR CODE IS HERE\n",
    "from scipy.stats import kurtosis, skew\n",
    "\n",
    "print('skewness: ', skew(samples))\n",
    "print('kurtosis: ', kurtosis(samples))\n"
   ]
  },
  {
   "cell_type": "markdown",
   "metadata": {
    "id": "a5UNc8PUKnbU"
   },
   "source": [
    "## <p style=\"background-color:#58B8E4; font-family:newtimeroman; color:#FFF9ED; font-size:175%; text-align:center; border-radius:10px 10px;\">Correlation Calculation in NumPy</p>"
   ]
  },
  {
   "cell_type": "markdown",
   "metadata": {
    "id": "cLiqxE1CMNTg"
   },
   "source": [
    "### <span style=\"color:#49519E\">7. Create an array `x` of integers between 10 (inclusive) and 20 (exclusive). Use `np.arange()`.<span>"
   ]
  },
  {
   "cell_type": "code",
   "execution_count": 29,
   "metadata": {
    "id": "-Z6R-HLSV8PG"
   },
   "outputs": [
    {
     "data": {
      "text/plain": [
       "array([10, 11, 12, 13, 14, 15, 16, 17, 18, 19])"
      ]
     },
     "execution_count": 29,
     "metadata": {},
     "output_type": "execute_result"
    }
   ],
   "source": [
    "# YOUR CODE IS HERE\n",
    "x = np.arange(10, 20)\n",
    "x\n"
   ]
  },
  {
   "cell_type": "markdown",
   "metadata": {
    "id": "qyCIaukNMZPf"
   },
   "source": [
    "### <span style=\"color:#49519E\">8. Then use `np.array()` to create a second array `y` containing 10 arbitrary integers.<span>"
   ]
  },
  {
   "cell_type": "code",
   "execution_count": 30,
   "metadata": {
    "id": "ddpswSvqV8PH"
   },
   "outputs": [
    {
     "data": {
      "text/plain": [
       "array([ 3,  9, 13, 65, 25,  2, 98,  7, 45, 12])"
      ]
     },
     "execution_count": 30,
     "metadata": {},
     "output_type": "execute_result"
    }
   ],
   "source": [
    "# YOUR CODE IS HERE\n",
    "y = np.array([3, 9, 13, 65, 25, 2, 98, 7, 45, 12])\n",
    "y"
   ]
  },
  {
   "cell_type": "markdown",
   "metadata": {
    "id": "Kh_VeKwINSqS"
   },
   "source": [
    "### <span style=\"color:#49519E\">9. Calculate the correlation coefficient between `x` and `y`.<span>"
   ]
  },
  {
   "cell_type": "code",
   "execution_count": 31,
   "metadata": {
    "id": "tmNOTfQ6V8PH"
   },
   "outputs": [
    {
     "data": {
      "text/plain": [
       "array([[1.        , 0.21809732],\n",
       "       [0.21809732, 1.        ]])"
      ]
     },
     "execution_count": 31,
     "metadata": {},
     "output_type": "execute_result"
    }
   ],
   "source": [
    "# YOUR CODE IS HERE\n",
    "corr = np.corrcoef(x, y)\n",
    "corr\n",
    "\n"
   ]
  },
  {
   "cell_type": "markdown",
   "metadata": {
    "id": "vXieLjYiNtPi"
   },
   "source": [
    "## <p style=\"background-color:#58B8E4; font-family:newtimeroman; color:#FFF9ED; font-size:175%; text-align:center; border-radius:10px 10px;\">Correlation Calculation in Pandas</p>"
   ]
  },
  {
   "cell_type": "code",
   "execution_count": 33,
   "metadata": {},
   "outputs": [],
   "source": [
    "import pandas as pd"
   ]
  },
  {
   "cell_type": "markdown",
   "metadata": {
    "id": "z56t0k0qNvkr"
   },
   "source": [
    "### <span style=\"color:#49519E\">10. Run the code below.<span>"
   ]
  },
  {
   "cell_type": "code",
   "execution_count": 34,
   "metadata": {
    "id": "9AVBMJCyNuwb"
   },
   "outputs": [],
   "source": [
    "x = pd.Series(range(10, 20))\n",
    "y = pd.Series([2, 1, 4, 5, 8, 12, 18, 25, 96, 48])"
   ]
  },
  {
   "cell_type": "code",
   "execution_count": 35,
   "metadata": {},
   "outputs": [
    {
     "data": {
      "text/plain": [
       "0    10\n",
       "1    11\n",
       "2    12\n",
       "3    13\n",
       "4    14\n",
       "5    15\n",
       "6    16\n",
       "7    17\n",
       "8    18\n",
       "9    19\n",
       "dtype: int64"
      ]
     },
     "execution_count": 35,
     "metadata": {},
     "output_type": "execute_result"
    }
   ],
   "source": [
    "x"
   ]
  },
  {
   "cell_type": "code",
   "execution_count": 36,
   "metadata": {},
   "outputs": [
    {
     "data": {
      "text/plain": [
       "0     2\n",
       "1     1\n",
       "2     4\n",
       "3     5\n",
       "4     8\n",
       "5    12\n",
       "6    18\n",
       "7    25\n",
       "8    96\n",
       "9    48\n",
       "dtype: int64"
      ]
     },
     "execution_count": 36,
     "metadata": {},
     "output_type": "execute_result"
    }
   ],
   "source": [
    "y"
   ]
  },
  {
   "cell_type": "markdown",
   "metadata": {
    "id": "ZajVXYe2OCih"
   },
   "source": [
    "### <span style=\"color:#49519E\">11. Calculate the `Pearson's r` correlation.<span>"
   ]
  },
  {
   "cell_type": "code",
   "execution_count": 38,
   "metadata": {
    "id": "5LLoMqxHV8PI"
   },
   "outputs": [
    {
     "data": {
      "text/plain": [
       "0.7586402890911867"
      ]
     },
     "execution_count": 38,
     "metadata": {},
     "output_type": "execute_result"
    }
   ],
   "source": [
    "# YOUR CODE IS HERE\n",
    "x.corr(y)\n"
   ]
  },
  {
   "cell_type": "markdown",
   "metadata": {
    "id": "1CygSbnROb9V"
   },
   "source": [
    "### <span style=\"color:#49519E\">12. OPTIONAL. Calculate the relevant method to calculate `Spearman's rho` correlation.<span>"
   ]
  },
  {
   "cell_type": "code",
   "execution_count": 39,
   "metadata": {
    "id": "N3LM48XiV8PI"
   },
   "outputs": [
    {
     "data": {
      "text/plain": [
       "0.9757575757575757"
      ]
     },
     "execution_count": 39,
     "metadata": {},
     "output_type": "execute_result"
    }
   ],
   "source": [
    "# YOUR CODE IS HERE\n",
    "x.corr(y, method='spearman')"
   ]
  },
  {
   "cell_type": "markdown",
   "metadata": {
    "id": "we7pg7kdOo7y"
   },
   "source": [
    "## <p style=\"background-color:#58B8E4; font-family:newtimeroman; color:#FFF9ED; font-size:175%; text-align:center; border-radius:10px 10px;\">Study wit Seaborn Dataset-Tips</p>"
   ]
  },
  {
   "cell_type": "markdown",
   "metadata": {
    "id": "VlzgFKN7OvqX"
   },
   "source": [
    "### <span style=\"color:#49519E\">13. Import Seaborn Library as `sns`.<span>"
   ]
  },
  {
   "cell_type": "code",
   "execution_count": 40,
   "metadata": {
    "id": "wasaVyngV8PJ"
   },
   "outputs": [],
   "source": [
    "# YOUR CODE IS HERE\n",
    "import seaborn as sns  \n"
   ]
  },
  {
   "cell_type": "markdown",
   "metadata": {
    "id": "0INVBB4tO4y4"
   },
   "source": [
    "### <span style=\"color:#49519E\">14. Load `tips` dataset from Seaborn Library.<span>"
   ]
  },
  {
   "cell_type": "code",
   "execution_count": 45,
   "metadata": {
    "id": "ovWS6zyFV8PJ"
   },
   "outputs": [
    {
     "data": {
      "text/html": [
       "<div>\n",
       "<style scoped>\n",
       "    .dataframe tbody tr th:only-of-type {\n",
       "        vertical-align: middle;\n",
       "    }\n",
       "\n",
       "    .dataframe tbody tr th {\n",
       "        vertical-align: top;\n",
       "    }\n",
       "\n",
       "    .dataframe thead th {\n",
       "        text-align: right;\n",
       "    }\n",
       "</style>\n",
       "<table border=\"1\" class=\"dataframe\">\n",
       "  <thead>\n",
       "    <tr style=\"text-align: right;\">\n",
       "      <th></th>\n",
       "      <th>total_bill</th>\n",
       "      <th>tip</th>\n",
       "      <th>sex</th>\n",
       "      <th>smoker</th>\n",
       "      <th>day</th>\n",
       "      <th>time</th>\n",
       "      <th>size</th>\n",
       "    </tr>\n",
       "  </thead>\n",
       "  <tbody>\n",
       "    <tr>\n",
       "      <th>0</th>\n",
       "      <td>16.99</td>\n",
       "      <td>1.01</td>\n",
       "      <td>Female</td>\n",
       "      <td>No</td>\n",
       "      <td>Sun</td>\n",
       "      <td>Dinner</td>\n",
       "      <td>2</td>\n",
       "    </tr>\n",
       "    <tr>\n",
       "      <th>1</th>\n",
       "      <td>10.34</td>\n",
       "      <td>1.66</td>\n",
       "      <td>Male</td>\n",
       "      <td>No</td>\n",
       "      <td>Sun</td>\n",
       "      <td>Dinner</td>\n",
       "      <td>3</td>\n",
       "    </tr>\n",
       "    <tr>\n",
       "      <th>2</th>\n",
       "      <td>21.01</td>\n",
       "      <td>3.50</td>\n",
       "      <td>Male</td>\n",
       "      <td>No</td>\n",
       "      <td>Sun</td>\n",
       "      <td>Dinner</td>\n",
       "      <td>3</td>\n",
       "    </tr>\n",
       "    <tr>\n",
       "      <th>3</th>\n",
       "      <td>23.68</td>\n",
       "      <td>3.31</td>\n",
       "      <td>Male</td>\n",
       "      <td>No</td>\n",
       "      <td>Sun</td>\n",
       "      <td>Dinner</td>\n",
       "      <td>2</td>\n",
       "    </tr>\n",
       "    <tr>\n",
       "      <th>4</th>\n",
       "      <td>24.59</td>\n",
       "      <td>3.61</td>\n",
       "      <td>Female</td>\n",
       "      <td>No</td>\n",
       "      <td>Sun</td>\n",
       "      <td>Dinner</td>\n",
       "      <td>4</td>\n",
       "    </tr>\n",
       "    <tr>\n",
       "      <th>...</th>\n",
       "      <td>...</td>\n",
       "      <td>...</td>\n",
       "      <td>...</td>\n",
       "      <td>...</td>\n",
       "      <td>...</td>\n",
       "      <td>...</td>\n",
       "      <td>...</td>\n",
       "    </tr>\n",
       "    <tr>\n",
       "      <th>239</th>\n",
       "      <td>29.03</td>\n",
       "      <td>5.92</td>\n",
       "      <td>Male</td>\n",
       "      <td>No</td>\n",
       "      <td>Sat</td>\n",
       "      <td>Dinner</td>\n",
       "      <td>3</td>\n",
       "    </tr>\n",
       "    <tr>\n",
       "      <th>240</th>\n",
       "      <td>27.18</td>\n",
       "      <td>2.00</td>\n",
       "      <td>Female</td>\n",
       "      <td>Yes</td>\n",
       "      <td>Sat</td>\n",
       "      <td>Dinner</td>\n",
       "      <td>2</td>\n",
       "    </tr>\n",
       "    <tr>\n",
       "      <th>241</th>\n",
       "      <td>22.67</td>\n",
       "      <td>2.00</td>\n",
       "      <td>Male</td>\n",
       "      <td>Yes</td>\n",
       "      <td>Sat</td>\n",
       "      <td>Dinner</td>\n",
       "      <td>2</td>\n",
       "    </tr>\n",
       "    <tr>\n",
       "      <th>242</th>\n",
       "      <td>17.82</td>\n",
       "      <td>1.75</td>\n",
       "      <td>Male</td>\n",
       "      <td>No</td>\n",
       "      <td>Sat</td>\n",
       "      <td>Dinner</td>\n",
       "      <td>2</td>\n",
       "    </tr>\n",
       "    <tr>\n",
       "      <th>243</th>\n",
       "      <td>18.78</td>\n",
       "      <td>3.00</td>\n",
       "      <td>Female</td>\n",
       "      <td>No</td>\n",
       "      <td>Thur</td>\n",
       "      <td>Dinner</td>\n",
       "      <td>2</td>\n",
       "    </tr>\n",
       "  </tbody>\n",
       "</table>\n",
       "<p>244 rows × 7 columns</p>\n",
       "</div>"
      ],
      "text/plain": [
       "     total_bill   tip     sex smoker   day    time  size\n",
       "0         16.99  1.01  Female     No   Sun  Dinner     2\n",
       "1         10.34  1.66    Male     No   Sun  Dinner     3\n",
       "2         21.01  3.50    Male     No   Sun  Dinner     3\n",
       "3         23.68  3.31    Male     No   Sun  Dinner     2\n",
       "4         24.59  3.61  Female     No   Sun  Dinner     4\n",
       "..          ...   ...     ...    ...   ...     ...   ...\n",
       "239       29.03  5.92    Male     No   Sat  Dinner     3\n",
       "240       27.18  2.00  Female    Yes   Sat  Dinner     2\n",
       "241       22.67  2.00    Male    Yes   Sat  Dinner     2\n",
       "242       17.82  1.75    Male     No   Sat  Dinner     2\n",
       "243       18.78  3.00  Female     No  Thur  Dinner     2\n",
       "\n",
       "[244 rows x 7 columns]"
      ]
     },
     "execution_count": 45,
     "metadata": {},
     "output_type": "execute_result"
    }
   ],
   "source": [
    "# YOUR CODE IS HERE\n",
    "df = sns.load_dataset(\"tips\")\n",
    "df"
   ]
  },
  {
   "cell_type": "markdown",
   "metadata": {
    "id": "o2ISqVQrPh5S"
   },
   "source": [
    "### <span style=\"color:#49519E\">15. Generate Descriptive Statistics including those that summarize the central tendency, dispersion.<span>"
   ]
  },
  {
   "cell_type": "code",
   "execution_count": 43,
   "metadata": {
    "id": "iSqxD_K_V8PK"
   },
   "outputs": [
    {
     "data": {
      "text/html": [
       "<div>\n",
       "<style scoped>\n",
       "    .dataframe tbody tr th:only-of-type {\n",
       "        vertical-align: middle;\n",
       "    }\n",
       "\n",
       "    .dataframe tbody tr th {\n",
       "        vertical-align: top;\n",
       "    }\n",
       "\n",
       "    .dataframe thead th {\n",
       "        text-align: right;\n",
       "    }\n",
       "</style>\n",
       "<table border=\"1\" class=\"dataframe\">\n",
       "  <thead>\n",
       "    <tr style=\"text-align: right;\">\n",
       "      <th></th>\n",
       "      <th>total_bill</th>\n",
       "      <th>tip</th>\n",
       "      <th>size</th>\n",
       "    </tr>\n",
       "  </thead>\n",
       "  <tbody>\n",
       "    <tr>\n",
       "      <th>count</th>\n",
       "      <td>244.000000</td>\n",
       "      <td>244.000000</td>\n",
       "      <td>244.000000</td>\n",
       "    </tr>\n",
       "    <tr>\n",
       "      <th>mean</th>\n",
       "      <td>19.785943</td>\n",
       "      <td>2.998279</td>\n",
       "      <td>2.569672</td>\n",
       "    </tr>\n",
       "    <tr>\n",
       "      <th>std</th>\n",
       "      <td>8.902412</td>\n",
       "      <td>1.383638</td>\n",
       "      <td>0.951100</td>\n",
       "    </tr>\n",
       "    <tr>\n",
       "      <th>min</th>\n",
       "      <td>3.070000</td>\n",
       "      <td>1.000000</td>\n",
       "      <td>1.000000</td>\n",
       "    </tr>\n",
       "    <tr>\n",
       "      <th>25%</th>\n",
       "      <td>13.347500</td>\n",
       "      <td>2.000000</td>\n",
       "      <td>2.000000</td>\n",
       "    </tr>\n",
       "    <tr>\n",
       "      <th>50%</th>\n",
       "      <td>17.795000</td>\n",
       "      <td>2.900000</td>\n",
       "      <td>2.000000</td>\n",
       "    </tr>\n",
       "    <tr>\n",
       "      <th>75%</th>\n",
       "      <td>24.127500</td>\n",
       "      <td>3.562500</td>\n",
       "      <td>3.000000</td>\n",
       "    </tr>\n",
       "    <tr>\n",
       "      <th>max</th>\n",
       "      <td>50.810000</td>\n",
       "      <td>10.000000</td>\n",
       "      <td>6.000000</td>\n",
       "    </tr>\n",
       "  </tbody>\n",
       "</table>\n",
       "</div>"
      ],
      "text/plain": [
       "       total_bill         tip        size\n",
       "count  244.000000  244.000000  244.000000\n",
       "mean    19.785943    2.998279    2.569672\n",
       "std      8.902412    1.383638    0.951100\n",
       "min      3.070000    1.000000    1.000000\n",
       "25%     13.347500    2.000000    2.000000\n",
       "50%     17.795000    2.900000    2.000000\n",
       "75%     24.127500    3.562500    3.000000\n",
       "max     50.810000   10.000000    6.000000"
      ]
     },
     "execution_count": 43,
     "metadata": {},
     "output_type": "execute_result"
    }
   ],
   "source": [
    "# YOUR CODE IS HERE\n",
    "df.describe()\n"
   ]
  },
  {
   "cell_type": "markdown",
   "metadata": {
    "id": "3yCRK4VJPzRo"
   },
   "source": [
    "### <span style=\"color:#49519E\">16. Calculate `Pairwise Pearson's r` correlation of columns.<span>"
   ]
  },
  {
   "cell_type": "code",
   "execution_count": 53,
   "metadata": {
    "id": "YKAoR2QRV8PK"
   },
   "outputs": [
    {
     "data": {
      "text/html": [
       "<div>\n",
       "<style scoped>\n",
       "    .dataframe tbody tr th:only-of-type {\n",
       "        vertical-align: middle;\n",
       "    }\n",
       "\n",
       "    .dataframe tbody tr th {\n",
       "        vertical-align: top;\n",
       "    }\n",
       "\n",
       "    .dataframe thead th {\n",
       "        text-align: right;\n",
       "    }\n",
       "</style>\n",
       "<table border=\"1\" class=\"dataframe\">\n",
       "  <thead>\n",
       "    <tr style=\"text-align: right;\">\n",
       "      <th></th>\n",
       "      <th>total_bill</th>\n",
       "      <th>tip</th>\n",
       "      <th>size</th>\n",
       "    </tr>\n",
       "  </thead>\n",
       "  <tbody>\n",
       "    <tr>\n",
       "      <th>total_bill</th>\n",
       "      <td>1.000000</td>\n",
       "      <td>0.675734</td>\n",
       "      <td>0.598315</td>\n",
       "    </tr>\n",
       "    <tr>\n",
       "      <th>tip</th>\n",
       "      <td>0.675734</td>\n",
       "      <td>1.000000</td>\n",
       "      <td>0.489299</td>\n",
       "    </tr>\n",
       "    <tr>\n",
       "      <th>size</th>\n",
       "      <td>0.598315</td>\n",
       "      <td>0.489299</td>\n",
       "      <td>1.000000</td>\n",
       "    </tr>\n",
       "  </tbody>\n",
       "</table>\n",
       "</div>"
      ],
      "text/plain": [
       "            total_bill       tip      size\n",
       "total_bill    1.000000  0.675734  0.598315\n",
       "tip           0.675734  1.000000  0.489299\n",
       "size          0.598315  0.489299  1.000000"
      ]
     },
     "execution_count": 53,
     "metadata": {},
     "output_type": "execute_result"
    }
   ],
   "source": [
    "# YOUR CODE IS HERE\n",
    "df1 = df.select_dtypes(include=['number'])\n",
    "df1.corr(method='pearson')\n"
   ]
  },
  {
   "cell_type": "markdown",
   "metadata": {
    "id": "CbTcJThZV8PK"
   },
   "source": [
    "### <span style=\"color:#49519E\">17. Visualize mutual relationships of features by `pairplot'.<span>"
   ]
  },
  {
   "cell_type": "code",
   "execution_count": 56,
   "metadata": {},
   "outputs": [],
   "source": [
    "import matplotlib.pyplot as plt"
   ]
  },
  {
   "cell_type": "code",
   "execution_count": 57,
   "metadata": {
    "id": "vzhEk_9JV8PR"
   },
   "outputs": [
    {
     "data": {
      "image/png": "[encoded data removed]",
      "text/plain": [
       "<Figure size 750x750 with 12 Axes>"
      ]
     },
     "metadata": {},
     "output_type": "display_data"
    }
   ],
   "source": [
    "# YOUR CODE IS HERE\n",
    "\n",
    "sns.pairplot(df1)\n",
    "plt.show()"
   ]
  },
  {
   "cell_type": "markdown",
   "metadata": {
    "id": "g1fpZx0rV8PR"
   },
   "source": [
    "## <p style=\"background-color:#8CCED1; font-family:newtimeroman; color:#49519E; font-size:150%; text-align:center; border-radius:10px 10px;\">END OF THE ASSIGNMENT-01</p>\n",
    "\n",
    "# Now. it's time to relax!\n",
    "\n",
    "<p style=\"text-align: center;\"> <img src=\"https://i.ibb.co/qRXLyxs/blur-book-close-up-coffee-459265-scaled-e1596132095495.jpg\" width=\"800\" height=\"200\"\n",
    "\n",
    "[Image Credit](https://www.tuscany-villas.nl/in-toscane/2021/eten-en-wijn/accademia-del-caffe-espresso)\n",
    "\n",
    "<p style=\"text-align: center;\"><img src=\"https://i.ibb.co/99DQ3TY/DS-Courses.png\" class=\"img-fluid\"\n",
    "alt=\"CLRSWY_Courses\"></p>"
   ]
  },
  {
   "cell_type": "markdown",
   "metadata": {
    "deletable": false,
    "editable": false,
    "id": "pjcelkFqV8PR"
   },
   "source": [
    "<a href=\"https://ondiande.com/contact/\"><img align=\"center\" src=\"https://i.ibb.co/B43qn24/officially-licensed-logo.png\" alt=\"ONDIA Contact\" width=\"110\" height=\"200\" title=\"This notebook is licensed by ONDIA. Please contact the authorized persons about the conditions under which you can use or share.\"></a>"
   ]
  }
 ],
 "metadata": {
  "colab": {
   "provenance": [
    {
     "file_id": "1F8Ul2u7h9i9IQx5FDqVHJRsk6YPoOPBb",
     "timestamp": 1673022924234
    },
    {
     "file_id": "11XAqQ0T6shqmXGPZRiiUt8MIQEjvcH5T",
     "timestamp": 1642515419901
    }
   ]
  },
  "kernelspec": {
   "display_name": "Python 3 (ipykernel)",
   "language": "python",
   "name": "python3"
  },
  "language_info": {
   "codemirror_mode": {
    "name": "ipython",
    "version": 3
   },
   "file_extension": ".py",
   "mimetype": "text/x-python",
   "name": "python",
   "nbconvert_exporter": "python",
   "pygments_lexer": "ipython3",
   "version": "3.11.5"
  },
  "toc": {
   "base_numbering": "",
   "nav_menu": {},
   "number_sections": false,
   "sideBar": true,
   "skip_h1_title": false,
   "title_cell": "Table of Contents",
   "title_sidebar": "Contents",
   "toc_cell": false,
   "toc_position": {
    "height": "calc(100% - 180px)",
    "left": "10px",
    "top": "150px",
    "width": "307.2px"
   },
   "toc_section_display": true,
   "toc_window_display": true
  },
  "varInspector": {
   "cols": {
    "lenName": 16,
    "lenType": 16,
    "lenVar": 40
   },
   "kernels_config": {
    "python": {
     "delete_cmd_postfix": "",
     "delete_cmd_prefix": "del ",
     "library": "var_list.py",
     "varRefreshCmd": "print(var_dic_list())"
    },
    "r": {
     "delete_cmd_postfix": ") ",
     "delete_cmd_prefix": "rm(",
     "library": "var_list.r",
     "varRefreshCmd": "cat(var_dic_list()) "
    }
   },
   "types_to_exclude": [
    "module",
    "function",
    "builtin_function_or_method",
    "instance",
    "_Feature"
   ],
   "window_display": false
  }
 },
 "nbformat": 4,
 "nbformat_minor": 4
}
